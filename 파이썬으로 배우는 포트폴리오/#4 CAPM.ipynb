{
 "cells": [
  {
   "attachments": {},
   "cell_type": "markdown",
   "metadata": {},
   "source": [
    "# Ch 4 CAPM_자본 자산 가격결정 모델\n",
    "\n"
   ]
  },
  {
   "cell_type": "code",
   "execution_count": 1,
   "metadata": {},
   "outputs": [
    {
     "name": "stdout",
     "output_type": "stream",
     "text": [
      "The portfolio beta is 1.09\n"
     ]
    }
   ],
   "source": [
    "import numpy as np\n",
    "\n",
    "# 52-weeks beta\n",
    "beta52 = [1.38, 0.47, 1.02]\n",
    "\n",
    "# investment amount\n",
    "investment = [5, 2, 3]\n",
    "sumOfInvestment = sum(investment)\n",
    "weights = [w/sumOfInvestment for w in investment]\n",
    "\n",
    "beta = np.dot(beta52, weights)\n",
    "print('The portfolio beta is {0:0.2f}'.format(beta))"
   ]
  },
  {
   "cell_type": "code",
   "execution_count": 2,
   "metadata": {},
   "outputs": [],
   "source": [
    "import pandas as pd\n",
    "import math\n",
    "\n",
    "url = 'https://raw.githubusercontent.com/jimsjoo/gilbut_portfolio/master/portfolioAB.csv'\n",
    "df = pd.read_csv(url)"
   ]
  },
  {
   "cell_type": "code",
   "execution_count": 3,
   "metadata": {},
   "outputs": [
    {
     "data": {
      "text/html": [
       "<div>\n",
       "<style scoped>\n",
       "    .dataframe tbody tr th:only-of-type {\n",
       "        vertical-align: middle;\n",
       "    }\n",
       "\n",
       "    .dataframe tbody tr th {\n",
       "        vertical-align: top;\n",
       "    }\n",
       "\n",
       "    .dataframe thead th {\n",
       "        text-align: right;\n",
       "    }\n",
       "</style>\n",
       "<table border=\"1\" class=\"dataframe\">\n",
       "  <thead>\n",
       "    <tr style=\"text-align: right;\">\n",
       "      <th></th>\n",
       "      <th>KOSPI</th>\n",
       "      <th>PortA</th>\n",
       "      <th>PortB</th>\n",
       "    </tr>\n",
       "  </thead>\n",
       "  <tbody>\n",
       "    <tr>\n",
       "      <th>0</th>\n",
       "      <td>NaN</td>\n",
       "      <td>NaN</td>\n",
       "      <td>NaN</td>\n",
       "    </tr>\n",
       "    <tr>\n",
       "      <th>1</th>\n",
       "      <td>0.002970</td>\n",
       "      <td>0.000454</td>\n",
       "      <td>0.000555</td>\n",
       "    </tr>\n",
       "    <tr>\n",
       "      <th>2</th>\n",
       "      <td>0.004833</td>\n",
       "      <td>0.000944</td>\n",
       "      <td>0.001189</td>\n",
       "    </tr>\n",
       "    <tr>\n",
       "      <th>3</th>\n",
       "      <td>-0.005561</td>\n",
       "      <td>-0.000934</td>\n",
       "      <td>-0.001178</td>\n",
       "    </tr>\n",
       "    <tr>\n",
       "      <th>4</th>\n",
       "      <td>0.000000</td>\n",
       "      <td>0.001813</td>\n",
       "      <td>0.002082</td>\n",
       "    </tr>\n",
       "  </tbody>\n",
       "</table>\n",
       "</div>"
      ],
      "text/plain": [
       "      KOSPI     PortA     PortB\n",
       "0       NaN       NaN       NaN\n",
       "1  0.002970  0.000454  0.000555\n",
       "2  0.004833  0.000944  0.001189\n",
       "3 -0.005561 -0.000934 -0.001178\n",
       "4  0.000000  0.001813  0.002082"
      ]
     },
     "execution_count": 3,
     "metadata": {},
     "output_type": "execute_result"
    }
   ],
   "source": [
    "returns = df[['KOSPI', 'PortA', 'PortB']].pct_change()\n",
    "returns.head()"
   ]
  },
  {
   "cell_type": "code",
   "execution_count": 4,
   "metadata": {},
   "outputs": [
    {
     "data": {
      "text/html": [
       "<div>\n",
       "<style scoped>\n",
       "    .dataframe tbody tr th:only-of-type {\n",
       "        vertical-align: middle;\n",
       "    }\n",
       "\n",
       "    .dataframe tbody tr th {\n",
       "        vertical-align: top;\n",
       "    }\n",
       "\n",
       "    .dataframe thead th {\n",
       "        text-align: right;\n",
       "    }\n",
       "</style>\n",
       "<table border=\"1\" class=\"dataframe\">\n",
       "  <thead>\n",
       "    <tr style=\"text-align: right;\">\n",
       "      <th></th>\n",
       "      <th>KOSPI</th>\n",
       "      <th>PortA</th>\n",
       "      <th>PortB</th>\n",
       "    </tr>\n",
       "  </thead>\n",
       "  <tbody>\n",
       "    <tr>\n",
       "      <th>0</th>\n",
       "      <td>NaN</td>\n",
       "      <td>NaN</td>\n",
       "      <td>NaN</td>\n",
       "    </tr>\n",
       "    <tr>\n",
       "      <th>1</th>\n",
       "      <td>0.002970</td>\n",
       "      <td>0.000454</td>\n",
       "      <td>0.000555</td>\n",
       "    </tr>\n",
       "    <tr>\n",
       "      <th>2</th>\n",
       "      <td>0.004833</td>\n",
       "      <td>0.000944</td>\n",
       "      <td>0.001189</td>\n",
       "    </tr>\n",
       "    <tr>\n",
       "      <th>3</th>\n",
       "      <td>-0.005561</td>\n",
       "      <td>-0.000934</td>\n",
       "      <td>-0.001178</td>\n",
       "    </tr>\n",
       "    <tr>\n",
       "      <th>4</th>\n",
       "      <td>0.000000</td>\n",
       "      <td>0.001813</td>\n",
       "      <td>0.002082</td>\n",
       "    </tr>\n",
       "    <tr>\n",
       "      <th>...</th>\n",
       "      <td>...</td>\n",
       "      <td>...</td>\n",
       "      <td>...</td>\n",
       "    </tr>\n",
       "    <tr>\n",
       "      <th>1983</th>\n",
       "      <td>0.000000</td>\n",
       "      <td>0.001553</td>\n",
       "      <td>0.001856</td>\n",
       "    </tr>\n",
       "    <tr>\n",
       "      <th>1984</th>\n",
       "      <td>0.000000</td>\n",
       "      <td>0.000257</td>\n",
       "      <td>0.000304</td>\n",
       "    </tr>\n",
       "    <tr>\n",
       "      <th>1985</th>\n",
       "      <td>0.000000</td>\n",
       "      <td>-0.000337</td>\n",
       "      <td>-0.000396</td>\n",
       "    </tr>\n",
       "    <tr>\n",
       "      <th>1986</th>\n",
       "      <td>0.000000</td>\n",
       "      <td>0.000124</td>\n",
       "      <td>0.000147</td>\n",
       "    </tr>\n",
       "    <tr>\n",
       "      <th>1987</th>\n",
       "      <td>0.006354</td>\n",
       "      <td>0.000718</td>\n",
       "      <td>0.000875</td>\n",
       "    </tr>\n",
       "  </tbody>\n",
       "</table>\n",
       "<p>1988 rows × 3 columns</p>\n",
       "</div>"
      ],
      "text/plain": [
       "         KOSPI     PortA     PortB\n",
       "0          NaN       NaN       NaN\n",
       "1     0.002970  0.000454  0.000555\n",
       "2     0.004833  0.000944  0.001189\n",
       "3    -0.005561 -0.000934 -0.001178\n",
       "4     0.000000  0.001813  0.002082\n",
       "...        ...       ...       ...\n",
       "1983  0.000000  0.001553  0.001856\n",
       "1984  0.000000  0.000257  0.000304\n",
       "1985  0.000000 -0.000337 -0.000396\n",
       "1986  0.000000  0.000124  0.000147\n",
       "1987  0.006354  0.000718  0.000875\n",
       "\n",
       "[1988 rows x 3 columns]"
      ]
     },
     "execution_count": 4,
     "metadata": {},
     "output_type": "execute_result"
    }
   ],
   "source": [
    "returns"
   ]
  },
  {
   "cell_type": "code",
   "execution_count": 5,
   "metadata": {},
   "outputs": [
    {
     "name": "stdout",
     "output_type": "stream",
     "text": [
      "KOSPI200 변동성: 9.83%\n",
      "KOSPI200 변동성: 4.15%\n",
      "KOSPI200 변동성: 4.76%\n"
     ]
    }
   ],
   "source": [
    "# annual volatility for market(KOSPI), portfolios A & B\n",
    "vol_m = returns['KOSPI'].std() * math.sqrt(250)\n",
    "vol_A = returns['PortA'].std() * math.sqrt(250)\n",
    "vol_B = returns['PortB'].std() * math.sqrt(250)\n",
    "\n",
    "print('KOSPI200 변동성: {:0.2%}'.format(vol_m))\n",
    "print('KOSPI200 변동성: {:0.2%}'.format(vol_A))\n",
    "print('KOSPI200 변동성: {:0.2%}'.format(vol_B))"
   ]
  },
  {
   "cell_type": "code",
   "execution_count": 6,
   "metadata": {},
   "outputs": [
    {
     "data": {
      "text/html": [
       "<div>\n",
       "<style scoped>\n",
       "    .dataframe tbody tr th:only-of-type {\n",
       "        vertical-align: middle;\n",
       "    }\n",
       "\n",
       "    .dataframe tbody tr th {\n",
       "        vertical-align: top;\n",
       "    }\n",
       "\n",
       "    .dataframe thead th {\n",
       "        text-align: right;\n",
       "    }\n",
       "</style>\n",
       "<table border=\"1\" class=\"dataframe\">\n",
       "  <thead>\n",
       "    <tr style=\"text-align: right;\">\n",
       "      <th></th>\n",
       "      <th>KOSPI</th>\n",
       "      <th>PortA</th>\n",
       "      <th>PortB</th>\n",
       "    </tr>\n",
       "  </thead>\n",
       "  <tbody>\n",
       "    <tr>\n",
       "      <th>KOSPI</th>\n",
       "      <td>3.862196e-05</td>\n",
       "      <td>5.944607e-07</td>\n",
       "      <td>7.196522e-07</td>\n",
       "    </tr>\n",
       "    <tr>\n",
       "      <th>PortA</th>\n",
       "      <td>5.944607e-07</td>\n",
       "      <td>6.894783e-06</td>\n",
       "      <td>7.903467e-06</td>\n",
       "    </tr>\n",
       "    <tr>\n",
       "      <th>PortB</th>\n",
       "      <td>7.196522e-07</td>\n",
       "      <td>7.903467e-06</td>\n",
       "      <td>9.080296e-06</td>\n",
       "    </tr>\n",
       "  </tbody>\n",
       "</table>\n",
       "</div>"
      ],
      "text/plain": [
       "              KOSPI         PortA         PortB\n",
       "KOSPI  3.862196e-05  5.944607e-07  7.196522e-07\n",
       "PortA  5.944607e-07  6.894783e-06  7.903467e-06\n",
       "PortB  7.196522e-07  7.903467e-06  9.080296e-06"
      ]
     },
     "execution_count": 6,
     "metadata": {},
     "output_type": "execute_result"
    }
   ],
   "source": [
    "covs = returns.cov()\n",
    "covs"
   ]
  },
  {
   "cell_type": "code",
   "execution_count": 7,
   "metadata": {},
   "outputs": [
    {
     "data": {
      "text/plain": [
       "(5.944606657255714e-07, 7.19652182717938e-07)"
      ]
     },
     "execution_count": 7,
     "metadata": {},
     "output_type": "execute_result"
    }
   ],
   "source": [
    "cov_mA = covs.loc['KOSPI', 'PortA']\n",
    "cov_mB = covs.loc['KOSPI', 'PortB']\n",
    "\n",
    "(cov_mA, cov_mB)"
   ]
  },
  {
   "cell_type": "code",
   "execution_count": 8,
   "metadata": {},
   "outputs": [
    {
     "data": {
      "text/plain": [
       "3.862196138341903e-05"
      ]
     },
     "execution_count": 8,
     "metadata": {},
     "output_type": "execute_result"
    }
   ],
   "source": [
    "# market(KOSPI) volatility\n",
    "var_m = returns['KOSPI'].var()\n",
    "var_m"
   ]
  },
  {
   "cell_type": "code",
   "execution_count": 9,
   "metadata": {},
   "outputs": [
    {
     "name": "stdout",
     "output_type": "stream",
     "text": [
      "Portfolio A의 beta: 0.015392\n",
      "Portfolio B의 beta: 0.018633\n"
     ]
    }
   ],
   "source": [
    "# beta for portfoilo A & portfolio B\n",
    "beta_A = cov_mA / var_m\n",
    "beta_B = cov_mB / var_m\n",
    "\n",
    "print('Portfolio A의 beta: {:4f}'.format(beta_A))\n",
    "print('Portfolio B의 beta: {:4f}'.format(beta_B))"
   ]
  },
  {
   "attachments": {},
   "cell_type": "markdown",
   "metadata": {},
   "source": [
    "## digression\n",
    "\n",
    "Yahoo Finance나 Naver 금융 또는 "
   ]
  }
 ],
 "metadata": {
  "kernelspec": {
   "display_name": "Python 3",
   "language": "python",
   "name": "python3"
  },
  "language_info": {
   "codemirror_mode": {
    "name": "ipython",
    "version": 3
   },
   "file_extension": ".py",
   "mimetype": "text/x-python",
   "name": "python",
   "nbconvert_exporter": "python",
   "pygments_lexer": "ipython3",
   "version": "3.11.3"
  },
  "orig_nbformat": 4
 },
 "nbformat": 4,
 "nbformat_minor": 2
}
