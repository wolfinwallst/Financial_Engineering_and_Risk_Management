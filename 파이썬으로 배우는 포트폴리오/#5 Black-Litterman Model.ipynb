{
 "cells": [
  {
   "attachments": {},
   "cell_type": "markdown",
   "metadata": {},
   "source": [
    "# #5. Black-Litterman model\n",
    "\n",
    "#### #5.9 블랙-리터만 모델 최적화 (p 199)\n",
    "\n",
    "Optimization condition for BL model:\n",
    "\n",
    "\\begin{align*}\n",
    "    \\max \\Sigma_{i=1}^n \\mu BL_i &- \\frac{\\lambda}{2} \\Sigma_{i=1}^n \\Sigma_{j=1}^n \\sigma_{ij} w_i w_j \\\\\n",
    "    \\text{Subject to} \\quad \\Sigma_{i=1}^n w_i &=\n",
    "    \n",
    "     1, w_i \\geq 0. i=1, 2, 3, \\ldots, n\n",
    "\\end{align*}\n",
    "\n",
    "; this enables us to compute the weights $w_i$ for asset allocation.\n",
    "\n",
    "아래는 Sharpe 비율을 최대로하는 tangent portfolio 최적화를 수행하는 코드다:"
   ]
  },
  {
   "cell_type": "code",
   "execution_count": 1,
   "metadata": {},
   "outputs": [],
   "source": [
    "import matplotlib.pylab as plt\n",
    "import numpy as np\n",
    "from numpy.linalg import inv\n",
    "import pandas as pd\n",
    "from pandas_datareader import data as web\n",
    "from scipy.optimize import minimize"
   ]
  },
  {
   "cell_type": "code",
   "execution_count": 2,
   "metadata": {},
   "outputs": [],
   "source": [
    "# 최적의 비중 계산을 위한 목적함수\n",
    "# obj. funciton for optimizing weights\n",
    "def solveWeights(R, C, rf):\n",
    "    def obj(W, R, C, rf):\n",
    "        mean = sum (R * W)\n",
    "        var = np.dot(np.dot(W, C), W)\n",
    "        \n",
    "        # Sharpe's ratio as utility function: want to maximize\n",
    "        util = (mean -rf) / np.sqrt(var)\n",
    "        return 1 / util\n",
    "    \n",
    "    # number of assets\n",
    "    n = len(R)\n",
    "    \n",
    "    # initial weights\n",
    "    W = np.ones([n]) / n\n",
    "    \n",
    "    # doesn't allow short-selling nor borrowing\n",
    "    # 비중 범위는 0-100% 사이: 공매도나 차입조건이 없음\n",
    "    bnds = [(0., 1.) for i in range(n)]\n",
    "    \n",
    "    # constraints: sum of weights = 1\n",
    "    cons = ({'type': 'eq', 'fun': lambda W: sum(W) - 1.})\n",
    "\n",
    "    # W는 초기값, (R, C, rf)는 추가 인수\n",
    "    res = minimize(obj, W, (R, C, rf), method='SLSQP', constraints=cons, bounds=bnds)\n",
    "\n",
    "    # res.success: 최적화(minimize())가 성공적으로 수행되었는지를 나타내는 Boolean 값\n",
    "    # False이면 res.message로 그 원인을 알 수 있다\n",
    "    if not res.success:\n",
    "        raise BaseException(res.message)\n",
    "    \n",
    "    return res.x"
   ]
  },
  {
   "cell_type": "code",
   "execution_count": 4,
   "metadata": {},
   "outputs": [
    {
     "name": "stdout",
     "output_type": "stream",
     "text": [
      "Optimal Weights: [0.5 0.5]\n"
     ]
    }
   ],
   "source": [
    "# example 1\n",
    "R = np.array([0.05, 0.08])  # 자산 기대수익률\n",
    "C = np.array([[0.01, 0.02],\n",
    "              [0.02, 0.04]])  # 자산 공분산\n",
    "rf = 0.02  # 무위험 이자율\n",
    "weights = solveWeights(R, C, rf)  # 최적 비중 계산\n",
    "\n",
    "print(\"Optimal Weights:\", weights)"
   ]
  },
  {
   "cell_type": "code",
   "execution_count": 5,
   "metadata": {},
   "outputs": [
    {
     "name": "stdout",
     "output_type": "stream",
     "text": [
      "[0.07040263 0.02735284 0.90224453]\n"
     ]
    }
   ],
   "source": [
    "# example 2\n",
    "R = [0.05, 0.08, 0.12]  # 자산의 기대수익률\n",
    "C = [[0.04, 0.02, 0.01],\n",
    "     [0.02, 0.09, 0.03],\n",
    "     [0.01, 0.03, 0.06]]  # 자산들 간의 공분산 행렬\n",
    "rf = 0.03  # 무위험 이자율\n",
    "\n",
    "weights = solveWeights(R, C, rf)\n",
    "print(weights)"
   ]
  },
  {
   "cell_type": "code",
   "execution_count": 9,
   "metadata": {},
   "outputs": [],
   "source": [
    "# 무위험 수익률, 수익률, Cov로 효율적 투자선 계산\n",
    "# calculating Efficient Frontier via risk-less rate, return rate and the Covariance\n",
    "def solveFrontier(R, C, rf):\n",
    "\n",
    "    # 최적 비중 계산을 위한 목적함수\n",
    "    def obj(W, R, C, r):\n",
    "\n",
    "        # 주어진 수익률에서 분산을 최소화하는 비중 계산\n",
    "        mean = sum(R * W)\n",
    "        var = np.dot(np.dot(W, C), W)\n",
    "\n",
    "        # 최적화 제약조건 페널티\n",
    "        penalty = 100 * abs(mean - r)\n",
    "        return var + penalty\n",
    "    \n",
    "    # eff. frontier의 평균과 분산이 될 list\n",
    "    frontier_mean, frontier_var = [ ], [ ]\n",
    "    n = len(R)\n",
    "    \n",
    "    # 수익률 최저에서 최대 사이에서 목표 수익률(r)을 다양하게 설정하여 포트폴리오 최적화를 반복\n",
    "    for r in np.linspace(min(R), max(R), num=20):\n",
    "        W = np.ones([n]) / n\n",
    "        bnds = [(0, 1) for i in range(n)]\n",
    "        cons = [{'type': 'eq', 'fun': lambda W: sum(W) - 1.}]\n",
    "\n",
    "        res = minimize(obj, W, (R, C, r), method='SLSQP', constraints=cons, bounds=bnds)\n",
    "\n",
    "        if not res.success:\n",
    "            raise BaseException(res.message)\n",
    "        \n",
    "        frontier_mean.append(r)\n",
    "        frontier_var.append(np.dot(np.dot(res.x, C), res.x))\n",
    "\n",
    "    return np.array(frontier_mean), np.array(frontier_var)"
   ]
  },
  {
   "attachments": {},
   "cell_type": "markdown",
   "metadata": {},
   "source": [
    "위 코드에서 obj. f'tn의 penalty 항을 주목해보자:\n",
    "\n",
    "이러한 패널티는 효율적인 포트폴리오 최적화를 위해 사용된다. 목표 수익률과 실제 포트폴리오의 수익률이 일치하는 경우에는 패널티가 없다. 그러나 목표 수익률과 포트폴리오 수익률 간에 차이가 클수록 패널티가 증가한다.\n",
    "\n",
    "이를 통해, 목표 수익률과 가능한 작은 분산을 동시에 달성하는 포트폴리오를 찾기 위해 최적화 과정에서 목표 수익률에 가까운 포트폴리오를 선호하도록 유도한다. 따라서 목적함수에 패널티 항을 추가하여 수익률과 분산의 트레이드오프를 조정하고 최적의 포트폴리오를 찾을 수 있게 된다."
   ]
  },
  {
   "cell_type": "code",
   "execution_count": 10,
   "metadata": {},
   "outputs": [
    {
     "name": "stdout",
     "output_type": "stream",
     "text": [
      "Mean Return: 0.0800, Variance: 0.0200\n",
      "Mean Return: 0.0837, Variance: 0.0176\n",
      "Mean Return: 0.0874, Variance: 0.0158\n",
      "Mean Return: 0.0911, Variance: 0.0148\n",
      "Mean Return: 0.0947, Variance: 0.0144\n",
      "Mean Return: 0.0984, Variance: 0.0152\n",
      "Mean Return: 0.1021, Variance: 0.0146\n",
      "Mean Return: 0.1058, Variance: 0.0151\n",
      "Mean Return: 0.1095, Variance: 0.0158\n",
      "Mean Return: 0.1132, Variance: 0.0167\n",
      "Mean Return: 0.1168, Variance: 0.0178\n",
      "Mean Return: 0.1205, Variance: 0.0192\n",
      "Mean Return: 0.1242, Variance: 0.0208\n",
      "Mean Return: 0.1279, Variance: 0.0225\n",
      "Mean Return: 0.1316, Variance: 0.0246\n",
      "Mean Return: 0.1353, Variance: 0.0268\n",
      "Mean Return: 0.1389, Variance: 0.0292\n",
      "Mean Return: 0.1426, Variance: 0.0320\n",
      "Mean Return: 0.1463, Variance: 0.0355\n",
      "Mean Return: 0.1500, Variance: 0.0400\n"
     ]
    }
   ],
   "source": [
    "# example\n",
    "R = np.array([0.08, 0.12, 0.15])  # 수익률\n",
    "C = np.array([[0.02, 0.005, 0.01], \n",
    "              [0.005, 0.03, 0.02], \n",
    "              [0.01, 0.02, 0.04]])  # 공분산\n",
    "rf = 0.05  # 무위험 이자율\n",
    "\n",
    "# Efficient Frontier 계산\n",
    "frontier_mean, frontier_var = solveFrontier(R, C, rf)\n",
    "\n",
    "# 결과 출력\n",
    "for mean, var in zip(frontier_mean, frontier_var):\n",
    "    print(f\"Mean Return: {mean:.4f}, Variance: {var:.4f}\")"
   ]
  },
  {
   "cell_type": "code",
   "execution_count": null,
   "metadata": {},
   "outputs": [],
   "source": [
    "# 효율적 포트폴리오 최적화\n",
    "def optimize_frontier(R, C, rf):\n",
    "\n",
    "    # tangency portfolio 계산\n",
    "    W = solveWeights(R, C, rf)\n",
    "\n",
    "    tan_mean = sum(R * W)\n",
    "    tan_var = np.dot(np.dot(W, C), W)\n",
    "\n",
    "    # 효율적 포트폴리오 계산\n",
    "    eff_mean, eff_var = solveFrontier(R, C, rf)\n",
    "    \n",
    "    # dict 타입으로 리턴\n",
    "    return {'weights':W, 'tan_mean':tan_mean, 'tan_var':tan_var, 'eff_mean':eff_mean, 'eff_var':eff_var}"
   ]
  },
  {
   "cell_type": "code",
   "execution_count": null,
   "metadata": {},
   "outputs": [],
   "source": [
    "# 자산에 대한 투자자의 전망 (행렬)과 전망의 기대수익률 행렬\n",
    "def CreateMatrixPQ(names, views):\n",
    "    r, c = len(views), len(names)\n",
    "\n",
    "    # views[i][3] = exp. return(기대 수익률)\n",
    "    Q = [views[i][3] for i in range(r)]\n",
    "    \n",
    "    nameToIndex = dict()\n",
    "    for i, n in enumerate(names):\n",
    "        nameToIndex[n] = i\n",
    "    \n",
    "    P = np.zeros([r, c])\n",
    "    for i, v in enumerate(views):\n",
    "        name1, name2 = views[i][0], views[i][2]\n",
    "        P[i, nameToIndex[name1]] = +1 if views[i][1] == '>' else -1\n",
    "        P[i, nameToIndex[name2]] = -1 if views[i][1] == '>' else +1\n",
    "    \n",
    "    return np.array(Q), P"
   ]
  },
  {
   "cell_type": "code",
   "execution_count": null,
   "metadata": {},
   "outputs": [],
   "source": [
    "# read the data\n",
    "tickers = ['PFE','INTC','NFLX','JPM','XOM','GOOG','JNJ','AAPL','AMZN']\n",
    "cap = {'PFE':201102000000,'INTC':257259000000,'NFLX':184922000000,\n",
    "       'JPM':272178000000,'XOM':178228000000,'GOOG':866683000000,\n",
    "       'JNJ':403335000000,'AAPL':1208000000000,'AMZN':1178000000000\n",
    "      }\n",
    "\n",
    "prices, caps = [ ], [ ]\n",
    "\n",
    "for s in tickers:\n",
    "    pxclose = web.DataReader(s, data_source='yahoo', start='01-01-2018', end='31-12-2019')['Adj Close']\n",
    "    prices.append(list(pxclose))\n",
    "    caps.append(cap[s])"
   ]
  },
  {
   "cell_type": "code",
   "execution_count": null,
   "metadata": {},
   "outputs": [],
   "source": [
    "n = len(tickers)\n",
    "W = np.array(caps) / sum(caps)\n",
    "prices = np.matrix(prices)\n",
    "\n",
    "rows, cols = prices.shape\n",
    "returns = np.empty([rows, cols - 1])\n",
    "for r in range(rows):\n",
    "    for c in range(cols - 1):\n",
    "        p0, p1 = prices[r, c], prices[r, c + 1]\n",
    "        returns[r, c] = (p1 / p0) - 1\n",
    "\n",
    "expreturns = np.array([])\n",
    "for r in range(rows):\n",
    "    expreturns = np.append(expreturns, np.mean(returns[r]))\n",
    "\n",
    "covars = np.cov(returns)\n",
    "R = (1 + expreturns) ** 250 - 1\n",
    "C = covars * 250\n",
    "\n",
    "rf = .015"
   ]
  },
  {
   "cell_type": "code",
   "execution_count": null,
   "metadata": {},
   "outputs": [],
   "source": [
    "expreturns"
   ]
  }
 ],
 "metadata": {
  "kernelspec": {
   "display_name": "Python 3",
   "language": "python",
   "name": "python3"
  },
  "language_info": {
   "codemirror_mode": {
    "name": "ipython",
    "version": 3
   },
   "file_extension": ".py",
   "mimetype": "text/x-python",
   "name": "python",
   "nbconvert_exporter": "python",
   "pygments_lexer": "ipython3",
   "version": "3.11.3"
  },
  "orig_nbformat": 4
 },
 "nbformat": 4,
 "nbformat_minor": 2
}
