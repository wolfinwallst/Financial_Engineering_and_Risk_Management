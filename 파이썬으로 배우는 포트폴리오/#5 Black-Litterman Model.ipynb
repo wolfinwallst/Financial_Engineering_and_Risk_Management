{
 "cells": [
  {
   "attachments": {},
   "cell_type": "markdown",
   "metadata": {},
   "source": [
    "# #5. Black-Litterman model"
   ]
  },
  {
   "cell_type": "code",
   "execution_count": 1,
   "metadata": {},
   "outputs": [],
   "source": [
    "import matplotlib.pylab as plt\n",
    "import numpy as np\n",
    "from numpy.linalg import inv\n",
    "import pandas as pd\n",
    "from pandas_datareader import data as web\n",
    "from scipy.optimize import minimize"
   ]
  },
  {
   "cell_type": "code",
   "execution_count": 2,
   "metadata": {},
   "outputs": [],
   "source": [
    "# 최적의 비중 계산을 위한 목적함수\n",
    "# obj. funciton for optimizing weights\n",
    "def solveWeights(R, C, rf):\n",
    "    def obj(W, R, C, rf):\n",
    "        mean = sum (R * W)\n",
    "        var = np.dot(np.dot(W, C), W)\n",
    "        \n",
    "        # Sharpe's ratio as utility function: want to maximize\n",
    "        util = (mean -rf) / np.sqrt(var)\n",
    "        return 1 / util\n",
    "    \n",
    "    # number of assets\n",
    "    n = len(R)\n",
    "    \n",
    "    # initial weights\n",
    "    W = np.ones([n]) / n\n",
    "    \n",
    "    # doesn't allow short-selling nor borrowing\n",
    "    # 비중 범위는 0-100% 사이: 공매도나 차입조건이 없음\n",
    "    bnds = [(0., 1.) for i in range(n)]\n",
    "    \n",
    "    # constraints: sum of weights = 1\n",
    "    cons = ({'type': 'eq', 'fun': lambda W: sum(W) - 1.})\n",
    "\n",
    "    res = minimize(obj, W, (R, C, rf), method='SLSQP', constraints=cons, bounds=bnds)\n",
    "\n",
    "    if not res.success:\n",
    "        raise BaseException(res.message)\n",
    "    \n",
    "    return res.x"
   ]
  },
  {
   "cell_type": "code",
   "execution_count": 3,
   "metadata": {},
   "outputs": [],
   "source": [
    "# 무위험 수익률, 수익률, Cov로 효율적 투자선 계산\n",
    "# calculating Efficient Frontier via risk-less rate, return rate and the Covariance\n",
    "def solveFrontier(R, C, rf):\n",
    "\n",
    "    # 최적 비중 계산을 위한 목적함수\n",
    "    def obj(W, R, C, r):\n",
    "\n",
    "        # 주어진 수익률에서 분산을 최소화하는 비중 계산\n",
    "        mean = sum(R * W)\n",
    "        var = np.dot(np.dot(W, C), W)\n",
    "\n",
    "        # 최적화 제약조건 페널티\n",
    "        penalty = 100 * abs(mean - r)\n",
    "        return var + penalty\n",
    "    \n",
    "    frontier_mean, frontier_var = [ ], [ ]\n",
    "    n = len(R)\n",
    "    \n",
    "    # 수익률 최저에서 최대 사이를 반복\n",
    "    for r in np.linspace(min(R), max(R), num=20):\n",
    "        W = np.ones([n]) / n\n",
    "\n",
    "        bnds = [(0, 1) for i in range(n)]\n",
    "        cons = [{'type': 'eq', 'fun': lambda W: sum(W) - 1.}]\n",
    "\n",
    "        res = minimize(obj, W, (R, C, r), method='SLSQP', constraints=cons, bounds=bnds)\n",
    "\n",
    "        if not res.success:\n",
    "            raise BaseException(res.message)\n",
    "        \n",
    "        frontier_mean.append(r)\n",
    "        frontier_var.apend(np.dot(np.dot(res.x, C), res.x))\n",
    "\n",
    "    return np.array(frontier_mean), np.array(frontier_var)"
   ]
  },
  {
   "cell_type": "code",
   "execution_count": 4,
   "metadata": {},
   "outputs": [],
   "source": [
    "# 효율적 포트폴리오 최적화\n",
    "def optimize_frontier(R, C, rf):\n",
    "\n",
    "    # tangency portfolio 계산\n",
    "    W = solveWeights(R, C, rf)\n",
    "\n",
    "    tan_mean = sum(R * W)\n",
    "    tan_var = np.dot(np.dot(W, C), W)\n",
    "\n",
    "    # 효율적 포트폴리오 계산\n",
    "    eff_mean, eff_var = solveFrontier(R, C, rf)\n",
    "    \n",
    "    # dict 타입으로 리턴\n",
    "    return {'weights':W, 'tan_mean':tan_mean, 'tan_var':tan_var, 'eff_mean':eff_mean, 'eff_var':eff_var}"
   ]
  },
  {
   "cell_type": "code",
   "execution_count": null,
   "metadata": {},
   "outputs": [],
   "source": [
    "# 자산에 대한 투자자의 전망 (행렬)과 전망의 기대수익률 행렬\n",
    "def CreateMatrixPQ(names, views):\n",
    "    r, c = len(views), len(names)\n",
    "\n",
    "    # views[i][3] = exp. return(기대 수익률)\n",
    "    Q = [views[i][3] for i in range(r)]"
   ]
  },
  {
   "cell_type": "code",
   "execution_count": null,
   "metadata": {},
   "outputs": [],
   "source": [
    "# read the data\n",
    "tickers = ['PFE','INTC','NFLX','JPM','XOM','GOOG','JNJ','AAPL','AMZN']\n",
    "cap = {'PFE':201102000000,'INTC':257259000000,'NFLX':184922000000,\n",
    "       'JPM':272178000000,'XOM':178228000000,'GOOG':866683000000,\n",
    "       'JNJ':403335000000,'AAPL':1208000000000,'AMZN':1178000000000\n",
    "      }\n",
    "\n",
    "prices, caps = [ ], [ ]\n",
    "\n",
    "for s in tickers:\n",
    "    pxclose = web.DataReader(s, data_source='yahoo', start='01-01-2018', end='31-12-2019')['Adj Close']\n",
    "    prices.append(list(pxclose))\n",
    "    caps.append(cap[s])"
   ]
  },
  {
   "cell_type": "code",
   "execution_count": null,
   "metadata": {},
   "outputs": [],
   "source": [
    "n = len(tickers)\n",
    "W = np.array(caps) / sum(caps)\n",
    "prices = np.matrix(prices)\n",
    "\n",
    "rows, cols = prices.shape\n",
    "returns = np.empty([rows, cols - 1])\n",
    "for r in range(rows):\n",
    "    for c in range(cols - 1):\n",
    "        p0, p1 = prices[r, c], prices[r, c + 1]\n",
    "        returns[r, c] = (p1 / p0) - 1\n",
    "\n",
    "expreturns = np.array([])\n",
    "for r in range(rows):\n",
    "    expreturns = np.append(expreturns, np.mean(returns[r]))\n",
    "\n",
    "covars = np.cov(returns)\n",
    "R = (1 + expreturns) ** 250 - 1\n",
    "C = covars * 250\n",
    "\n",
    "rf = .015"
   ]
  },
  {
   "cell_type": "code",
   "execution_count": null,
   "metadata": {},
   "outputs": [],
   "source": [
    "expreturns"
   ]
  }
 ],
 "metadata": {
  "kernelspec": {
   "display_name": "Python 3",
   "language": "python",
   "name": "python3"
  },
  "language_info": {
   "codemirror_mode": {
    "name": "ipython",
    "version": 3
   },
   "file_extension": ".py",
   "mimetype": "text/x-python",
   "name": "python",
   "nbconvert_exporter": "python",
   "pygments_lexer": "ipython3",
   "version": "3.11.3"
  },
  "orig_nbformat": 4
 },
 "nbformat": 4,
 "nbformat_minor": 2
}
