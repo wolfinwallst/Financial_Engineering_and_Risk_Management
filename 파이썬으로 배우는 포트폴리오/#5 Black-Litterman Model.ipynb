{
 "cells": [
  {
   "attachments": {},
   "cell_type": "markdown",
   "metadata": {},
   "source": [
    "# #5. Black-Litterman model"
   ]
  },
  {
   "cell_type": "code",
   "execution_count": 1,
   "metadata": {},
   "outputs": [],
   "source": [
    "import matplotlib.pylab as plt\n",
    "import numpy as np\n",
    "from numpy.linalg import inv\n",
    "import pandas as pd\n",
    "from pandas_datareader import data as web\n",
    "from scipy.optimize import minimize"
   ]
  },
  {
   "cell_type": "code",
   "execution_count": 2,
   "metadata": {},
   "outputs": [],
   "source": [
    "# 최적의 비중 계산을 위한 목적함수\n",
    "# obj. funciton for optimizing weights\n",
    "def solveWeights(R, C, rf):\n",
    "    def obj(W, R, C, rf):\n",
    "        mean = sum (R * W)\n",
    "        var = np.dot(np.dot(W, C), W)\n",
    "        \n",
    "        # Sharpe's ratio as utility function: want to maximize\n",
    "        util = (mean -rf) / np.sqrt(var)\n",
    "        return 1 / util\n",
    "    \n",
    "    # number of assets\n",
    "    n = len(R)\n",
    "    \n",
    "    # initial weights\n",
    "    W = np.ones([n]) / n\n",
    "    \n",
    "    # doesn't allow short-selling nor borrowing\n",
    "    # 비중 범위는 0-100% 사이: 공매도나 차입조건이 없음\n",
    "    bnds = [(0., 1.) for i in range(n)]\n",
    "    \n",
    "    # constraints: sum of weights = 1\n",
    "    cons = ({'type': 'eq', 'fun': lambda W: sum(W) - 1.})\n",
    "\n",
    "    res = minimize(obj, W, (R, C, rf), method='SLSQP', constraints=cons, bounds=bnds)\n",
    "\n",
    "    if not res.success:\n",
    "        raise BaseException(res.message)\n",
    "    \n",
    "    return res.x"
   ]
  },
  {
   "cell_type": "code",
   "execution_count": null,
   "metadata": {},
   "outputs": [],
   "source": [
    "# 무위험 수익률, 수익률, Cov로 효율적 투자선 계산\n",
    "# calculating Efficient Frontier via risk-less rate, return rate and the Covariance\n",
    "def solveFrontier(R, C, rf):\n",
    "\n",
    "    # 최적 비중 계산을 위한 목적함수\n",
    "    def obj(W, R, C, r):\n",
    "        mean = sum(R * W)\n",
    "        var = np.dot(np.dot(W, C), W)\n",
    "\n",
    "        # \n",
    "        penalty = 100 * abs(mean - r)\n",
    "        return var + penalty\n",
    "    \n",
    "    frontier_mean, frontier_var = [ ], [ ]\n",
    "    n = len(R)\n",
    "\n",
    "    for r in np.linspace(min(R), max(R), num=20):\n",
    "        W = np.ones([n]) / n"
   ]
  },
  {
   "cell_type": "code",
   "execution_count": null,
   "metadata": {},
   "outputs": [],
   "source": []
  }
 ],
 "metadata": {
  "kernelspec": {
   "display_name": "Python 3",
   "language": "python",
   "name": "python3"
  },
  "language_info": {
   "codemirror_mode": {
    "name": "ipython",
    "version": 3
   },
   "file_extension": ".py",
   "mimetype": "text/x-python",
   "name": "python",
   "nbconvert_exporter": "python",
   "pygments_lexer": "ipython3",
   "version": "3.11.3"
  },
  "orig_nbformat": 4
 },
 "nbformat": 4,
 "nbformat_minor": 2
}
