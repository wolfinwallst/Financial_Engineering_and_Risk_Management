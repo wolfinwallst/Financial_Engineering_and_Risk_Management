{
 "cells": [
  {
   "attachments": {},
   "cell_type": "markdown",
   "metadata": {},
   "source": [
    "## #3.1 포트폴리오의 기대수익률과 위험\n",
    "\n",
    "Markowitz's MPT(Modern Portfolio Theory) - <*`Portfolio Selection`*>\n",
    "\n",
    "Pareto optimal risk-return (파레토 최적 리스크-수익) 조합\n",
    "\n",
    "### 3.1.1 두 개의 주식으로 구성된 portfolio\n",
    "\n",
    "Consider a portfolio consisting of two stocks $A, B$ with weights $w_A, w_B$ and with individual expected returns $r_A, r_B$, respectively.\n",
    "\n",
    "An expected return(기대 수익률) $r_p$ of the portfolio is:\n",
    "$$\n",
    "    r_p = w_A r_A + w_B r_B\n",
    "$$"
   ]
  },
  {
   "cell_type": "code",
   "execution_count": 1,
   "metadata": {},
   "outputs": [],
   "source": [
    "# initial settings\n",
    "# expected returns for each stock; bull/neutral/bear market resp.\n",
    "stock_a = [0.07, 0.04, 0.01]\n",
    "stock_b = [0.13, 0.04, -0.05]\n",
    "prob = [1/3, 1/3, 1/3]\n",
    "\n",
    "ex_a = 0.0\n",
    "ex_b = 0.0\n",
    "wgt_a = 0.5\n",
    "wgt_b = 0.5"
   ]
  },
  {
   "cell_type": "code",
   "execution_count": 2,
   "metadata": {},
   "outputs": [
    {
     "data": {
      "text/plain": [
       "0.04"
      ]
     },
     "execution_count": 2,
     "metadata": {},
     "output_type": "execute_result"
    }
   ],
   "source": [
    "for s, p in zip(stock_a, prob):\n",
    "    ex_a += s*p\n",
    "\n",
    "ex_a"
   ]
  },
  {
   "cell_type": "code",
   "execution_count": 3,
   "metadata": {},
   "outputs": [
    {
     "data": {
      "text/plain": [
       "0.04"
      ]
     },
     "execution_count": 3,
     "metadata": {},
     "output_type": "execute_result"
    }
   ],
   "source": [
    "# inline for loop\n",
    "ex_a = sum(s*p for s, p in zip(stock_a, prob))\n",
    "\n",
    "ex_a"
   ]
  },
  {
   "cell_type": "code",
   "execution_count": 4,
   "metadata": {},
   "outputs": [
    {
     "data": {
      "text/plain": [
       "0.04000000000000001"
      ]
     },
     "execution_count": 4,
     "metadata": {},
     "output_type": "execute_result"
    }
   ],
   "source": [
    "ex_b = sum(s*p for s, p in zip(stock_b, prob))\n",
    "\n",
    "ex_b"
   ]
  },
  {
   "cell_type": "code",
   "execution_count": 5,
   "metadata": {},
   "outputs": [
    {
     "data": {
      "text/plain": [
       "0.04000000000000001"
      ]
     },
     "execution_count": 5,
     "metadata": {},
     "output_type": "execute_result"
    }
   ],
   "source": [
    "# expected return(기대수익률) of a portfolio\n",
    "ex_p = wgt_a * ex_a + wgt_b * ex_b\n",
    "ex_p"
   ]
  },
  {
   "cell_type": "code",
   "execution_count": 6,
   "metadata": {},
   "outputs": [
    {
     "name": "stdout",
     "output_type": "stream",
     "text": [
      "주식 A의 기대수익률은 4.00%\n",
      "주식 B의 기대수익률은 4.00%\n",
      "포트폴리오의 기대수익률은 4.00%\n"
     ]
    }
   ],
   "source": [
    "print('주식 A의 기대수익률은 {:.2%}'.format(ex_a))\n",
    "print('주식 B의 기대수익률은 {:.2%}'.format(ex_b))\n",
    "print('포트폴리오의 기대수익률은 {:.2%}'.format(ex_p))"
   ]
  },
  {
   "attachments": {},
   "cell_type": "markdown",
   "metadata": {},
   "source": []
  },
  {
   "cell_type": "code",
   "execution_count": 7,
   "metadata": {},
   "outputs": [
    {
     "name": "stdout",
     "output_type": "stream",
     "text": [
      "주식 A의 기대수익률은 4.00%\n",
      "주식 B의 기대수익률은 4.00%\n"
     ]
    }
   ],
   "source": [
    "import numpy as np\n",
    "\n",
    "prob = np.matrix([1/3, 1/3, 1/3])\n",
    "stock_a = np.matrix([7, 4, 1])\n",
    "stock_b = np.matrix([13, 4, -5])\n",
    "\n",
    "ex_a = prob * stock_a.T\n",
    "ex_b = prob * stock_b.T\n",
    "\n",
    "print('주식 A의 기대수익률은 %.2f%%' % ex_a)\n",
    "print('주식 B의 기대수익률은 %.2f%%' % ex_b)"
   ]
  },
  {
   "attachments": {},
   "cell_type": "markdown",
   "metadata": {},
   "source": [
    "now (to extend this method by using `np.matrix` in the future,) we compute the expected return of the whole portfolio consitsting of stock A & B with assigned weights:"
   ]
  },
  {
   "cell_type": "code",
   "execution_count": 8,
   "metadata": {},
   "outputs": [
    {
     "name": "stdout",
     "output_type": "stream",
     "text": [
      "포트폴리오의 기대수익률은 4.00%\n"
     ]
    }
   ],
   "source": [
    "weight = np.matrix([0.5, 0.5])\n",
    "\n",
    "ex_ab = np.matrix([[ex_a.item(), ex_b.item()]])\n",
    "\n",
    "ex_p = weight * ex_ab.T\n",
    "\n",
    "print('포트폴리오의 기대수익률은 %.2f%%' % ex_p)"
   ]
  },
  {
   "cell_type": "code",
   "execution_count": 9,
   "metadata": {},
   "outputs": [
    {
     "name": "stdout",
     "output_type": "stream",
     "text": [
      "포트폴리오의 기대수익률은 4.00%\n"
     ]
    }
   ],
   "source": [
    "weight = np.matrix([0.5, 0.5])\n",
    "\n",
    "# ax_ab = np.matrix([[np.asscalar(ex_a), np.asscalar(ex_b)]])\n",
    "ex_ab = np.matrix([[ex_a.item(), ex_b.item()]])\n",
    "\n",
    "ex_p = weight * ex_ab.T\n",
    "\n",
    "print('포트폴리오의 기대수익률은 %.2f%%' % ex_p)"
   ]
  },
  {
   "attachments": {},
   "cell_type": "markdown",
   "metadata": {},
   "source": [
    "### 포트폴리오의 위험 p 105\n",
    "Let's compute the associated variance, covariance and correlation:\n",
    "\n",
    "$$\n",
    "    \\sigma_p^2 = w_1^2 \\sigma_1^2 + w_2^2 \\sigma_2^2 + 2w_1w_2\\sigma_{12}\n",
    "$$\n",
    "\n",
    "here, $\\sigma_{12}$ is Cov(, )\n",
    "\n",
    "$$\n",
    "    \\sigma_p^2 = w_1^2 \\sigma_1^2 + w_2^2 \\sigma_2^2 + 2w_1w_2 \\sigma_1 \\sigma_2 \\rho_{12}\n",
    "$$\n",
    "\n",
    "where the correlation is $\\rho_{12} = \\frac{\\sigma_{12}}{\\sigma_1 \\sigma_2}$."
   ]
  },
  {
   "cell_type": "code",
   "execution_count": 19,
   "metadata": {},
   "outputs": [
    {
     "name": "stdout",
     "output_type": "stream",
     "text": [
      "0.04 0.04000000000000001\n"
     ]
    }
   ],
   "source": [
    "import math\n",
    "\n",
    "stock_a = [0.07, 0.04, 0.01]\n",
    "stock_b = [0.13, 0.04, -0.05]\n",
    "prob = [1/3, 1/3, 1/3]\n",
    "\n",
    "ex_a = 0.0\n",
    "ex_b = 0.0\n",
    "\n",
    "# for s, p in zip(stock_a, prob):\n",
    "    # ex_a += s*p\n",
    "ex_a = sum(s*p for s, p in zip(stock_a, prob))\n",
    "ex_b = sum(s*p for s, p in zip(stock_b, prob))\n",
    "print(ex_a, ex_b)"
   ]
  },
  {
   "cell_type": "code",
   "execution_count": 15,
   "metadata": {},
   "outputs": [
    {
     "name": "stdout",
     "output_type": "stream",
     "text": [
      "0.0006000000000000001\n"
     ]
    }
   ],
   "source": [
    "var_a, var_b = 0.0, 0.0\n",
    "wgt_a, wgt_b = 0.5, 0.5\n",
    "\n",
    "for s, p in zip(stock_a, prob):\n",
    "    var_a += p*(s-ex_a)**2\n",
    "print(var_a)"
   ]
  },
  {
   "cell_type": "code",
   "execution_count": 17,
   "metadata": {},
   "outputs": [
    {
     "name": "stdout",
     "output_type": "stream",
     "text": [
      "0.0006000000000000001 0.0054\n",
      "주식 A의 분산은 0.06%\n",
      "주식 B의 분산은 0.54%\n"
     ]
    }
   ],
   "source": [
    "var_a = sum(p*(s-ex_a)**2 for s, p in zip(stock_a, prob))\n",
    "var_b = sum(p*(s-ex_b)**2 for s, p in zip(stock_b, prob))\n",
    "\n",
    "print(var_a, var_b)\n",
    "print('주식 A의 분산은 {:.2%}'.format(var_a))\n",
    "print('주식 B의 분산은 {:.2%}'.format(var_b))"
   ]
  },
  {
   "cell_type": "code",
   "execution_count": 18,
   "metadata": {},
   "outputs": [
    {
     "name": "stdout",
     "output_type": "stream",
     "text": [
      "포트폴리오의 분산은 0.24%\n",
      "포트폴리오의 표준편차는 4.90%\n"
     ]
    }
   ],
   "source": [
    "cov = sum(p*(a-ex_a)*(b-ex_b) for a, b, p in zip(stock_a, stock_b, prob))  # definition of Covariance\n",
    "var_p = wgt_a**2 * var_a + wgt_b**2 * var_b + 2 * wgt_a * wgt_b * cov\n",
    "std_p = math.sqrt(var_p)\n",
    "print('포트폴리오의 분산은 {:.2%}'.format(var_p))\n",
    "print('포트폴리오의 표준편차는 {:.2%}'.format(std_p))"
   ]
  },
  {
   "cell_type": "code",
   "execution_count": 27,
   "metadata": {},
   "outputs": [
    {
     "name": "stdout",
     "output_type": "stream",
     "text": [
      "Cov(stock_a, stock_b) is 0.18%\n",
      "Cov(stock_a, stock_b) is: 0.18%\n"
     ]
    }
   ],
   "source": [
    "# print('Cov(stock_a, stock_b) is {:.2%}'.format(cov))\n",
    "print(f'Cov(stock_a, stock_b) is: {cov:.2%}')"
   ]
  },
  {
   "cell_type": "code",
   "execution_count": 32,
   "metadata": {},
   "outputs": [
    {
     "name": "stdout",
     "output_type": "stream",
     "text": [
      "자산 a의 분산: 0.0006000000000000002\n",
      "자산 b의 분산: 0.005399999999999999\n",
      "자산 a의 표준편차: 0.024494897427831785\n",
      "자산 b의 표준편차: 0.07348469228349534\n",
      "두 자산 a, b의 Cov [[0.0009 0.0027]\n",
      " [0.0027 0.0081]]\n"
     ]
    }
   ],
   "source": [
    "# digression - using numpy, this calculation becomes easy\n",
    "import numpy as np\n",
    "\n",
    "variance_a = np.var(stock_a)\n",
    "variance_b = np.var(stock_b)\n",
    "print(\"자산 a의 분산:\", variance_a)\n",
    "print(\"자산 b의 분산:\", variance_b)\n",
    "\n",
    "std_dev_a = np.std(stock_a)\n",
    "std_dev_b = np.std(stock_b)\n",
    "print(\"자산 a의 표준편차:\", std_dev_a)\n",
    "print(\"자산 b의 표준편차:\", std_dev_b)\n",
    "\n",
    "cov_ab = np.cov(stock_a, stock_b)\n",
    "print(\"두 자산 a, b의 Cov\", cov_ab)"
   ]
  },
  {
   "cell_type": "code",
   "execution_count": 33,
   "metadata": {},
   "outputs": [
    {
     "data": {
      "text/plain": [
       "array([[0.0009, 0.0027],\n",
       "       [0.0027, 0.0081]])"
      ]
     },
     "execution_count": 33,
     "metadata": {},
     "output_type": "execute_result"
    }
   ],
   "source": [
    "cov_ab"
   ]
  },
  {
   "attachments": {},
   "cell_type": "markdown",
   "metadata": {},
   "source": [
    "### 3.1.2 $n$ 개의 주식으로 만든 포트폴리오\n",
    "$n$ 개의 자산으로 구성된 포트폴리오의 수익률:\n",
    "$$\n",
    "    r_p = w_1r_1 + w_2r_2 + \\ldots + w_nr_n\n",
    "$$\n",
    "\n",
    "$n$ 개의 자산으로 구성된 포트폴리오의 기대수익률:\n",
    "$$\n",
    "    E(r_p) = w_1E(r_1) + w_2E(r_2) + \\ldots + w_nE(r_n)\n",
    "$$"
   ]
  },
  {
   "cell_type": "code",
   "execution_count": 34,
   "metadata": {},
   "outputs": [
    {
     "name": "stdout",
     "output_type": "stream",
     "text": [
      "1. 난수로 만드는 국면별 주식의 수익률: \n",
      " [[-1.05806373 -0.25223004 -0.60325559]\n",
      " [ 0.17403838 -0.82321254  0.11095813]\n",
      " [-0.70411724 -0.0776854  -0.25076092]]\n"
     ]
    }
   ],
   "source": [
    "# 포트폴리오 기대수익률 계산\n",
    "import numpy as np\n",
    "\n",
    "numStocks = 3\n",
    "\n",
    "# 3 represents three states: bear/neutral/bull market\n",
    "returns = np.random.randn(3, numStocks)\n",
    "print('1. 난수로 만드는 국면별 주식의 수익률: \\n', returns)"
   ]
  },
  {
   "cell_type": "code",
   "execution_count": 35,
   "metadata": {},
   "outputs": [
    {
     "data": {
      "text/plain": [
       "array([0.78899272, 0.22627276, 0.51646067])"
      ]
     },
     "execution_count": 35,
     "metadata": {},
     "output_type": "execute_result"
    }
   ],
   "source": [
    "# prob. for each of the three states\n",
    "prob = np.random.rand(3)\n",
    "prob"
   ]
  },
  {
   "cell_type": "code",
   "execution_count": 36,
   "metadata": {},
   "outputs": [
    {
     "name": "stdout",
     "output_type": "stream",
     "text": [
      "2. 경기 국면별 각 확률: \n",
      " [0.51510038 0.14772403 0.33717559]\n"
     ]
    }
   ],
   "source": [
    "# to make its sum to be 1\n",
    "prob = prob / prob.sum()\n",
    "print('2. 경기 국면별 각 확률: \\n', prob)"
   ]
  },
  {
   "cell_type": "code",
   "execution_count": 37,
   "metadata": {},
   "outputs": [
    {
     "data": {
      "text/plain": [
       "array([-0.75671052, -0.27772568, -0.37889646])"
      ]
     },
     "execution_count": 37,
     "metadata": {},
     "output_type": "execute_result"
    }
   ],
   "source": [
    "expectedReturns = np.matmul(prob.T, returns)\n",
    "expectedReturns"
   ]
  },
  {
   "cell_type": "code",
   "execution_count": 38,
   "metadata": {},
   "outputs": [
    {
     "name": "stdout",
     "output_type": "stream",
     "text": [
      "각 주식의 기대수익률: \n",
      " [[-0.54500903 -0.03726044 -0.20340306]\n",
      " [ 0.08964724 -0.12160827  0.03741237]\n",
      " [-0.36269106 -0.011476   -0.08455046]]\n"
     ]
    }
   ],
   "source": [
    "expectedReturns = prob.T * returns\n",
    "print('각 주식의 기대수익률: \\n', expectedReturns)"
   ]
  },
  {
   "cell_type": "code",
   "execution_count": 39,
   "metadata": {},
   "outputs": [
    {
     "name": "stdout",
     "output_type": "stream",
     "text": [
      "4. 투자 비중*기대수익률: \n",
      " [0.25242513 0.365719   0.38185587]\n"
     ]
    }
   ],
   "source": [
    "# weights for asset allocation\n",
    "weights = np.random.rand(numStocks)\n",
    "weights = weights / weights.sum()\n",
    "print('4. 투자 비중*기대수익률: \\n', weights)"
   ]
  },
  {
   "cell_type": "code",
   "execution_count": 43,
   "metadata": {},
   "outputs": [
    {
     "name": "stdout",
     "output_type": "stream",
     "text": [
      "5. 포트폴리오의 기대수익률: -36.45%\n"
     ]
    }
   ],
   "source": [
    "expectedReturnOfPortfolio = np.sum(weights * expectedReturns)\n",
    "print('5. 포트폴리오의 기대수익률: {:.2%}'.format(expectedReturnOfPortfolio))"
   ]
  },
  {
   "attachments": {},
   "cell_type": "markdown",
   "metadata": {},
   "source": [
    "#### Pandas를 이용해 실제 데이터로 portfolio의 기대수익률 계산\n",
    "\n"
   ]
  },
  {
   "cell_type": "code",
   "execution_count": 54,
   "metadata": {},
   "outputs": [
    {
     "data": {
      "text/plain": [
       "6"
      ]
     },
     "execution_count": 54,
     "metadata": {},
     "output_type": "execute_result"
    }
   ],
   "source": [
    "import numpy as np\n",
    "import pandas as pd\n",
    "from pandas_datareader import data as web\n",
    "import random\n",
    "\n",
    "tickers = ['MMM', 'ADBE','AMD', 'GOOGL', 'GOOG', 'AMZN']\n",
    "len(tickers)\n",
    "\n",
    "adjClose = pd.DataFrame()\n",
    "\n",
    "for item in tickers:\n",
    "    adjClose[item] = web.DataReader(item, data_source='yahoo', start='2018-09-15')['Adj Close']  # 에러로 인해 아래처럼 yfinance로 수정\n",
    "    \n",
    "adjClose.head()"
   ]
  },
  {
   "cell_type": "code",
   "execution_count": 58,
   "metadata": {},
   "outputs": [
    {
     "name": "stdout",
     "output_type": "stream",
     "text": [
      "[*********************100%***********************]  1 of 1 completed\n",
      "[*********************100%***********************]  1 of 1 completed\n",
      "[*********************100%***********************]  1 of 1 completed\n",
      "[*********************100%***********************]  1 of 1 completed\n",
      "[*********************100%***********************]  1 of 1 completed\n",
      "[*********************100%***********************]  1 of 1 completed\n"
     ]
    },
    {
     "data": {
      "text/html": [
       "<div>\n",
       "<style scoped>\n",
       "    .dataframe tbody tr th:only-of-type {\n",
       "        vertical-align: middle;\n",
       "    }\n",
       "\n",
       "    .dataframe tbody tr th {\n",
       "        vertical-align: top;\n",
       "    }\n",
       "\n",
       "    .dataframe thead th {\n",
       "        text-align: right;\n",
       "    }\n",
       "</style>\n",
       "<table border=\"1\" class=\"dataframe\">\n",
       "  <thead>\n",
       "    <tr style=\"text-align: right;\">\n",
       "      <th></th>\n",
       "      <th>MMM</th>\n",
       "      <th>ADBE</th>\n",
       "      <th>AMD</th>\n",
       "      <th>GOOGL</th>\n",
       "      <th>GOOG</th>\n",
       "      <th>AMZN</th>\n",
       "    </tr>\n",
       "    <tr>\n",
       "      <th>Date</th>\n",
       "      <th></th>\n",
       "      <th></th>\n",
       "      <th></th>\n",
       "      <th></th>\n",
       "      <th></th>\n",
       "      <th></th>\n",
       "    </tr>\n",
       "  </thead>\n",
       "  <tbody>\n",
       "    <tr>\n",
       "      <th>2018-09-17</th>\n",
       "      <td>175.449066</td>\n",
       "      <td>268.250000</td>\n",
       "      <td>32.430000</td>\n",
       "      <td>57.991501</td>\n",
       "      <td>57.802502</td>\n",
       "      <td>95.401497</td>\n",
       "    </tr>\n",
       "    <tr>\n",
       "      <th>2018-09-18</th>\n",
       "      <td>177.123764</td>\n",
       "      <td>270.790009</td>\n",
       "      <td>31.930000</td>\n",
       "      <td>58.355499</td>\n",
       "      <td>58.061001</td>\n",
       "      <td>97.052498</td>\n",
       "    </tr>\n",
       "    <tr>\n",
       "      <th>2018-09-19</th>\n",
       "      <td>178.455124</td>\n",
       "      <td>264.880005</td>\n",
       "      <td>31.209999</td>\n",
       "      <td>58.713501</td>\n",
       "      <td>58.554501</td>\n",
       "      <td>96.320999</td>\n",
       "    </tr>\n",
       "    <tr>\n",
       "      <th>2018-09-20</th>\n",
       "      <td>180.255417</td>\n",
       "      <td>266.339996</td>\n",
       "      <td>31.180000</td>\n",
       "      <td>59.578499</td>\n",
       "      <td>59.343498</td>\n",
       "      <td>97.214996</td>\n",
       "    </tr>\n",
       "    <tr>\n",
       "      <th>2018-09-21</th>\n",
       "      <td>181.143005</td>\n",
       "      <td>260.880005</td>\n",
       "      <td>31.020000</td>\n",
       "      <td>58.605999</td>\n",
       "      <td>58.304501</td>\n",
       "      <td>95.750504</td>\n",
       "    </tr>\n",
       "  </tbody>\n",
       "</table>\n",
       "</div>"
      ],
      "text/plain": [
       "                   MMM        ADBE        AMD      GOOGL       GOOG       AMZN\n",
       "Date                                                                          \n",
       "2018-09-17  175.449066  268.250000  32.430000  57.991501  57.802502  95.401497\n",
       "2018-09-18  177.123764  270.790009  31.930000  58.355499  58.061001  97.052498\n",
       "2018-09-19  178.455124  264.880005  31.209999  58.713501  58.554501  96.320999\n",
       "2018-09-20  180.255417  266.339996  31.180000  59.578499  59.343498  97.214996\n",
       "2018-09-21  181.143005  260.880005  31.020000  58.605999  58.304501  95.750504"
      ]
     },
     "execution_count": 58,
     "metadata": {},
     "output_type": "execute_result"
    }
   ],
   "source": [
    "import numpy as np\n",
    "import pandas as pd\n",
    "import yfinance as yf\n",
    "\n",
    "tickers = ['MMM', 'ADBE', 'AMD', 'GOOGL', 'GOOG', 'AMZN']\n",
    "\n",
    "adjClose = pd.DataFrame()\n",
    "\n",
    "for item in tickers:\n",
    "    data = yf.download(item, start='2018-09-15')['Adj Close']\n",
    "    adjClose[item] = data\n",
    "\n",
    "adjClose.head()"
   ]
  },
  {
   "cell_type": "code",
   "execution_count": 59,
   "metadata": {},
   "outputs": [
    {
     "data": {
      "text/html": [
       "<div>\n",
       "<style scoped>\n",
       "    .dataframe tbody tr th:only-of-type {\n",
       "        vertical-align: middle;\n",
       "    }\n",
       "\n",
       "    .dataframe tbody tr th {\n",
       "        vertical-align: top;\n",
       "    }\n",
       "\n",
       "    .dataframe thead th {\n",
       "        text-align: right;\n",
       "    }\n",
       "</style>\n",
       "<table border=\"1\" class=\"dataframe\">\n",
       "  <thead>\n",
       "    <tr style=\"text-align: right;\">\n",
       "      <th></th>\n",
       "      <th>MMM</th>\n",
       "      <th>ADBE</th>\n",
       "      <th>AMD</th>\n",
       "      <th>GOOGL</th>\n",
       "      <th>GOOG</th>\n",
       "      <th>AMZN</th>\n",
       "    </tr>\n",
       "    <tr>\n",
       "      <th>Date</th>\n",
       "      <th></th>\n",
       "      <th></th>\n",
       "      <th></th>\n",
       "      <th></th>\n",
       "      <th></th>\n",
       "      <th></th>\n",
       "    </tr>\n",
       "  </thead>\n",
       "  <tbody>\n",
       "    <tr>\n",
       "      <th>2018-09-17</th>\n",
       "      <td>NaN</td>\n",
       "      <td>NaN</td>\n",
       "      <td>NaN</td>\n",
       "      <td>NaN</td>\n",
       "      <td>NaN</td>\n",
       "      <td>NaN</td>\n",
       "    </tr>\n",
       "    <tr>\n",
       "      <th>2018-09-18</th>\n",
       "      <td>0.009545</td>\n",
       "      <td>0.009469</td>\n",
       "      <td>-0.015418</td>\n",
       "      <td>0.006277</td>\n",
       "      <td>0.004472</td>\n",
       "      <td>0.017306</td>\n",
       "    </tr>\n",
       "    <tr>\n",
       "      <th>2018-09-19</th>\n",
       "      <td>0.007517</td>\n",
       "      <td>-0.021825</td>\n",
       "      <td>-0.022549</td>\n",
       "      <td>0.006135</td>\n",
       "      <td>0.008500</td>\n",
       "      <td>-0.007537</td>\n",
       "    </tr>\n",
       "    <tr>\n",
       "      <th>2018-09-20</th>\n",
       "      <td>0.010088</td>\n",
       "      <td>0.005512</td>\n",
       "      <td>-0.000961</td>\n",
       "      <td>0.014733</td>\n",
       "      <td>0.013475</td>\n",
       "      <td>0.009281</td>\n",
       "    </tr>\n",
       "    <tr>\n",
       "      <th>2018-09-21</th>\n",
       "      <td>0.004924</td>\n",
       "      <td>-0.020500</td>\n",
       "      <td>-0.005131</td>\n",
       "      <td>-0.016323</td>\n",
       "      <td>-0.017508</td>\n",
       "      <td>-0.015064</td>\n",
       "    </tr>\n",
       "    <tr>\n",
       "      <th>...</th>\n",
       "      <td>...</td>\n",
       "      <td>...</td>\n",
       "      <td>...</td>\n",
       "      <td>...</td>\n",
       "      <td>...</td>\n",
       "      <td>...</td>\n",
       "    </tr>\n",
       "    <tr>\n",
       "      <th>2023-06-05</th>\n",
       "      <td>-0.044377</td>\n",
       "      <td>-0.005019</td>\n",
       "      <td>0.000594</td>\n",
       "      <td>0.010748</td>\n",
       "      <td>0.011179</td>\n",
       "      <td>0.008451</td>\n",
       "    </tr>\n",
       "    <tr>\n",
       "      <th>2023-06-06</th>\n",
       "      <td>0.003164</td>\n",
       "      <td>-0.002971</td>\n",
       "      <td>0.053422</td>\n",
       "      <td>0.010317</td>\n",
       "      <td>0.010108</td>\n",
       "      <td>0.010455</td>\n",
       "    </tr>\n",
       "    <tr>\n",
       "      <th>2023-06-07</th>\n",
       "      <td>0.027571</td>\n",
       "      <td>-0.033658</td>\n",
       "      <td>-0.051517</td>\n",
       "      <td>-0.037782</td>\n",
       "      <td>-0.038855</td>\n",
       "      <td>-0.042493</td>\n",
       "    </tr>\n",
       "    <tr>\n",
       "      <th>2023-06-08</th>\n",
       "      <td>-0.002376</td>\n",
       "      <td>0.049508</td>\n",
       "      <td>0.027328</td>\n",
       "      <td>-0.002939</td>\n",
       "      <td>-0.002196</td>\n",
       "      <td>0.024911</td>\n",
       "    </tr>\n",
       "    <tr>\n",
       "      <th>2023-06-09</th>\n",
       "      <td>-0.008535</td>\n",
       "      <td>0.034098</td>\n",
       "      <td>0.031970</td>\n",
       "      <td>0.000737</td>\n",
       "      <td>0.001630</td>\n",
       "      <td>-0.006600</td>\n",
       "    </tr>\n",
       "  </tbody>\n",
       "</table>\n",
       "<p>1191 rows × 6 columns</p>\n",
       "</div>"
      ],
      "text/plain": [
       "                 MMM      ADBE       AMD     GOOGL      GOOG      AMZN\n",
       "Date                                                                  \n",
       "2018-09-17       NaN       NaN       NaN       NaN       NaN       NaN\n",
       "2018-09-18  0.009545  0.009469 -0.015418  0.006277  0.004472  0.017306\n",
       "2018-09-19  0.007517 -0.021825 -0.022549  0.006135  0.008500 -0.007537\n",
       "2018-09-20  0.010088  0.005512 -0.000961  0.014733  0.013475  0.009281\n",
       "2018-09-21  0.004924 -0.020500 -0.005131 -0.016323 -0.017508 -0.015064\n",
       "...              ...       ...       ...       ...       ...       ...\n",
       "2023-06-05 -0.044377 -0.005019  0.000594  0.010748  0.011179  0.008451\n",
       "2023-06-06  0.003164 -0.002971  0.053422  0.010317  0.010108  0.010455\n",
       "2023-06-07  0.027571 -0.033658 -0.051517 -0.037782 -0.038855 -0.042493\n",
       "2023-06-08 -0.002376  0.049508  0.027328 -0.002939 -0.002196  0.024911\n",
       "2023-06-09 -0.008535  0.034098  0.031970  0.000737  0.001630 -0.006600\n",
       "\n",
       "[1191 rows x 6 columns]"
      ]
     },
     "execution_count": 59,
     "metadata": {},
     "output_type": "execute_result"
    }
   ],
   "source": [
    "# 일간수익률 daily returns 로 변환\n",
    "dailySimpleReturns = adjClose.pct_change()\n",
    "dailySimpleReturns"
   ]
  },
  {
   "cell_type": "code",
   "execution_count": 64,
   "metadata": {},
   "outputs": [
    {
     "data": {
      "text/plain": [
       "MMM     -0.000317\n",
       "ADBE     0.000741\n",
       "AMD      0.001776\n",
       "GOOGL    0.000836\n",
       "GOOG     0.000843\n",
       "AMZN     0.000489\n",
       "dtype: float64"
      ]
     },
     "execution_count": 64,
     "metadata": {},
     "output_type": "execute_result"
    }
   ],
   "source": [
    "dailySimpleReturns.mean()"
   ]
  },
  {
   "cell_type": "code",
   "execution_count": 62,
   "metadata": {},
   "outputs": [
    {
     "name": "stdout",
     "output_type": "stream",
     "text": [
      "[[-0.00031665  0.00074136  0.00177624  0.00083598  0.00084328  0.00048902]]\n"
     ]
    }
   ],
   "source": [
    "# exp. returns 기대수익률 대신 일간수익률의 평균\n",
    "meanReturns = np.matrix(dailySimpleReturns.mean())\n",
    "print(meanReturns)"
   ]
  },
  {
   "cell_type": "code",
   "execution_count": 63,
   "metadata": {},
   "outputs": [
    {
     "data": {
      "text/plain": [
       "MMM     -0.079163\n",
       "ADBE     0.185341\n",
       "AMD      0.444060\n",
       "GOOGL    0.208994\n",
       "GOOG     0.210820\n",
       "AMZN     0.122255\n",
       "dtype: float64"
      ]
     },
     "execution_count": 63,
     "metadata": {},
     "output_type": "execute_result"
    }
   ],
   "source": [
    "annualReturns = dailySimpleReturns.mean() * 250\n",
    "annualReturns"
   ]
  },
  {
   "cell_type": "code",
   "execution_count": 66,
   "metadata": {},
   "outputs": [
    {
     "data": {
      "text/plain": [
       "6"
      ]
     },
     "execution_count": 66,
     "metadata": {},
     "output_type": "execute_result"
    }
   ],
   "source": [
    "numAssets = len(tickers)\n",
    "numAssets"
   ]
  },
  {
   "cell_type": "code",
   "execution_count": 67,
   "metadata": {},
   "outputs": [
    {
     "data": {
      "text/plain": [
       "array([0.02086976, 0.09186825, 0.23768212, 0.24148951, 0.23018672,\n",
       "       0.17790366])"
      ]
     },
     "execution_count": 67,
     "metadata": {},
     "output_type": "execute_result"
    }
   ],
   "source": [
    "weights = np.random.random(numAssets)\n",
    "weights = weights / sum(weights)\n",
    "weights"
   ]
  },
  {
   "cell_type": "code",
   "execution_count": 69,
   "metadata": {},
   "outputs": [
    {
     "data": {
      "text/plain": [
       "0.0009666698341511801"
      ]
     },
     "execution_count": 69,
     "metadata": {},
     "output_type": "execute_result"
    }
   ],
   "source": [
    "# 포트폴리오의 기대수익률 expected return of the portfolio - weights are given randomly\n",
    "portReturnsExpected = np.sum(weights * meanReturns.T)\n",
    "portReturnsExpected"
   ]
  },
  {
   "attachments": {},
   "cell_type": "markdown",
   "metadata": {},
   "source": [
    "#### $n$개 주식 포트폴리오의 위험\n",
    "\n",
    "consider a portfolio consisting of $n$-many assets. The variance of portfolio(포트폴리오의 위험) is:\n",
    "\n",
    "$$\n",
    "    \\sigma_p^2 = w_1w_1\\sigma_{11} + w_1w_2\\sigma_{12} + w_1w_3\\sigma_{13} + \\cdots + w_1w_n\\sigma_{1n} \\\\\n",
    "               + w_2w_1\\sigma_{21} + w_2w_2\\sigma_{22} + w_2w_3\\sigma_{23} + \\cdots + w_2w_n\\sigma_{2n} \\\\\n",
    "               + w_3w_1\\sigma_{31} + w_3w_2\\sigma_{32} + w_3w_3\\sigma_{33} + \\cdots + w_3w_n\\sigma_{3n} \\\\\n",
    "               + \\cdots + \\cdots + \\cdots \\\\\n",
    "               + w_nw_1\\sigma_{n1} + w_nw_2\\sigma_{n2} + w_nw_3\\sigma_{n3} + \\cdots + w_nw_n\\sigma_{nn} \\\\\n",
    "$$\n",
    "\n",
    ", write in the matrix form as:\n",
    "\n",
    "$$\n",
    "    \\sigma_p^2 = \\begin{pmatrix} w_1 & \\cdots & w_n \\end{pmatrix} \\times\n",
    "                 \\begin{pmatrix} {\\sigma_1}^2 & \\sigma_{1,2} & \\cdots & \\sigma_{1n} \\\\\n",
    "                                 \\sigma_{2,1} & {\\sigma_2}^2 & \\cdots & \\sigma_{2,n} \\\\\n",
    "                                 \\vdots & \\vdots & \\ddots & \\vdots \\\\\n",
    "                                 \\sigma_{n,1} & \\sigma_{n,2} & \\cdots & {\\sigma_n}^2 \\\\ \\end{pmatrix} \\times\n",
    "                 \\begin{pmatrix} w_1 \\\\ \\vdots \\\\ w_n \\end{pmatrix}\n",
    "$$"
   ]
  },
  {
   "cell_type": "code",
   "execution_count": 70,
   "metadata": {},
   "outputs": [
    {
     "data": {
      "text/plain": [
       "matrix([[0.02086976, 0.09186825, 0.23768212, 0.24148951, 0.23018672,\n",
       "         0.17790366]])"
      ]
     },
     "execution_count": 70,
     "metadata": {},
     "output_type": "execute_result"
    }
   ],
   "source": [
    "weights = np.matrix(weights)\n",
    "weights"
   ]
  },
  {
   "cell_type": "code",
   "execution_count": 71,
   "metadata": {},
   "outputs": [
    {
     "name": "stdout",
     "output_type": "stream",
     "text": [
      "dailySimpleReturns의 데이터형: <class 'pandas.core.frame.DataFrame'>\n"
     ]
    }
   ],
   "source": [
    "print('dailySimpleReturns의 데이터형:', type(dailySimpleReturns))"
   ]
  },
  {
   "cell_type": "code",
   "execution_count": 72,
   "metadata": {},
   "outputs": [
    {
     "name": "stdout",
     "output_type": "stream",
     "text": [
      "dailySimpleReturns.cov() 결과의 데이터형: <class 'pandas.core.frame.DataFrame'>\n"
     ]
    }
   ],
   "source": [
    "print('dailySimpleReturns.cov() 결과의 데이터형:', type(dailySimpleReturns.cov()))\n",
    "# 즉 .cov() 는 DataFrame"
   ]
  },
  {
   "cell_type": "code",
   "execution_count": 73,
   "metadata": {},
   "outputs": [
    {
     "data": {
      "text/plain": [
       "array([[0.00031141, 0.00015385, 0.00020963, 0.00014951, 0.00015054,\n",
       "        0.00012945],\n",
       "       [0.00015385, 0.00059523, 0.00051781, 0.00035057, 0.00034917,\n",
       "        0.00038108],\n",
       "       [0.00020963, 0.00051781, 0.00129207, 0.00041287, 0.00040953,\n",
       "        0.00048339],\n",
       "       [0.00014951, 0.00035057, 0.00041287, 0.00041858, 0.00041674,\n",
       "        0.0003273 ],\n",
       "       [0.00015054, 0.00034917, 0.00040953, 0.00041674, 0.00041908,\n",
       "        0.0003286 ],\n",
       "       [0.00012945, 0.00038108, 0.00048339, 0.0003273 , 0.0003286 ,\n",
       "        0.00054554]])"
      ]
     },
     "execution_count": 73,
     "metadata": {},
     "output_type": "execute_result"
    }
   ],
   "source": [
    "# .values로 행렬로 변환\n",
    "pcov = dailySimpleReturns.cov().values\n",
    "pcov"
   ]
  },
  {
   "cell_type": "code",
   "execution_count": 74,
   "metadata": {},
   "outputs": [
    {
     "name": "stdout",
     "output_type": "stream",
     "text": [
      "포트폴리오 분산은 [[0.00044846]]\n"
     ]
    }
   ],
   "source": [
    "varp = weights * pcov * weights.T\n",
    "print('포트폴리오 분산은', varp)"
   ]
  },
  {
   "attachments": {},
   "cell_type": "markdown",
   "metadata": {},
   "source": [
    "### 3.2 최소분산 포트폴리오 p116\n",
    "\n"
   ]
  },
  {
   "cell_type": "code",
   "execution_count": null,
   "metadata": {},
   "outputs": [],
   "source": []
  }
 ],
 "metadata": {
  "kernelspec": {
   "display_name": "Python 3",
   "language": "python",
   "name": "python3"
  },
  "language_info": {
   "codemirror_mode": {
    "name": "ipython",
    "version": 3
   },
   "file_extension": ".py",
   "mimetype": "text/x-python",
   "name": "python",
   "nbconvert_exporter": "python",
   "pygments_lexer": "ipython3",
   "version": "3.11.3"
  },
  "orig_nbformat": 4
 },
 "nbformat": 4,
 "nbformat_minor": 2
}
