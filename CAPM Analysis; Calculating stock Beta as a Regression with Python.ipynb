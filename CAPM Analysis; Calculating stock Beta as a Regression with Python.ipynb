{
 "cells": [
  {
   "attachments": {},
   "cell_type": "markdown",
   "metadata": {},
   "source": [
    "# CAPM Analysis: Calculating the Beta of a stock as a Regression with Python\n",
    "\n",
    "This jupyter notebook follows [medium post by Bernard Brenyah](https://medium.com/python-data/capm-analysis-calculating-stock-beta-as-a-regression-in-python-c82d189db536).\n",
    "I adopted detailed explanations of relavant ideas from Investopedia using keywords: beta and CAPM.\n",
    "<br>\n",
    "\n",
    "Capital Asset Pricing Model (CAPM) is an extension of the Markowitz’s Modern Portfolio Theory. This model was developed by the independent works of William Sharpe, Jack Treynor, Jan Mossin, and John Lintner who built on the idea of diversification as introduced by the works of Harry Markowitz.\n",
    "\n",
    "CAPM describes the relationship between systematic risk and expected return for assets(usually stocks). CAPM is widely used as a method to pricing risky securities aand for generating estimates of the expected returns of assets, considering both the risk of those assets and the cost of capital.<br> \n",
    "CAPM attempts to prices securities by examining the relationship that exists between expected returns and risk. The model implies that investors always combine two types of assets or securities; a risk-free asset and a risky asset in the form of a market portfolio of various assets. CAPM further posits that investors expect to be rewarded for holding these risky assets according to the risk inherited for holding on to such assets. After all, such kind of risk cannot be diversified (*market-related* usually referred to as *systematic risk*) and as a result, investors need to be compensated for taking on such “*undiversifiable*” risks. It is intuitive when you think about. Let’s look at this example:\n",
    "\n",
    "An investor can buy risk-free asset like treasury bills of any stable government. If such an investor opts to buy some investment package from company ABC instead of this risk-free assets, then such an investor ought to be compensated for this decision. According to CAPM, company ABC does by this by offering the returns of the treasury bill plus an incentive usually referred to as market **premium/excess** market returns (Market Return-Risk Free Rate) for the given level of risk (**Beta**) the investors take.\n",
    "\n",
    "This is why it is common for most funds to advertise “Treasury Bill rate + XYZ%” to customers.\n",
    "\n",
    "The *Beta of an asset* is a measure of the sensitivity(volatility) of its(a security or portfolio) returns relative to a market benchmark (usually a market index). i.e. beta is a measure of the volatility(or systematic risk) of a security or portfolio compared to the market as a whole. How sensitive/insensitive is the returns of an asset to the overall market returns (usually a market index like S&P 500 index). What happens when the market jumps, does the returns of the asset jump accordingly or jump somehow?\n",
    "\n",
    "Beta is used in the **CAPM (forumula)**:\n",
    "$$\n",
    "    r_i = r_f + \\beta_i (r_m - r_f)\n",
    "$$\n",
    "where $r_i$ is the expected return of a security(or an asset $i$), $r_f$ is the *risk-free rate*, $\\beta_i$ is the beta of the security $i$ relative to the market, $r_i$ ,the market return, and $r_m - r_f$ is the so-called *risk premium*.\n",
    "\n",
    "The formula for calculating Beta of a stock(beta formula) is:\n",
    "\n",
    "$$\n",
    "    \\beta = \\frac{Cov(r_s, r_m)}{Var(r_m)}\n",
    "$$\n",
    "\n",
    "where:\n",
    "- $r_s$ = the return on an individual stock\n",
    "- $r_m$ = the return on the overall market<br>\n",
    "and returns are computed over a certain specified period. Also ```WARNING```: for beta to provide any useful insight, the market that is used as a benchmark should be related to the stock. For example, calculating the beta of a bond ETF using the S&P 500 as the benchmark would not provide much helpful insight because bonds aand stocks are too dissimilar.But how do we check such '*suitability*'? This could be done via a statistical term, namely ```R-squared```: in order to make sure that a specific stock is being compared to the right benchmark, it should have a high R-squared value in relation to the benchmark. This could indicate a more relevant benchmark. e.g. a gold ETF would have a low beta and R-squared relationship w/ the S&P 500 as BM. Here R-squared is a statistical measure that shows the percentage of a security's historical price movements that can be explained by movements in the benchmark index.\n",
    "<br><br>\n",
    "\n",
    "In statistical terms, beta represents the slope of the line through a regression of data points. In finance, each of these data points represents an individul stock's returns against those of the market as a whole.\n",
    "\n",
    "# Interpretation of a Beta with special values\n",
    "A stock with a beta of:\n",
    "\n",
    "**0** indicates no correlation with the chosen benchmark (e.g. NASDAQ index )\n",
    "\n",
    "**1.0** indicates a stock has the same volatility as the market. It has a systematic risk. However, the beta calculation cannot detect any unsystematic risk. Adding such stock to a portfolio doesn't add any risk to the portfolio, but it also doesn't increase the likelihood that the portfolio will provide axcess return.\n",
    "\n",
    "**greater than one** indicates a stock that’s more volatile than its benchmark. Such stocks will tend to move with more momentum than S&P 500. Technology stocks and small cap stocks tend to have higher betas than the benchmark. Adding such stocks to a portfolio will increase the risk of the portfolio, but may also increase its expected return.\n",
    "\n",
    "**less than one** is (theoretically) less volatile than the benchmark or the market. Such stocks has less momentum. Including such stocks in a portfolio makes it less risky. e.g. Utility stocks often have low betas because they tend to move slower than market averages.\n",
    "\n",
    "**1.5** is 50% more volatile than the benchmark\n",
    "\n",
    "**-1.0** shows an inverse(or as a mirror image) movement of price, i.e. such stock is inversely correalated to the market benchmark. e.g. the ```gold price```.(relative to S&P 500) More precisely, GLD(SPDR Gold Shares,a gold ETF) would have a low beta and R-squared relationship w/ the S$P 500. Stocks w/ negative beta could be thought of as an opposite, mirror image of the benchmark's trend. ```Put options``` and ```inverse ETFs``` are designed to have negative betas. There are also a few industry groups, like gold miners, where a negative beta is also common.\n",
    "\n",
    "# Beta in theory vs. in practice\n",
    "Beta in coefficient theory assumes that stock returns are normally distributed from a statistical perspective, which is not always the case in reality. Financial markets are prone to laarge surprises. Therefore what a stock's beta might predict about a stock's future movement isn't always true.\n",
    "\n",
    "# drawbacks of beta\n",
    "Its limitations are: beta is useful in determing a security's short-term risk, and for analyzing volatility to arrive at equity costs when using the CAPM. However since beta is calculated using historical data points, it becomes less meaningful when looking into predict a stock's future movements. Also less useful for long-term investments since a stock's volatility can change significantly from year to year, depending upon the company's growth stage and other factors. Furthermore the beta measure on a particular stock tends to jump around over time, which makes it unreliable as a stable measure.\n",
    "\n",
    "# So, is Beta a good measure of risk?\n",
    "While beta provides some information abou risk, it is not an effective measure of risk on its own: beta is based on historical(past) data and does not provide any forward guidance. It also does not consider the fundamentals of company or its earnings and growth potential.\n",
    "\n",
    "If you find the theoretical overview of CAPM confusing, I highly recommend that you watch this video:"
   ]
  },
  {
   "attachments": {},
   "cell_type": "markdown",
   "metadata": {},
   "source": [
    "------\n",
    "Now its implementations are given as below:"
   ]
  },
  {
   "cell_type": "code",
   "execution_count": 2,
   "metadata": {},
   "outputs": [
    {
     "name": "stdout",
     "output_type": "stream",
     "text": [
      "Collecting statsmodels\n",
      "  Downloading statsmodels-0.13.5-cp311-cp311-win_amd64.whl (9.0 MB)\n",
      "     ---------------------------------------- 9.0/9.0 MB 10.8 MB/s eta 0:00:00\n",
      "Requirement already satisfied: pandas>=0.25 in c:\\users\\unbes\\appdata\\local\\packages\\pythonsoftwarefoundation.python.3.11_qbz5n2kfra8p0\\localcache\\local-packages\\python311\\site-packages (from statsmodels) (2.0.0)\n",
      "Collecting patsy>=0.5.2\n",
      "  Downloading patsy-0.5.3-py2.py3-none-any.whl (233 kB)\n",
      "     -------------------------------------- 233.8/233.8 kB 7.2 MB/s eta 0:00:00\n",
      "Requirement already satisfied: packaging>=21.3 in c:\\users\\unbes\\appdata\\local\\packages\\pythonsoftwarefoundation.python.3.11_qbz5n2kfra8p0\\localcache\\local-packages\\python311\\site-packages (from statsmodels) (23.0)\n",
      "Collecting scipy>=1.3\n",
      "  Downloading scipy-1.10.1-cp311-cp311-win_amd64.whl (42.2 MB)\n",
      "     ---------------------------------------- 42.2/42.2 MB 9.8 MB/s eta 0:00:00\n",
      "Requirement already satisfied: numpy>=1.17 in c:\\users\\unbes\\appdata\\local\\packages\\pythonsoftwarefoundation.python.3.11_qbz5n2kfra8p0\\localcache\\local-packages\\python311\\site-packages (from statsmodels) (1.24.2)\n",
      "Requirement already satisfied: python-dateutil>=2.8.2 in c:\\users\\unbes\\appdata\\local\\packages\\pythonsoftwarefoundation.python.3.11_qbz5n2kfra8p0\\localcache\\local-packages\\python311\\site-packages (from pandas>=0.25->statsmodels) (2.8.2)\n",
      "Requirement already satisfied: pytz>=2020.1 in c:\\users\\unbes\\appdata\\local\\packages\\pythonsoftwarefoundation.python.3.11_qbz5n2kfra8p0\\localcache\\local-packages\\python311\\site-packages (from pandas>=0.25->statsmodels) (2023.3)\n",
      "Requirement already satisfied: tzdata>=2022.1 in c:\\users\\unbes\\appdata\\local\\packages\\pythonsoftwarefoundation.python.3.11_qbz5n2kfra8p0\\localcache\\local-packages\\python311\\site-packages (from pandas>=0.25->statsmodels) (2023.3)\n",
      "Requirement already satisfied: six in c:\\users\\unbes\\appdata\\local\\packages\\pythonsoftwarefoundation.python.3.11_qbz5n2kfra8p0\\localcache\\local-packages\\python311\\site-packages (from patsy>=0.5.2->statsmodels) (1.16.0)\n",
      "Installing collected packages: scipy, patsy, statsmodels\n",
      "Successfully installed patsy-0.5.3 scipy-1.10.1 statsmodels-0.13.5\n",
      "Note: you may need to restart the kernel to use updated packages.\n"
     ]
    },
    {
     "name": "stderr",
     "output_type": "stream",
     "text": [
      "\n",
      "[notice] A new release of pip available: 22.3.1 -> 23.1.2\n",
      "[notice] To update, run: C:\\Users\\unbes\\AppData\\Local\\Microsoft\\WindowsApps\\PythonSoftwareFoundation.Python.3.11_qbz5n2kfra8p0\\python.exe -m pip install --upgrade pip\n"
     ]
    }
   ],
   "source": [
    "# pip install statsmodels\n",
    "\n",
    "# 처음에 아래 셀 실행시, ModuleNotFoundError: No module named 'statsmodel' 에러가 떠서 설치\n",
    "\n",
    "# 결과는 아래\n",
    "# Collecting statsmodels\n",
    "#   Downloading statsmodels-0.13.5-cp311-cp311-win_amd64.whl (9.0 MB)\n",
    "    #  ---------------------------------------- 9.0/9.0 MB 10.8 MB/s eta 0:00:00\n",
    "# Requirement already satisfied: pandas>=0.25 in c:\\users\\unbes\\appdata\\local\\packages\\pythonsoftwarefoundation.python.3.11_qbz5n2kfra8p0\\localcache\\local-packages\\python311\\site-packages (from statsmodels) (2.0.0)\n",
    "# Collecting patsy>=0.5.2\n",
    "#   Downloading patsy-0.5.3-py2.py3-none-any.whl (233 kB)\n",
    "    #  -------------------------------------- 233.8/233.8 kB 7.2 MB/s eta 0:00:00\n",
    "# Requirement already satisfied: packaging>=21.3 in c:\\users\\unbes\\appdata\\local\\packages\\pythonsoftwarefoundation.python.3.11_qbz5n2kfra8p0\\localcache\\local-packages\\python311\\site-packages (from statsmodels) (23.0)\n",
    "# Collecting scipy>=1.3\n",
    "#   Downloading scipy-1.10.1-cp311-cp311-win_amd64.whl (42.2 MB)\n",
    "    #  ---------------------------------------- 42.2/42.2 MB 9.8 MB/s eta 0:00:00\n",
    "# Requirement already satisfied: numpy>=1.17 in c:\\users\\unbes\\appdata\\local\\packages\\pythonsoftwarefoundation.python.3.11_qbz5n2kfra8p0\\localcache\\local-packages\\python311\\site-packages (from statsmodels) (1.24.2)\n",
    "# Requirement already satisfied: python-dateutil>=2.8.2 in c:\\users\\unbes\\appdata\\local\\packages\\pythonsoftwarefoundation.python.3.11_qbz5n2kfra8p0\\localcache\\local-packages\\python311\\site-packages (from pandas>=0.25->statsmodels) (2.8.2)\n",
    "# Requirement already satisfied: pytz>=2020.1 in c:\\users\\unbes\\appdata\\local\\packages\\pythonsoftwarefoundation.python.3.11_qbz5n2kfra8p0\\localcache\\local-packages\\python311\\site-packages (from pandas>=0.25->statsmodels) (2023.3)\n",
    "# Requirement already satisfied: tzdata>=2022.1 in c:\\users\\unbes\\appdata\\local\\packages\\pythonsoftwarefoundation.python.3.11_qbz5n2kfra8p0\\localcache\\local-packages\\python311\\site-packages (from pandas>=0.25->statsmodels) (2023.3)\n",
    "# Requirement already satisfied: six in c:\\users\\unbes\\appdata\\local\\packages\\pythonsoftwarefoundation.python.3.11_qbz5n2kfra8p0\\localcache\\local-packages\\python311\\site-packages (from patsy>=0.5.2->statsmodels) (1.16.0)\n",
    "# Installing collected packages: scipy, patsy, statsmodels\n",
    "# Successfully installed patsy-0.5.3 scipy-1.10.1 statsmodels-0.13.5\n",
    "# Note: you may need to restart the kernel to use updated packages.\n",
    "# \n",
    "# [notice] A new release of pip available: 22.3.1 -> 23.1.2\n",
    "# [notice] To update, run: C:\\Users\\unbes\\AppData\\Local\\Microsoft\\WindowsApps\\PythonSoftwareFoundation.Python.3.11_qbz5n2kfra8p0\\python.exe -m pip install --upgrade pip"
   ]
  },
  {
   "cell_type": "code",
   "execution_count": 1,
   "metadata": {},
   "outputs": [
    {
     "ename": "ModuleNotFoundError",
     "evalue": "No module named 'statsmodel'",
     "output_type": "error",
     "traceback": [
      "\u001b[1;31m---------------------------------------------------------------------------\u001b[0m",
      "\u001b[1;31mModuleNotFoundError\u001b[0m                       Traceback (most recent call last)",
      "Cell \u001b[1;32mIn[1], line 2\u001b[0m\n\u001b[0;32m      1\u001b[0m \u001b[39mimport\u001b[39;00m \u001b[39mpandas\u001b[39;00m \u001b[39mas\u001b[39;00m \u001b[39mpd\u001b[39;00m\n\u001b[1;32m----> 2\u001b[0m \u001b[39mimport\u001b[39;00m \u001b[39mstatsmodel\u001b[39;00m\u001b[39m.\u001b[39;00m\u001b[39mapi\u001b[39;00m \u001b[39mas\u001b[39;00m \u001b[39msm\u001b[39;00m \u001b[39m# 통계분석을 위함 라이브러리-회귀분석, 시계열 분석 등 다양한 통계 분석 기능을 제공\u001b[39;00m\n\u001b[0;32m      4\u001b[0m \u001b[39m'''\u001b[39;00m\n\u001b[0;32m      5\u001b[0m \u001b[39mDownload monthly prices of Facebook and S&P 500 index from 2014 to 2017\u001b[39;00m\n\u001b[0;32m      6\u001b[0m \u001b[39mCSV file downloaded from Yahoo File\u001b[39;00m\n\u001b[1;32m   (...)\u001b[0m\n\u001b[0;32m      9\u001b[0m \u001b[39mperiod format: DD/MM/YEAR\u001b[39;00m\n\u001b[0;32m     10\u001b[0m \u001b[39m'''\u001b[39;00m\n\u001b[0;32m     12\u001b[0m fb \u001b[39m=\u001b[39m pd\u001b[39m.\u001b[39mread_csv(\u001b[39m'\u001b[39m\u001b[39mFB.csv\u001b[39m\u001b[39m'\u001b[39m, parse_dates\u001b[39m=\u001b[39m\u001b[39mTrue\u001b[39;00m, index_col\u001b[39m=\u001b[39m\u001b[39m'\u001b[39m\u001b[39mDate\u001b[39m\u001b[39m'\u001b[39m)\n",
      "\u001b[1;31mModuleNotFoundError\u001b[0m: No module named 'statsmodel'"
     ]
    }
   ],
   "source": [
    "import pandas as pd\n",
    "import statsmodel.api as sm # 통계분석을 위함 라이브러리-회귀분석, 시계열 분석 등 다양한 통계 분석 기능을 제공\n",
    "\n",
    "'''\n",
    "Download monthly prices of Facebook and S&P 500 index from 2014 to 2017\n",
    "CSV file downloaded from Yahoo File\n",
    "start period: 02/11/2014 \n",
    "end period: 30/11/2014\n",
    "period format: DD/MM/YEAR\n",
    "'''\n",
    "\n",
    "fb = pd.read_csv('FB.csv', parse_dates=True, index_col='Date')\n",
    "sp_500 = pd.read_csv('^GSPC.csv', parse_dates=True, index_col='Date')\n",
    "\n",
    "# joining the closing prices of the two datasets \n",
    "monthly_prices = pd.concat(fb['close'], sp_500['close'], axis=1)    # axis=1 옵션으로 열 방향으로 합친다\n",
    "monthly_prices.columns = ['FB', '^GSPC']\n",
    "\n",
    "# check the head of the dataframe\n",
    "monthly_prices.head()"
   ]
  },
  {
   "cell_type": "code",
   "execution_count": null,
   "metadata": {},
   "outputs": [],
   "source": [
    "# calculate montly returns\n",
    "monthly_returns = monthly_prices.pct_change(1)  # 1달 전 가격 대비 현재 가격의 변화율을 계산\n",
    "clean_monthly_returns = monthly_returns.dropna(axis=0)  # drop the first missing row: \n",
    "clean_monthly_returns.head()"
   ]
  },
  {
   "attachments": {},
   "cell_type": "markdown",
   "metadata": {},
   "source": [
    "Good! Now that we have a clean set of monthly returns on Facebook and S&P 500. Let’s go ahead and make the Ordinary Least Square (OLS)Regression with Statsmodels."
   ]
  },
  {
   "cell_type": "code",
   "execution_count": null,
   "metadata": {},
   "outputs": [],
   "source": [
    "# split dependent and indepent variables\n",
    "X = clean_monthly_returns['^GSPC']\n",
    "y = clean_monthly_returns['FB']\n",
    "\n",
    "# Add a constant to the indepent value\n",
    "X1 = sm.add_constant(X)\n",
    "\n",
    "# make a regression model\n",
    "model = sm.OLS(y, X1)\n",
    "\n",
    "# fit model and print results\n",
    "results = model.fit()\n",
    "results.summary()"
   ]
  },
  {
   "attachments": {},
   "cell_type": "markdown",
   "metadata": {},
   "source": [
    "The moment of truth! Does our regression model work?"
   ]
  },
  {
   "attachments": {},
   "cell_type": "markdown",
   "metadata": {},
   "source": [
    "As you can see from the summary, the coefficient value for (^GSPC) is 0.5751. If the Beta value provided by Yahoo! Finance is anywhere as close to this figure, then our regression model and attempt to replicate how Yahoo! Finance calculates Beta values is correct."
   ]
  },
  {
   "attachments": {},
   "cell_type": "markdown",
   "metadata": {},
   "source": [
    "BOOM! Yahoo Finance gives Facebook a Beta value of 0.58. Our regression model gives it a value of 0.5751 which when rounded off is 0.58.\n",
    "\n",
    "As a bonus, I am also going to show how Scipy’s lingress method can be used to easily make a linear regression as well."
   ]
  },
  {
   "cell_type": "code",
   "execution_count": null,
   "metadata": {},
   "outputs": [],
   "source": [
    "# \n",
    "from scipy import stats\n",
    "\n",
    "slope, intercept, r_value, p_value, std_err =  stats.linregress(X, y)\n",
    "\n",
    "print(slope)"
   ]
  },
  {
   "attachments": {},
   "cell_type": "markdown",
   "metadata": {},
   "source": [
    "The slope value is 0.575090640347 which when rounded off is the same as the values from both our previous OLS model and Yahoo! Finance.\n",
    "\n",
    "Until the next post, happy coding!\n",
    "\n",
    "As always the source code and associated files for this post along with previous posts can be checked on the [GitHub page](https://github.com/PyDataBlog/Python-for-Data-Science) for the Publication."
   ]
  }
 ],
 "metadata": {
  "kernelspec": {
   "display_name": "Python 3",
   "language": "python",
   "name": "python3"
  },
  "language_info": {
   "codemirror_mode": {
    "name": "ipython",
    "version": 3
   },
   "file_extension": ".py",
   "mimetype": "text/x-python",
   "name": "python",
   "nbconvert_exporter": "python",
   "pygments_lexer": "ipython3",
   "version": "3.11.3"
  },
  "orig_nbformat": 4
 },
 "nbformat": 4,
 "nbformat_minor": 2
}
