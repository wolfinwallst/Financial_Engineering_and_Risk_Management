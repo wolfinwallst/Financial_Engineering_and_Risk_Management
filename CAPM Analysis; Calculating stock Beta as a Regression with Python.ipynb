{
 "cells": [
  {
   "attachments": {},
   "cell_type": "markdown",
   "metadata": {},
   "source": [
    "# CAPM Analysis: Calculating stock Beta as a Regression with Python\n",
    "\n",
    "This jupyter notebook follows [medium post by Bernard Brenyah](https://medium.com/python-data/capm-analysis-calculating-stock-beta-as-a-regression-in-python-c82d189db536).<br>\n",
    "\n",
    "Capital Asset Pricing Model (CAPM) is an extension of the Markowitz’s Modern Portfolio Theory. This model was developed by the independent works of William Sharpe, Jack Treynor, Jan Mossin, and John Lintner who built on the idea of diversification as introduced by the works of Harry Markowitz.\n",
    "\n",
    "CAPM attempts to prices securities by examining the relationship that exists between expected returns and risk. The model implies that investors always combine two types of assets or securities; a risk-free asset and a risky asset in the form of a market portfolio of various assets. CAPM further posits that investors expect to be rewarded for holding these risky assets according to the risk inherited for holding on to such assets. After all, such kind of risk cannot be diversified (*market-related usually referred to as systematic risk*) and as a result, investors need to be compensated for taking on such “*undiversifiable*” risks. It is intuitive when you think about. Let’s look at this example:\n",
    "\n",
    "An investor can buy risk free asset like treasury bills of any stable government. If such an investor opts to buy some investment package from company ABC instead of this risk free assets, then such an investor ought to be compensated for this decision. According to CAPM, company ABC does by this by offering the returns of the treasury bill plus an incentive usually referred to as market **premium/excess** market returns (Market Return-Risk Free Rate) for the given level of risk (**Beta**) the investors take.\n",
    "\n",
    "This is why it is common for most funds to advertise “Treasury Bill rate + XYZ%” to customers.\n",
    "\n",
    "The *Beta of an asset* is a measure of the sensitivity of its returns relative to a market benchmark (usually a market index). How sensitive/insensitive is the returns of an asset to the overall market returns (usually a market index like S&P 500 index). What happens when the market jumps, does the returns of the asset jump accordingly or jump somehow?\n",
    "\n",
    "The formula for calculating Beta of a stock is:\n",
    "\n",
    "$$\n",
    "    \\beta = \\frac{Cov(r_s, r_b)}{Var(r_b)}\n",
    "$$\n",
    "beta formula\n",
    "\n",
    "Interpretation of a Beta result\n",
    "A stock with a beta of:\n",
    "\n",
    "**zero** indicates no correlation with the chosen benchmark (e.g. NASDAQ index )\n",
    "\n",
    "**one** indicates a stock has the same volatility as the market\n",
    "\n",
    "**more than one** indicates a stock that’s more volatile than its benchmark\n",
    "\n",
    "**less than one** is less volatile than the benchmark\n",
    "\n",
    "**1.5** is 50% more volatile than the benchmark\n",
    "\n",
    "If you find the theoretical overview of CAPM confusing, I highly recommend that you watch this video:"
   ]
  },
  {
   "attachments": {},
   "cell_type": "markdown",
   "metadata": {},
   "source": [
    "Great! Now that we have taken care of the theoretical aspects and explained the concept of Beta, let’s get our coding fingers dirty and make some calculations with Python!"
   ]
  },
  {
   "cell_type": "code",
   "execution_count": 1,
   "metadata": {},
   "outputs": [
    {
     "ename": "SyntaxError",
     "evalue": "invalid syntax (1819926489.py, line 4)",
     "output_type": "error",
     "traceback": [
      "\u001b[1;36m  Cell \u001b[1;32mIn[1], line 4\u001b[1;36m\u001b[0m\n\u001b[1;33m    download monthly prices of Facebook and S\u001b[0m\n\u001b[1;37m             ^\u001b[0m\n\u001b[1;31mSyntaxError\u001b[0m\u001b[1;31m:\u001b[0m invalid syntax\n"
     ]
    }
   ],
   "source": [
    "import pandas as pd\n",
    "import statsmodel.api as sm # 통계분석을 위함 라이브러리-회귀분석, 시계열 분석 등 다양한 통계 분석 기능을 제공\n",
    "\n",
    "'''\n",
    "Download monthly prices of Facebook and S&P 500 index from 2014 to 2017\n",
    "CSV file downloaded from Yahoo File\n",
    "start period: 02/11/2014 \n",
    "end period: 30/11/2014\n",
    "period format: DD/MM/YEAR\n",
    "'''\n",
    "\n",
    "fb = pd.read_csv('FB.csv', parse_dates=True, index_col='Date')\n",
    "sp_500 = pd.read_csv('^GSPC.csv', parse_dates=True, index_col='Date')\n",
    "\n",
    "# joining the closing prices of the two datasets \n",
    "monthly_prices = pd.concat(fb['close'], sp_500['close'], axis=1)    # axis=1 옵션으로 열 방향으로 합친다\n",
    "monthly_prices.columns = ['FB', '^GSPC']\n",
    "\n",
    "# check the head of the dataframe\n",
    "monthly_prices.head()"
   ]
  },
  {
   "cell_type": "code",
   "execution_count": null,
   "metadata": {},
   "outputs": [],
   "source": [
    "# calculate montly returns\n",
    "monthly_returns = monthly_prices.pct_change(1)  # 1달 전 가격 대비 현재 가격의 변화율을 계산\n",
    "clean_monthly_returns = monthly_returns.dropna(axis=0)  # drop the first missing row: \n",
    "clean_monthly_returns.head()"
   ]
  },
  {
   "attachments": {},
   "cell_type": "markdown",
   "metadata": {},
   "source": [
    "Good! Now that we have a clean set of monthly returns on Facebook and S&P 500. Let’s go ahead and make the Ordinary Least Square (OLS)Regression with Statsmodels."
   ]
  },
  {
   "cell_type": "code",
   "execution_count": null,
   "metadata": {},
   "outputs": [],
   "source": [
    "# split dependent and indepent variables\n",
    "X = clean_monthly_returns['^GSPC']\n",
    "y = clean_monthly_returns['FB']\n",
    "\n",
    "# Add a constant to the indepent value\n",
    "X1 = sm.add_constant(X)\n",
    "\n",
    "# make a regression model\n",
    "model = sm.OLS(y, X1)\n",
    "\n",
    "# fit model and print results\n",
    "results = model.fit()\n",
    "results.summary()"
   ]
  },
  {
   "attachments": {},
   "cell_type": "markdown",
   "metadata": {},
   "source": [
    "The moment of truth! Does our regression model work?"
   ]
  },
  {
   "attachments": {},
   "cell_type": "markdown",
   "metadata": {},
   "source": [
    "As you can see from the summary, the coefficient value for (^GSPC) is 0.5751. If the Beta value provided by Yahoo! Finance is anywhere as close to this figure, then our regression model and attempt to replicate how Yahoo! Finance calculates Beta values is correct."
   ]
  },
  {
   "attachments": {},
   "cell_type": "markdown",
   "metadata": {},
   "source": [
    "BOOM! Yahoo Finance gives Facebook a Beta value of 0.58. Our regression model gives it a value of 0.5751 which when rounded off is 0.58.\n",
    "\n",
    "As a bonus, I am also going to show how Scipy’s lingress method can be used to easily make a linear regression as well."
   ]
  },
  {
   "cell_type": "code",
   "execution_count": null,
   "metadata": {},
   "outputs": [],
   "source": [
    "# \n",
    "from scipy import stats\n",
    "\n",
    "slope, intercept, r_value, p_value, std_err =  stats.linregress(X, y)\n",
    "\n",
    "print(slope)"
   ]
  },
  {
   "attachments": {},
   "cell_type": "markdown",
   "metadata": {},
   "source": [
    "The slope value is 0.575090640347 which when rounded off is the same as the values from both our previous OLS model and Yahoo! Finance.\n",
    "\n",
    "Until the next post, happy coding!\n",
    "\n",
    "As always the source code and associated files for this post along with previous posts can be checked on the [GitHub page](https://github.com/PyDataBlog/Python-for-Data-Science) for the Publication."
   ]
  }
 ],
 "metadata": {
  "kernelspec": {
   "display_name": "Python 3",
   "language": "python",
   "name": "python3"
  },
  "language_info": {
   "codemirror_mode": {
    "name": "ipython",
    "version": 3
   },
   "file_extension": ".py",
   "mimetype": "text/x-python",
   "name": "python",
   "nbconvert_exporter": "python",
   "pygments_lexer": "ipython3",
   "version": "3.11.2"
  },
  "orig_nbformat": 4
 },
 "nbformat": 4,
 "nbformat_minor": 2
}
