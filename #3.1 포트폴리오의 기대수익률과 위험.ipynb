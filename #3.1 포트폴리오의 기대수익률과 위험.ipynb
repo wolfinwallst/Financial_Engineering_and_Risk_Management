{
 "cells": [
  {
   "attachments": {},
   "cell_type": "markdown",
   "metadata": {},
   "source": [
    "## #3.1 포트폴리오의 기대수익률과 위험\n",
    "\n",
    "Markowitz's MPT(Modern Portfolio Theory) - <*`Portfolio Selection`*>\n",
    "\n",
    "Pareto optimal risk-return (파레토 최적 리스크-수익) 조합\n",
    "\n",
    "### 3.1.1 두 개의 주식으로 구성된 portfolio\n",
    "\n",
    "Consider a portfolio consisting of two stocks $A, B$ with weights $w_A, w_B$ and with individual expected returns $r_A, r_B$, respectively.\n",
    "\n",
    "An expected return(기대 수익률) $r_p$ of the portfolio is:\n",
    "$$\n",
    "    r_p = w_A r_A + w_B r_B\n",
    "$$"
   ]
  },
  {
   "cell_type": "code",
   "execution_count": 1,
   "metadata": {},
   "outputs": [],
   "source": [
    "# initial settings\n",
    "# expected returns for each stock; bull/neutral/bear market resp.\n",
    "stock_a = [0.07, 0.04, 0.01]\n",
    "stock_b = [0.13, 0.04, -0.05]\n",
    "prob = [1/3, 1/3, 1/3]\n",
    "\n",
    "ex_a = 0.0\n",
    "ex_b = 0.0\n",
    "wgt_a = 0.5\n",
    "wgt_b = 0.5"
   ]
  },
  {
   "cell_type": "code",
   "execution_count": 2,
   "metadata": {},
   "outputs": [
    {
     "data": {
      "text/plain": [
       "0.04"
      ]
     },
     "execution_count": 2,
     "metadata": {},
     "output_type": "execute_result"
    }
   ],
   "source": [
    "for s, p in zip(stock_a, prob):\n",
    "    ex_a += s*p\n",
    "\n",
    "ex_a"
   ]
  },
  {
   "cell_type": "code",
   "execution_count": 3,
   "metadata": {},
   "outputs": [
    {
     "data": {
      "text/plain": [
       "0.04"
      ]
     },
     "execution_count": 3,
     "metadata": {},
     "output_type": "execute_result"
    }
   ],
   "source": [
    "# inline for loop\n",
    "ex_a = sum(s*p for s, p in zip(stock_a, prob))\n",
    "\n",
    "ex_a"
   ]
  },
  {
   "cell_type": "code",
   "execution_count": 4,
   "metadata": {},
   "outputs": [
    {
     "data": {
      "text/plain": [
       "0.04000000000000001"
      ]
     },
     "execution_count": 4,
     "metadata": {},
     "output_type": "execute_result"
    }
   ],
   "source": [
    "ex_b = sum(s*p for s, p in zip(stock_b, prob))\n",
    "\n",
    "ex_b"
   ]
  },
  {
   "cell_type": "code",
   "execution_count": 5,
   "metadata": {},
   "outputs": [
    {
     "data": {
      "text/plain": [
       "0.04000000000000001"
      ]
     },
     "execution_count": 5,
     "metadata": {},
     "output_type": "execute_result"
    }
   ],
   "source": [
    "# expected return(기대수익률) of a portfolio\n",
    "ex_p = wgt_a * ex_a + wgt_b * ex_b\n",
    "ex_p"
   ]
  },
  {
   "cell_type": "code",
   "execution_count": 6,
   "metadata": {},
   "outputs": [
    {
     "name": "stdout",
     "output_type": "stream",
     "text": [
      "주식 A의 기대수익률은 4.00%\n",
      "주식 B의 기대수익률은 4.00%\n",
      "포트폴리오의 기대수익률은 4.00%\n"
     ]
    }
   ],
   "source": [
    "print('주식 A의 기대수익률은 {:.2%}'.format(ex_a))\n",
    "print('주식 B의 기대수익률은 {:.2%}'.format(ex_b))\n",
    "print('포트폴리오의 기대수익률은 {:.2%}'.format(ex_p))"
   ]
  },
  {
   "attachments": {},
   "cell_type": "markdown",
   "metadata": {},
   "source": []
  },
  {
   "cell_type": "code",
   "execution_count": 7,
   "metadata": {},
   "outputs": [
    {
     "name": "stdout",
     "output_type": "stream",
     "text": [
      "주식 A의 기대수익률은 4.00%\n",
      "주식 B의 기대수익률은 4.00%\n"
     ]
    }
   ],
   "source": [
    "import numpy as np\n",
    "\n",
    "prob = np.matrix([1/3, 1/3, 1/3])\n",
    "stock_a = np.matrix([7, 4, 1])\n",
    "stock_b = np.matrix([13, 4, -5])\n",
    "\n",
    "ex_a = prob * stock_a.T\n",
    "ex_b = prob * stock_b.T\n",
    "\n",
    "print('주식 A의 기대수익률은 %.2f%%' % ex_a)\n",
    "print('주식 B의 기대수익률은 %.2f%%' % ex_b)"
   ]
  },
  {
   "attachments": {},
   "cell_type": "markdown",
   "metadata": {},
   "source": [
    "now (to extend this method by using `np.matrix` in the future,) we compute the expected return of the whole portfolio consitsting of stock A & B with assigned weights:"
   ]
  },
  {
   "cell_type": "code",
   "execution_count": 8,
   "metadata": {},
   "outputs": [
    {
     "name": "stdout",
     "output_type": "stream",
     "text": [
      "포트폴리오의 기대수익률은 4.00%\n"
     ]
    }
   ],
   "source": [
    "weight = np.matrix([0.5, 0.5])\n",
    "\n",
    "ex_ab = np.matrix([[ex_a.item(), ex_b.item()]])\n",
    "\n",
    "ex_p = weight * ex_ab.T\n",
    "\n",
    "print('포트폴리오의 기대수익률은 %.2f%%' % ex_p)"
   ]
  },
  {
   "cell_type": "code",
   "execution_count": 9,
   "metadata": {},
   "outputs": [
    {
     "name": "stdout",
     "output_type": "stream",
     "text": [
      "포트폴리오의 기대수익률은 4.00%\n"
     ]
    }
   ],
   "source": [
    "weight = np.matrix([0.5, 0.5])\n",
    "\n",
    "# ax_ab = np.matrix([[np.asscalar(ex_a), np.asscalar(ex_b)]])\n",
    "ex_ab = np.matrix([[ex_a.item(), ex_b.item()]])\n",
    "\n",
    "ex_p = weight * ex_ab.T\n",
    "\n",
    "print('포트폴리오의 기대수익률은 %.2f%%' % ex_p)"
   ]
  },
  {
   "attachments": {},
   "cell_type": "markdown",
   "metadata": {},
   "source": [
    "### 포트폴리오의 위험 p 105\n",
    "Let's compute the associated variance, covariance and correlation:\n",
    "\n",
    "$$\n",
    "    \\sigma_p^2 = w_1^2 \\sigma_1^2 + w_2^2 \\sigma_2^2 + 2w_1w_2\\sigma_{12}\n",
    "$$\n",
    "\n",
    "here, $\\sigma_{12}$ is Cov(, )\n",
    "\n",
    "$$\n",
    "    \\sigma_p^2 = w_1^2 \\sigma_1^2 + w_2^2 \\sigma_2^2 + 2w_1w_2 \\sigma_1 \\sigma_2 \\rho_{12}\n",
    "$$\n",
    "\n",
    "where the correlation is $\\rho_{12} = \\frac{\\sigma_{12}}{\\sigma_1 \\sigma_2}$."
   ]
  },
  {
   "cell_type": "code",
   "execution_count": 19,
   "metadata": {},
   "outputs": [
    {
     "name": "stdout",
     "output_type": "stream",
     "text": [
      "0.04 0.04000000000000001\n"
     ]
    }
   ],
   "source": [
    "import math\n",
    "\n",
    "stock_a = [0.07, 0.04, 0.01]\n",
    "stock_b = [0.13, 0.04, -0.05]\n",
    "prob = [1/3, 1/3, 1/3]\n",
    "\n",
    "ex_a = 0.0\n",
    "ex_b = 0.0\n",
    "\n",
    "# for s, p in zip(stock_a, prob):\n",
    "    # ex_a += s*p\n",
    "ex_a = sum(s*p for s, p in zip(stock_a, prob))\n",
    "ex_b = sum(s*p for s, p in zip(stock_b, prob))\n",
    "print(ex_a, ex_b)"
   ]
  },
  {
   "cell_type": "code",
   "execution_count": 15,
   "metadata": {},
   "outputs": [
    {
     "name": "stdout",
     "output_type": "stream",
     "text": [
      "0.0006000000000000001\n"
     ]
    }
   ],
   "source": [
    "var_a, var_b = 0.0, 0.0\n",
    "wgt_a, wgt_b = 0.5, 0.5\n",
    "\n",
    "for s, p in zip(stock_a, prob):\n",
    "    var_a += p*(s-ex_a)**2\n",
    "print(var_a)"
   ]
  },
  {
   "cell_type": "code",
   "execution_count": 17,
   "metadata": {},
   "outputs": [
    {
     "name": "stdout",
     "output_type": "stream",
     "text": [
      "0.0006000000000000001 0.0054\n",
      "주식 A의 분산은 0.06%\n",
      "주식 B의 분산은 0.54%\n"
     ]
    }
   ],
   "source": [
    "var_a = sum(p*(s-ex_a)**2 for s, p in zip(stock_a, prob))\n",
    "var_b = sum(p*(s-ex_b)**2 for s, p in zip(stock_b, prob))\n",
    "\n",
    "print(var_a, var_b)\n",
    "print('주식 A의 분산은 {:.2%}'.format(var_a))\n",
    "print('주식 B의 분산은 {:.2%}'.format(var_b))"
   ]
  },
  {
   "cell_type": "code",
   "execution_count": 18,
   "metadata": {},
   "outputs": [
    {
     "name": "stdout",
     "output_type": "stream",
     "text": [
      "포트폴리오의 분산은 0.24%\n",
      "포트폴리오의 표준편차는 4.90%\n"
     ]
    }
   ],
   "source": [
    "cov = sum(p*(a-ex_a)*(b-ex_b) for a, b, p in zip(stock_a, stock_b, prob))  # definition of Covariance\n",
    "var_p = wgt_a**2 * var_a + wgt_b**2 * var_b + 2 * wgt_a * wgt_b * cov\n",
    "std_p = math.sqrt(var_p)\n",
    "print('포트폴리오의 분산은 {:.2%}'.format(var_p))\n",
    "print('포트폴리오의 표준편차는 {:.2%}'.format(std_p))"
   ]
  },
  {
   "cell_type": "code",
   "execution_count": 27,
   "metadata": {},
   "outputs": [
    {
     "name": "stdout",
     "output_type": "stream",
     "text": [
      "Cov(stock_a, stock_b) is 0.18%\n",
      "Cov(stock_a, stock_b) is: 0.18%\n"
     ]
    }
   ],
   "source": [
    "# print('Cov(stock_a, stock_b) is {:.2%}'.format(cov))\n",
    "print(f'Cov(stock_a, stock_b) is: {cov:.2%}')"
   ]
  },
  {
   "cell_type": "code",
   "execution_count": 32,
   "metadata": {},
   "outputs": [
    {
     "name": "stdout",
     "output_type": "stream",
     "text": [
      "자산 a의 분산: 0.0006000000000000002\n",
      "자산 b의 분산: 0.005399999999999999\n",
      "자산 a의 표준편차: 0.024494897427831785\n",
      "자산 b의 표준편차: 0.07348469228349534\n",
      "두 자산 a, b의 Cov [[0.0009 0.0027]\n",
      " [0.0027 0.0081]]\n"
     ]
    }
   ],
   "source": [
    "# digression - using numpy, this calculation becomes easy\n",
    "import numpy as np\n",
    "\n",
    "variance_a = np.var(stock_a)\n",
    "variance_b = np.var(stock_b)\n",
    "print(\"자산 a의 분산:\", variance_a)\n",
    "print(\"자산 b의 분산:\", variance_b)\n",
    "\n",
    "std_dev_a = np.std(stock_a)\n",
    "std_dev_b = np.std(stock_b)\n",
    "print(\"자산 a의 표준편차:\", std_dev_a)\n",
    "print(\"자산 b의 표준편차:\", std_dev_b)\n",
    "\n",
    "cov_ab = np.cov(stock_a, stock_b)\n",
    "print(\"두 자산 a, b의 Cov\", cov_ab)"
   ]
  },
  {
   "cell_type": "code",
   "execution_count": 33,
   "metadata": {},
   "outputs": [
    {
     "data": {
      "text/plain": [
       "array([[0.0009, 0.0027],\n",
       "       [0.0027, 0.0081]])"
      ]
     },
     "execution_count": 33,
     "metadata": {},
     "output_type": "execute_result"
    }
   ],
   "source": [
    "cov_ab"
   ]
  },
  {
   "attachments": {},
   "cell_type": "markdown",
   "metadata": {},
   "source": [
    "### 3.1.2 $n$ 개의 주식으로 만든 포트폴리오\n",
    "$n$ 개의 자산으로 구성된 포트폴리오의 수익률:\n",
    "$$\n",
    "    r_p = w_1r_1 + w_2r_2 + \\ldots + w_nr_n\n",
    "$$\n",
    "\n",
    "$n$ 개의 자산으로 구성된 포트폴리오의 기대수익률:\n",
    "$$\n",
    "    E(r_p) = w_1E(r_1) + w_2E(r_2) + \\ldots + w_nE(r_n)\n",
    "$$"
   ]
  },
  {
   "cell_type": "code",
   "execution_count": 34,
   "metadata": {},
   "outputs": [
    {
     "name": "stdout",
     "output_type": "stream",
     "text": [
      "1. 난수로 만드는 국면별 주식의 수익률: \n",
      " [[-1.05806373 -0.25223004 -0.60325559]\n",
      " [ 0.17403838 -0.82321254  0.11095813]\n",
      " [-0.70411724 -0.0776854  -0.25076092]]\n"
     ]
    }
   ],
   "source": [
    "# 포트폴리오 기대수익률 계산\n",
    "import numpy as np\n",
    "\n",
    "numStocks = 3\n",
    "\n",
    "# 3 represents three states: bear/neutral/bull market\n",
    "returns = np.random.randn(3, numStocks)\n",
    "print('1. 난수로 만드는 국면별 주식의 수익률: \\n', returns)"
   ]
  },
  {
   "cell_type": "code",
   "execution_count": null,
   "metadata": {},
   "outputs": [],
   "source": []
  }
 ],
 "metadata": {
  "kernelspec": {
   "display_name": "Python 3",
   "language": "python",
   "name": "python3"
  },
  "language_info": {
   "codemirror_mode": {
    "name": "ipython",
    "version": 3
   },
   "file_extension": ".py",
   "mimetype": "text/x-python",
   "name": "python",
   "nbconvert_exporter": "python",
   "pygments_lexer": "ipython3",
   "version": "3.11.3"
  },
  "orig_nbformat": 4
 },
 "nbformat": 4,
 "nbformat_minor": 2
}
