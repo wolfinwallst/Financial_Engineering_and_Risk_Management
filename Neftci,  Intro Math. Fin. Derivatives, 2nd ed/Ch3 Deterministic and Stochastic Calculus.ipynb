{
 "cells": [
  {
   "attachments": {},
   "cell_type": "markdown",
   "metadata": {},
   "source": [
    "# Ch3 Deterministic and Stochastic Calculus\n",
    "\n",
    "# 5 Partial Derivatives\n",
    "\n",
    "### 5.3.2 Example: *Duration and Convexity*\n",
    "\n",
    "Consider the exponential function:\n",
    "$$\n",
    "    B_t = 100e^{-r(T-t)}\n",
    "$$\n",
    "where $t$ denotes time, $T$ is fixed, $r > 0$, and $t \\in [0, T]$.<br><br>\n",
    "\n",
    "$B_t$ could be visualized as the value, at time $t$, of $100$ to be paid at tiem $T$. It's *the present value of a default-free zero-coupon bond* that matures at time $T$, and $r$ is the corresponding continuously compounding *yield to maturity*.<br><br>\n",
    "\n",
    "Assuming that $r, T$ remain constant, a first-order Taylor series expansion around $t=t_0$ is given by\n",
    "$$\n",
    "    B_t \\cong 100e^{-r(T-t_0)} + (r)100e^{-r(T-t_0)}(t-t_0), t \\in [0, T]\n",
    "$$\n",
    "\n",
    "While, its second-order Taylor series appproximation is:\n",
    "$$\n",
    "    B_t \\cong 100e^{-r(T-t_0)} + (r)100e^{-r(T-t_0)}(t-t_0) + \\frac{1}{2}100e^{-r(T-t_0)}(t-t_0)^2, t \\in [0, T]\n",
    "$$\n",
    "These Taylor series approximations show how the valuation of a discount bond changes as the *maturity date* approaches.<br><br>"
   ]
  },
  {
   "cell_type": "code",
   "execution_count": 1,
   "metadata": {},
   "outputs": [],
   "source": [
    "import numpy as np"
   ]
  },
  {
   "cell_type": "code",
   "execution_count": 3,
   "metadata": {},
   "outputs": [
    {
     "data": {
      "text/plain": [
       "(18.26254749949081, 20.603899743015273)"
      ]
     },
     "execution_count": 3,
     "metadata": {},
     "output_type": "execute_result"
    }
   ],
   "source": [
    "# 1st order Taylor approximation around t0, here t0 is near t\n",
    "def zcb_1st(r, T, t, t0):\n",
    "    Bt0 = 100 * np.exp(-r * (T - t0))\n",
    "    return Bt0 + r * Bt0 * (t - t0)\n",
    "\n",
    "# 2nd order appproximation\n",
    "def zcb_2nd(r, T, t, t0):\n",
    "    Bt0 = 100 * np.exp(-r * (T - t0))\n",
    "    return Bt0 + r * Bt0 * (t - t0) + 0.5 * Bt0 * (t - t0) ** 2\n",
    "\n",
    "r = 0.05\n",
    "T = 36\n",
    "t = 2\n",
    "t0 = 2.5\n",
    "\n",
    "(zcb_1st(r, T, t, t0), zcb_2nd(r, T, t, t0))"
   ]
  },
  {
   "cell_type": "code",
   "execution_count": null,
   "metadata": {},
   "outputs": [],
   "source": [
    "# plot of zcb_1st & zcb_2nd s\n"
   ]
  },
  {
   "attachments": {},
   "cell_type": "markdown",
   "metadata": {},
   "source": [
    "A Second-order Taylor series w.r.t. $r$, while keeping $t, T$ fixed, around the rate $r_0$ is given by:\n",
    "$$\n",
    "    B_t \\cong 100e^{-r_0(T-t)} \\left[ 1-(T-t)(r-r_0) + \\frac{1}{2}(T-t)^2(r-r_0)^2 \\right], \\quad t \\in [0, T], r>0\n",
    "$$\n",
    "and dividing by $100e^{-r_0(T-t)}$ yields\n",
    "$$\n",
    "    \\frac{dB_t}{B_t} \\cong (T-t)(r-r_0) + \\frac{1}{2}(T-t)^2(r-r_0)^2, \\quad t \\in [0, T], r>0\n",
    "$$\n",
    "This expression provides a second-order Taylor series expansion for the percentage rate of change in the value of a zero coupon bond as $r$ changes infinitesimally. In financial markets the coefficient of the first term is called the *modified duration* and the second therm is positive and has a coefficient of $1/2(T-t)^2$. It represents the so-called *convexity* of the bond. This expansion w.r.t. $r$ shows that, as interest rates increase(decrease), the value of the bond decreases(increases). The \"convexity\" of the bond implies that the bigger these changes, the smaller their *relative* effects."
   ]
  },
  {
   "cell_type": "code",
   "execution_count": 5,
   "metadata": {},
   "outputs": [
    {
     "data": {
      "text/plain": [
       "18.86323947845598"
      ]
     },
     "execution_count": 5,
     "metadata": {},
     "output_type": "execute_result"
    }
   ],
   "source": [
    "def zcb_2nd_r(T, t, r, r0):\n",
    "    Br0 = 100 * np.exp(-r0 * (T - t))\n",
    "    d = (T - t) * (r - r0)  # difference\n",
    "    return Br0 * (1 - d + 0.5 * d ** 2)\n",
    "\n",
    "r0 = 0.035\n",
    "zcb_2nd_r(T, t, r, r0)"
   ]
  },
  {
   "attachments": {},
   "cell_type": "markdown",
   "metadata": {},
   "source": [
    "### 5.4 Ordinary Differential Equations\n",
    "Consider the expression\n",
    "$$\n",
    "    dB_t = -r_t B_t dt \\quad \\text{ with known } \\quad B_0, r_t >0\n",
    "$$\n",
    "with condition $B_T=1$:  the valuation function for a zero-coupon bond. This example shows that the pricing functions for fixed income securities can be characterized as solutions of some appropriate differential equations. In stochastic settings, we will obtain more complex versions of this result.There the solution to the above ODE is\n",
    "$$\n",
    "    B_t = \\exp{(-\\int_t^T r_u du)}\n",
    "$$"
   ]
  },
  {
   "cell_type": "code",
   "execution_count": null,
   "metadata": {},
   "outputs": [],
   "source": [
    "# how do we implement numerical integration?\n",
    "def val_zcb(t, T ru):\n",
    "    return np.exp(-)"
   ]
  }
 ],
 "metadata": {
  "kernelspec": {
   "display_name": "Python 3",
   "language": "python",
   "name": "python3"
  },
  "language_info": {
   "codemirror_mode": {
    "name": "ipython",
    "version": 3
   },
   "file_extension": ".py",
   "mimetype": "text/x-python",
   "name": "python",
   "nbconvert_exporter": "python",
   "pygments_lexer": "ipython3",
   "version": "3.11.3"
  },
  "orig_nbformat": 4
 },
 "nbformat": 4,
 "nbformat_minor": 2
}
