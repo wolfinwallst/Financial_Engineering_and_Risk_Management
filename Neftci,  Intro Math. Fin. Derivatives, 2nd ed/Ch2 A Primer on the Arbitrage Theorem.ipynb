{
 "cells": [
  {
   "attachments": {},
   "cell_type": "markdown",
   "metadata": {},
   "source": [
    "# Ch 2 A Primer on the Arbitrage Theorem \n",
    "\n",
    "(*Arbitrage*) Theorem<br>\n",
    "Given the $S_t, D_t$ defined, and given that the two states have positive probabilities occurence,\n",
    "1. if *positive* constants $\\psi_1, \\psi_2$ can be found such that asset prices satisfy\n",
    "$$\n",
    "\\begin{pmatrix}\n",
    "    1 \\\\ S(t) \\\\ C(t)\n",
    "\\end{pmatrix}\n",
    "=\n",
    "\\begin{pmatrix}\n",
    "    1+r & 1+r \\\\ S_1(t+1) & S_2(t+1) \\\\ C_1(t+1) & C_2(t+1)\n",
    "\\end{pmatrix}\n",
    "\\begin{pmatrix}\n",
    "    \\psi_1 \\\\ \\psi_2\n",
    "\\end{pmatrix}\n",
    "$$\n",
    "then there are no arbitrage possibilities and\n",
    "\n",
    "2. if there are no arbitrage opportunities, then positive constants $\\psi_1, \\psi_2$ satisfying the above equation(i.e., portfolio w/ 3 assets in 2 worlds) can be found.\n",
    "\n",
    "## 3. A Basic Example of Asset Pricing\n",
    "\n"
   ]
  },
  {
   "cell_type": "code",
   "execution_count": null,
   "metadata": {},
   "outputs": [],
   "source": []
  },
  {
   "attachments": {},
   "cell_type": "markdown",
   "metadata": {},
   "source": [
    "## 4. A numerical example\n",
    "\n",
    "### 4.1 Case 1: Arbitrage Possibilities\n",
    "Setting the premium $$C of given option to be $25$ does not give an arbitrage opportunity:"
   ]
  },
  {
   "cell_type": "code",
   "execution_count": 1,
   "metadata": {},
   "outputs": [],
   "source": [
    "import numpy as np"
   ]
  },
  {
   "cell_type": "code",
   "execution_count": 16,
   "metadata": {},
   "outputs": [],
   "source": [
    "# initial values given\n",
    "r = 0.1\n",
    "S_t = 100\n",
    "S1_t1 = 100\n",
    "S2_t1 = 150\n",
    "C1_t1 = 0\n",
    "C2_t1 = 50\n",
    "\n",
    "# premium of option\n",
    "C = 25\n",
    "\n",
    "# psi2\n",
    "psi2 = C / 50\n",
    "psi1 = 1 - 1.5 * psi2\n",
    "\n",
    "a = np.array([[1], [100], [C]])  # one may change this into np.matrix()\n",
    "b = np.array([[1.1, 1.1], [100, 150], [0, 50]])\n",
    "x = np.array([[psi1], [psi2]])"
   ]
  },
  {
   "cell_type": "code",
   "execution_count": 17,
   "metadata": {},
   "outputs": [
    {
     "data": {
      "text/plain": [
       "False"
      ]
     },
     "execution_count": 17,
     "metadata": {},
     "output_type": "execute_result"
    }
   ],
   "source": [
    "np.allclose(a, np.dot(b, x))"
   ]
  },
  {
   "attachments": {},
   "cell_type": "markdown",
   "metadata": {},
   "source": [
    "### 4.2 Case2: Arbitrage-free prices\n",
    "Instead, solve from the first two rows to obtain $\\psi_1, \\psi_2$ first. Then derive the arbitrage-free price of $C$:"
   ]
  },
  {
   "cell_type": "code",
   "execution_count": 19,
   "metadata": {},
   "outputs": [
    {
     "data": {
      "text/plain": [
       "(0.727272727272727, 0.18181818181818202)"
      ]
     },
     "execution_count": 19,
     "metadata": {},
     "output_type": "execute_result"
    }
   ],
   "source": [
    "c = np.array([[1 + r, 1 + r], [S1_t1, S2_t1]])\n",
    "d = np.array([1, S_t])\n",
    "psi1, psi2 = np.linalg.solve(c, d)\n",
    "(psi1, psi2)"
   ]
  },
  {
   "cell_type": "code",
   "execution_count": 20,
   "metadata": {},
   "outputs": [
    {
     "data": {
      "text/plain": [
       "9.0909090909091"
      ]
     },
     "execution_count": 20,
     "metadata": {},
     "output_type": "execute_result"
    }
   ],
   "source": [
    "C_arb_free = C1_t1 * psi1 + C2_t1 * psi2\n",
    "C_arb_free"
   ]
  },
  {
   "attachments": {},
   "cell_type": "markdown",
   "metadata": {},
   "source": [
    "The results are exactly the same as in the book: $\\psi_1 = \\frac{8}{11}, \\psi_2 = \\frac{2}{11}$.<br>\n",
    "Note that using the constants $\\psi_1, \\psi_2$, we derived the arbitrage-free price $C = 9.09$.<br><br>\n",
    "\n",
    "### 5 An application: lattice models\n",
    "\n",
    "Our procedure consists of:\n",
    "1. We first go foward: computing stock prices $S(t)$ at time $t$, for each $t \\leq M$, when $M$ is maturity - to determine the expiration date values of the call option.\n",
    "2. go backwards: using the risk-adjusted probabilites and the boundary condition, with the lattice for the call option to determine the current value $C_t$.\n",
    "\n",
    "We first divide the time interval $T - t = T - 0 = T$ into $n$ smaller intervals, each of size $\\Delta$.\n",
    "\n",
    "First step: compute the lattice of stock prices $S_t$ with an assumption that during $\\delta = T / M$ the only possible changes in $S_t$ are an *up movement* by $\\sigma \\sqrt{\\Delta}$ or a *down* movement by $-\\sigma \\sqrt{\\Delta}$:\n",
    "$$\n",
    "    S_{t + \\Delta} = \n",
    "    \\begin{cases}\n",
    "      S_t + \\sigma \\sqrt{\\Delta}, & \\text{up movement} \\\\\n",
    "      S_t - \\sigma \\sqrt{\\Delta}, & \\text{down movement}\n",
    "    \\end{cases}\n",
    "$$\n",
    "\n",
    "\n",
    "We know from the arbitrage theorem that the risk-adjusted probabilities $\\tilde{P}_\\text{up}$ and $\\tilde{P}_\\text{down}$ must satisfy\n",
    "$$\n",
    "  S_t = \\frac{1}{1 + r} \\left[ \\tilde{P}_\\text{up} (S_t + \\sigma \\sqrt{\\Delta}) + \\tilde{P}_\\text{down} (S_t - \\sigma \\sqrt{\\Delta}) \\right]\n",
    "$$"
   ]
  },
  {
   "cell_type": "code",
   "execution_count": 32,
   "metadata": {},
   "outputs": [],
   "source": [
    "# initial values\n",
    "S0 = 100\n",
    "sigma = 0.05  # volatility parameter\n",
    "# delta = 0.5\n",
    "T = 1.0  # time interval\n",
    "n = 20  # the number of time intervals\n",
    "delta = T / n\n",
    "# p_up = 0.75\n",
    "# p_down = 1 / p_up\n",
    "\n",
    "# up and down movement\n",
    "def up(St):\n",
    "    return St + sigma * np.sqrt(delta)\n",
    "\n",
    "def down(St):    \n",
    "    return St - sigma * np.sqrt(delta)\n",
    "\n",
    "# lattice model(tree model), which is binary\n",
    "def stock_tree(S0, sigma, T, n):\n",
    "    delta = T / n\n",
    "    S = np.zeros((n + 1, n + 1))\n",
    "    S[0, 0] = S0\n",
    "    r = 1\n",
    "    \n",
    "    for t in range(1, n + 1):\n",
    "        for i in range(r):\n",
    "            S[i, t] = up(S[i, t - 1])\n",
    "            S[i + 1, t] = down(S[i, t - 1])\n",
    "        r += 1\n",
    "    return S"
   ]
  },
  {
   "cell_type": "code",
   "execution_count": 33,
   "metadata": {},
   "outputs": [
    {
     "data": {
      "text/plain": [
       "99.9888196601125"
      ]
     },
     "execution_count": 33,
     "metadata": {},
     "output_type": "execute_result"
    }
   ],
   "source": [
    "down(100)"
   ]
  },
  {
   "cell_type": "code",
   "execution_count": 34,
   "metadata": {},
   "outputs": [
    {
     "data": {
      "text/plain": [
       "array([[100.        , 100.01118034, 100.02236068, 100.03354102],\n",
       "       [  0.        ,  99.98881966, 100.        , 100.01118034],\n",
       "       [  0.        ,   0.        ,  99.97763932,  99.98881966],\n",
       "       [  0.        ,   0.        ,   0.        ,  99.96645898]])"
      ]
     },
     "execution_count": 34,
     "metadata": {},
     "output_type": "execute_result"
    }
   ],
   "source": [
    "stock_tree(S0, sigma, T, 3)"
   ]
  },
  {
   "cell_type": "code",
   "execution_count": 39,
   "metadata": {},
   "outputs": [
    {
     "data": {
      "text/plain": [
       "array([[100.00, 100.01, 100.02, 100.03, 100.04],\n",
       "       [  0.00,  99.99, 100.00, 100.01, 100.02],\n",
       "       [  0.00,   0.00,  99.98,  99.99, 100.00],\n",
       "       [  0.00,   0.00,   0.00,  99.97,  99.98],\n",
       "       [  0.00,   0.00,   0.00,   0.00,  99.96]])"
      ]
     },
     "execution_count": 39,
     "metadata": {},
     "output_type": "execute_result"
    }
   ],
   "source": [
    "np.set_printoptions(formatter={'float': lambda x: '%6.2f' % x})  # for formatting\n",
    "stock_tree(S0, sigma, T, 4)"
   ]
  },
  {
   "attachments": {},
   "cell_type": "markdown",
   "metadata": {},
   "source": [
    "Second step: go backward using\n",
    "$$\n",
    "    C_t = \\frac{1}{1 + r} \\left[\\tilde{P}_\\text{up}C_{t+\\Delta}^{\\text{up}} + \\tilde{P}_\\text{down}C_{t+\\Delta}^{\\text{down}} \\right]\n",
    "$$"
   ]
  },
  {
   "cell_type": "code",
   "execution_count": null,
   "metadata": {},
   "outputs": [],
   "source": [
    "# initializing, at maturity, the tree of call option prices(backwards process)\n",
    "callopt_pr = np.zeros(n + 1, n + 1)\n",
    "callopt_pr[:, n] = np.maximum(S[:, n], 0)\n",
    "\n",
    "for i in range(n - 1, -1, -1):\n",
    "    for j in range(i + 1):\n",
    "        callopt_pr[j, i] = \n",
    "\n",
    "# call option prices tree\n",
    "def callopt_tree():\n",
    "    C = np.zeros((M + 1, M + 1))\n",
    "    C[]\n",
    "    return C"
   ]
  },
  {
   "cell_type": "code",
   "execution_count": 40,
   "metadata": {},
   "outputs": [
    {
     "name": "stdout",
     "output_type": "stream",
     "text": [
      "Tree Model:\n",
      "[[100.00 110.00 121.00 133.10 146.41 161.05]\n",
      " [  0.00  90.00  99.00 108.90 119.79 131.77]\n",
      " [  0.00   0.00  81.00  89.10  98.01 107.81]\n",
      " [  0.00   0.00   0.00  72.90  80.19  88.21]\n",
      " [  0.00   0.00   0.00   0.00  65.61  72.17]\n",
      " [  0.00   0.00   0.00   0.00   0.00  59.05]]\n",
      "\n",
      "Option Prices:\n",
      "[[ 67.35 119.39 118.95  99.65  76.67  56.05]\n",
      " [  0.00 189.70 116.70  71.60  43.83  26.77]\n",
      " [  0.00   0.00  14.13   8.25   4.82   2.81]\n",
      " [  0.00   0.00   0.00   0.00   0.00   0.00]\n",
      " [  0.00   0.00   0.00   0.00   0.00   0.00]\n",
      " [  0.00   0.00   0.00   0.00   0.00   0.00]]\n"
     ]
    }
   ],
   "source": [
    "import numpy as np\n",
    "\n",
    "def build_tree_model(S0, u, d, T, N):\n",
    "    dt = T / N  # 시간 간격\n",
    "    p = (np.exp(u * dt) - d) / (u - d)  # 위로 올라갈 확률\n",
    "\n",
    "    # 주식 가격의 이동 행렬 초기화\n",
    "    tree = np.zeros((N+1, N+1))\n",
    "    tree[0, 0] = S0  # 초기 주식 가격\n",
    "\n",
    "    # 주식 가격 계산\n",
    "    for i in range(1, N+1):\n",
    "        for j in range(i):\n",
    "            tree[j, i] = tree[j, i-1] * u\n",
    "        tree[i, i] = tree[i-1, i-1] * d\n",
    "\n",
    "    # 콜 옵션 가격 계산 (역순으로 계산)\n",
    "    option_prices = np.zeros((N+1, N+1))\n",
    "    option_prices[:, N] = np.maximum(tree[:, N] - K, 0)  # 만기에서의 콜 옵션 가격\n",
    "\n",
    "    for i in range(N-1, -1, -1):\n",
    "        for j in range(i+1):\n",
    "            option_prices[j, i] = np.exp(-r * dt) * (p * option_prices[j, i+1] + (1-p) * option_prices[j+1, i+1])\n",
    "\n",
    "    return tree, option_prices\n",
    "\n",
    "# 파라미터 설정\n",
    "S0 = 100  # 초기 주식 가격\n",
    "u = 1.1  # 위로 올라가는 비율\n",
    "d = 0.9  # 아래로 내려가는 비율\n",
    "T = 1  # 만기까지의 기간\n",
    "N = 5  # 트리의 레벨 수\n",
    "K = 105  # 행사 가격\n",
    "r = 0.05  # 무위험 이자율\n",
    "\n",
    "# 트리 모델 구축\n",
    "tree, option_prices = build_tree_model(S0, u, d, T, N)\n",
    "\n",
    "# 결과 출력\n",
    "print(\"Tree Model:\")\n",
    "print(tree)\n",
    "\n",
    "print(\"\\nOption Prices:\")\n",
    "print(option_prices)\n"
   ]
  },
  {
   "cell_type": "code",
   "execution_count": null,
   "metadata": {},
   "outputs": [],
   "source": [
    "r = 0.10\n",
    "p_up =\n",
    "p_down = \n",
    "St = \n",
    "sigma =\n",
    "delta =\n",
    "St\n"
   ]
  },
  {
   "attachments": {},
   "cell_type": "markdown",
   "metadata": {},
   "source": [
    "## 6 Payouts and Foreign Currencies\n",
    "\n",
    "### 6.1 The Case with Dividens\n",
    "Assume that we now add a dividend equal to $d_t$ percent of $S_{t+\\Delta}$.\n",
    "Our portfolio changes into\n",
    "$$\n",
    "\\begin{pmatrix}\n",
    "    B_t \\\\ S_t \\\\ C_t\n",
    "\\end{pmatrix}\n",
    "=\n",
    "\\begin{pmatrix}\n",
    "    B_{t+\\Delta}^u & B_{t+\\Delta}^d\\\\ S_{t+\\Delta}^u + d_t S_{t+\\Delta}^u & S_{t+\\Delta}^d + d_t S_{t+\\Delta}^d \\\\ C_{t+\\Delta}^u & C_{t+\\Delta}^d\n",
    "\\end{pmatrix}\n",
    "\\begin{pmatrix}\n",
    "    \\psi_t^u \\\\ \\psi_t^d\n",
    "\\end{pmatrix}\n",
    "$$\n",
    "\n",
    "From there, we obtain\n",
    "$$\n",
    "    S = \\frac{1+d}{1+r}\\left[S^u \\tilde{P}^u + S^d \\tilde{P}^d \\right]\n",
    "$$\n",
    "\n",
    "... and then, via a first-order approximation, we obtain\n",
    "$$\n",
    "    S_{t + \\Delta} \\cong S_t + (r-d)S_t\\Delta + \\sigma S_t \\Delta W_{t + \\Delta}\n",
    "$$\n",
    "\n",
    "and letting $\\Delta \\to 0$, we get a SDE(stochastic differential equation):\n",
    "$$\n",
    "    dS_t = (r-d)S_tdt + \\sigma S_t dW_t\n",
    "$$\n",
    ", here the 1st term is the *drift* term for $dS_t$.\n",
    "\n",
    "For the call option price, we have\n",
    "$$\n",
    "    C = \\frac{1}{1+r}\\left[C^u \\tilde{P}^u + C^d \\tilde{P}^d \\right]\n",
    "$$"
   ]
  },
  {
   "cell_type": "code",
   "execution_count": null,
   "metadata": {},
   "outputs": [],
   "source": [
    "# tree model for the case with dividens\n"
   ]
  },
  {
   "attachments": {},
   "cell_type": "markdown",
   "metadata": {},
   "source": [
    "### 6.2 The Case with Foreign Currencies\n",
    "Assume now that  $e_t$ is the exchange rate at time $t$ and the foreign savings interest rate is known and is given by $r^f$.\n",
    "Our portfolio changes into\n",
    "$$\n",
    "\\begin{pmatrix}\n",
    "    1 \\\\ 1 \\\\ C_t\n",
    "\\end{pmatrix}\n",
    "=\n",
    "\\begin{pmatrix}\n",
    "    1+r & 1+r \\\\ \\frac{e_{t+\\Delta}^u}{e_t}(1+r^f) & \\frac{e_{t+\\Delta}^d}{e_t}(1+r^f) \\\\ C_{t+\\Delta}^u & C_{t+\\Delta}^d\n",
    "\\end{pmatrix}\n",
    "\\begin{pmatrix}\n",
    "    \\psi_t^u \\\\ \\psi_t^d\n",
    "\\end{pmatrix}\n",
    "$$\n",
    "\n",
    "From there, we get the following pricing equations:\n",
    "\\begin{align*}\n",
    "    e &= \\frac{1+r^f}{1+r} \\left[ e^u \\tilde{P}^u + e^d \\tilde{P}^d \\right] \\\\\n",
    "    C &= \\frac{1}{1+r} \\left[ C^u \\tilde{P}^u + C^d \\tilde{P}^d \\right]\n",
    "\\end{align*}"
   ]
  },
  {
   "cell_type": "code",
   "execution_count": null,
   "metadata": {},
   "outputs": [],
   "source": [
    "# tree model for the case with Foreign Currencies\n"
   ]
  }
 ],
 "metadata": {
  "kernelspec": {
   "display_name": "Python 3",
   "language": "python",
   "name": "python3"
  },
  "language_info": {
   "codemirror_mode": {
    "name": "ipython",
    "version": 3
   },
   "file_extension": ".py",
   "mimetype": "text/x-python",
   "name": "python",
   "nbconvert_exporter": "python",
   "pygments_lexer": "ipython3",
   "version": "3.11.3"
  },
  "orig_nbformat": 4
 },
 "nbformat": 4,
 "nbformat_minor": 2
}
