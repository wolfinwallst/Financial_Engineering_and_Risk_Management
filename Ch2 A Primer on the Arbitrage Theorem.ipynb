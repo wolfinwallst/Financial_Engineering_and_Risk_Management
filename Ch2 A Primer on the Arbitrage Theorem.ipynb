{
 "cells": [
  {
   "attachments": {},
   "cell_type": "markdown",
   "metadata": {},
   "source": [
    "# Ch 2 A Primer on the Arbitrage Theorem \n",
    "\n",
    "(Arbitrage) Theorem<br>\n",
    "Given the $S_t, D_t$ defined, and given that the two states have positive probabilities occurence,\n",
    "1. if *positive* constants $\\psi_1, \\psi_2$ can be found such that asset prices satisfy\n",
    "$$\n",
    "\\begin{pmatrix}\n",
    "    1 \\\\ S(t) \\\\ C(t)\n",
    "\\end{pmatrix}\n",
    "=\n",
    "\\begin{pmatrix}\n",
    "    1+r & 1+r \\\\ S_1(t+1) & S_2(t+1) \\\\ C_1(t+1) & C_2(t+1)\n",
    "\\end{pmatrix}\n",
    "\\begin{pmatrix}\n",
    "    \\psi_1 \\\\ \\psi_2\n",
    "\\end{pmatrix}\n",
    "$$\n",
    "then there are no arbitrage possibilities and\n",
    "\n",
    "2. if there are no arbitrage opportunities, then positive constants $\\psi_1, \\psi_2$ satisfying the above equation(i.e., portfolio w/ 3 assets in 2 worlds) can be found.\n",
    "\n",
    "## 3. A Basic Example of Asset Pricing\n",
    "\n"
   ]
  },
  {
   "cell_type": "code",
   "execution_count": null,
   "metadata": {},
   "outputs": [],
   "source": []
  },
  {
   "attachments": {},
   "cell_type": "markdown",
   "metadata": {},
   "source": [
    "## 4. A numerical example\n",
    "\n",
    "### 4.1 Case 1: Arbitrage Possibilities\n",
    "Setting the premium $$C of given option to be $25$ does not give an arbitrage opportunity:"
   ]
  },
  {
   "cell_type": "code",
   "execution_count": null,
   "metadata": {},
   "outputs": [],
   "source": [
    "import numpy as np"
   ]
  },
  {
   "cell_type": "code",
   "execution_count": null,
   "metadata": {},
   "outputs": [],
   "source": [
    "# initial values given\n",
    "r = 0.1\n",
    "S_t = 100\n",
    "S1_t1 = 100\n",
    "S2_t1 = 150\n",
    "C1_t1 = 0\n",
    "C2_t1 = 50\n",
    "\n",
    "# premium of option\n",
    "C = 25\n",
    "\n",
    "a = np.array([1 + r, 1 + r], [S1_t1, S2_t1], [C1_t1, C2_t1])\n",
    "b = np.array([1, S_t, C])\n",
    "x = np.linalg.solve(a, b)\n",
    "x"
   ]
  },
  {
   "cell_type": "code",
   "execution_count": null,
   "metadata": {},
   "outputs": [],
   "source": [
    "np.allclose(np.dot(a, x), b)"
   ]
  },
  {
   "attachments": {},
   "cell_type": "markdown",
   "metadata": {},
   "source": [
    "### 4.2 Case2: Arbitrage-free prices\n",
    "Instead, solve from the first two rows to obtain $\\psi_1, \\psi_2$ first. Then derive the arbitrage-free price of $C$:"
   ]
  },
  {
   "cell_type": "code",
   "execution_count": null,
   "metadata": {},
   "outputs": [],
   "source": [
    "c = np.array([1 + r, 1 + r], [S1_t1, S2_t1])\n",
    "d = np.array([1, S_t])\n",
    "psi1, psi2 = np.linalg.solve(c, d)\n",
    "(psi1, psi2)"
   ]
  },
  {
   "cell_type": "code",
   "execution_count": null,
   "metadata": {},
   "outputs": [],
   "source": [
    "C_arb_free = C1_t1 * psi1 + C2_t1 * psi2\n",
    "C_arb_free"
   ]
  },
  {
   "attachments": {},
   "cell_type": "markdown",
   "metadata": {},
   "source": [
    "### 5 An application: lattice models\n",
    "\n",
    "Our procedure consists of:\n",
    "1. We first go foward: computing stock prices $S(t)$ at time $t$, for each $t \\leq M$, when $M$ is maturity - to determine the expiration date values of the call option.\n",
    "2. go backwards: using the risk-adjusted probabilites and the boundary condition, with the lattice for the call option to determine the current value $C_t$.\n",
    "\n",
    "First step: the lattice of stock prices\n",
    "$$\n",
    "    S_{t + \\Delta} = \n",
    "    \\begin{cases}\n",
    "      S_t + \\sigma \\sqrt{\\Delta}, & \\text{up movement} \\\\\n",
    "      S_t - \\sigma \\sqrt{\\Delta}, & \\text{down movement}\n",
    "    \\end{cases}\n",
    "$$"
   ]
  },
  {
   "cell_type": "code",
   "execution_count": null,
   "metadata": {},
   "outputs": [],
   "source": [
    "S0 = 100\n",
    "sigma = 0.05\n",
    "delta = 0.5\n",
    "M = 5  # maturity\n",
    "\n",
    "# up and down movement\n",
    "def up(St):    \n",
    "    return St + sigma * np.sqrt(delta)\n",
    "\n",
    "def down(St):    \n",
    "    return St - sigma * np.sqrt(delta)\n",
    "\n",
    "# lattice model(tree model), which is binary\n",
    "T = 4  # maturity\n",
    "S_price = np.zeros((T + 1, T + 1))\n",
    "\n",
    "def stock_tree(S0, sigma, delta, M):\n",
    "    delta = T / M\n",
    "    S_price = np.zeros((M + 1, M + 1))\n",
    "    S_price[0, 0] = S0\n",
    "    r = 1\n",
    "    for t in range(1, M + 1):\n",
    "        for i range(r):\n",
    "            S_price[i, t] = up(S[i, t - 1])\n",
    "            S_price[i + 1, t] = down(S[i, t - 1])\n",
    "        r += 1\n",
    "    return S_price"
   ]
  },
  {
   "attachments": {},
   "cell_type": "markdown",
   "metadata": {},
   "source": [
    "Second step: go backward using\n",
    "$$\n",
    "    C_t = \\frac{1}{1 + r} \\left[\\widetilde{P_{\\text{up}}}C_{t+\\Delta}^{\\text{up}} + \\widetilde{P_{\\text{down}}}C_{t+\\Delta}^{\\text{down}} \\right]\n",
    "$$"
   ]
  },
  {
   "cell_type": "code",
   "execution_count": null,
   "metadata": {},
   "outputs": [],
   "source": [
    "def callopt_tree():\n",
    "    C = np.zeros((M + 1, M + 1))\n",
    "    C[]\n",
    "    return C"
   ]
  },
  {
   "cell_type": "code",
   "execution_count": null,
   "metadata": {},
   "outputs": [],
   "source": [
    "r = 0.10\n",
    "p_up =\n",
    "p_down = \n",
    "St = \n",
    "sigma =\n",
    "delta =\n",
    "St\n"
   ]
  }
 ],
 "metadata": {
  "kernelspec": {
   "display_name": "Python 3",
   "language": "python",
   "name": "python3"
  },
  "language_info": {
   "codemirror_mode": {
    "name": "ipython",
    "version": 3
   },
   "file_extension": ".py",
   "mimetype": "text/x-python",
   "name": "python",
   "nbconvert_exporter": "python",
   "pygments_lexer": "ipython3",
   "version": "3.11.3"
  },
  "orig_nbformat": 4
 },
 "nbformat": 4,
 "nbformat_minor": 2
}
