{
  "cells": [
    {
      "cell_type": "markdown",
      "metadata": {
        "id": "view-in-github",
        "colab_type": "text"
      },
      "source": [
        "<a href=\"https://colab.research.google.com/github/wolfinwallst/Financial_Engineering_and_Risk_Management/blob/main/Black_Scholes_binary_tree.ipynb\" target=\"_parent\"><img src=\"https://colab.research.google.com/assets/colab-badge.svg\" alt=\"Open In Colab\"/></a>"
      ]
    },
    {
      "cell_type": "markdown",
      "metadata": {
        "id": "usExQC6tQJxp"
      },
      "source": [
        "[옵션 #7. 옵션 프리미엄 구하기 실습: Binomial Tree](https://sine-qua-none.tistory.com/113) 참조\n",
        "\n",
        "1. 이항 트리를 사용해서 점화식을 유도하고, 이걸 이용해서 만기시 콜옵션 가격을 계산하고,\n",
        "2. exact solution과 비교한다."
      ]
    },
    {
      "cell_type": "code",
      "execution_count": 3,
      "metadata": {
        "colab": {
          "base_uri": "https://localhost:8080/"
        },
        "id": "4blAJU2bQJxs",
        "outputId": "800339e6-8256-4940-8f7a-6e3c759dfd6f"
      },
      "outputs": [
        {
          "output_type": "stream",
          "name": "stdout",
          "text": [
            "Binomial Tree price : 12.099\n",
            "exact         price : 12.245\n",
            "calculation time    : 9.89\n"
          ]
        }
      ],
      "source": [
        "import numpy as np\n",
        "import matplotlib.pyplot as plt\n",
        "from scipy.stats import norm\n",
        "import time\t# 계산에 소요된 시간을 분석하기 위해 필요한 time 모듈\n",
        "\n",
        "N = norm.cdf\n",
        "\n",
        "def CallOptionBS(S, K, T, r, q, sigma):\n",
        "    if T == 0:\n",
        "        return np.max(S - K, 0)\n",
        "    else:\n",
        "        d1 = (np.log(S / K) + (r - q + sigma ** 2 / 2) * T) / (sigma * np.sqrt(T))\n",
        "        d2 = d1 - sigma * np.sqrt(T)\n",
        "        return S * np.exp(-q * T) * N(d1) - K * np.exp(-r * T) * N(d2)\n",
        "\n",
        "\n",
        "def call_option_by_BinomialTree():\n",
        "    s0 = 100\n",
        "    vol = 0.3\n",
        "    r = 0.02\n",
        "    q = 0.01\n",
        "    maturity = 1\n",
        "    strike = 100\n",
        "    nNode = 20\n",
        "    dt = maturity / nNode\n",
        "\n",
        "    u = np.exp(vol * np.sqrt(dt))\t# 이항모델 세팅: 주가의 상승률\n",
        "    d = 1 / u\t\t\t# 이항모델 세팅: 주가의 하락률\n",
        "    a = np.exp((r - q) * dt)\n",
        "    p = (a - d) / (u - d)\t# 주가의 상승확률\n",
        "\n",
        "    def treeNode(n, i):\t# binomial tree의 노드의 값들을 재귀적으로 계산하는 함수\n",
        "        if n == nNode:\t# 만기시에는,\n",
        "            return np.max([s0 * u ** i * d ** (n - i) - strike, 0])\t# 만기 payoff을 대입\n",
        "            # return np.max([s0 * u ** (2 * i - n) - strike, 0])\t# 만기 payoff을 u에 관해 정리한 식\n",
        "        elif n < nNode:\n",
        "            up_val = treeNode(n + 1, i + 1)\n",
        "            down_val = treeNode(n + 1, i)\n",
        "            df = np.exp(-r * dt)\n",
        "            return (p * up_val + (1 - p) * down_val) * df\t# 점화식을 사용하여 전단계 timestep의 값 산출\n",
        "\n",
        "    start_time = time.time()\t# 계산 시작 시점의 시각을 읽는다\n",
        "    res = treeNode(0, 0)\n",
        "    elapsed_time = time.time()-start_time\t# 계산 끝난 시각(time.time())을 읽어 계산시작 시점을 뺀 값\n",
        "\n",
        "    print('Binomial Tree price : {:.3f}'.format(res))\n",
        "    print('exact         price : {:.3f}'.format(CallOptionBS(s0, strike, maturity, r, q, vol)))\n",
        "    print('calculation time    : {:.2f}'.format(elapsed_time))\n",
        "\n",
        "if __name__ == '__main__':\n",
        "    call_option_by_BinomialTree()"
      ]
    },
    {
      "cell_type": "code",
      "execution_count": null,
      "metadata": {
        "id": "c9DNdsWqQJxv"
      },
      "outputs": [],
      "source": []
    }
  ],
  "metadata": {
    "kernelspec": {
      "display_name": ".venv",
      "language": "python",
      "name": "python3"
    },
    "language_info": {
      "codemirror_mode": {
        "name": "ipython",
        "version": 3
      },
      "file_extension": ".py",
      "mimetype": "text/x-python",
      "name": "python",
      "nbconvert_exporter": "python",
      "pygments_lexer": "ipython3",
      "version": "3.12.8"
    },
    "colab": {
      "provenance": [],
      "include_colab_link": true
    }
  },
  "nbformat": 4,
  "nbformat_minor": 0
}