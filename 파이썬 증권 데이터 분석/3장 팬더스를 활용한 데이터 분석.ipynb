{
 "cells": [
  {
   "attachments": {},
   "cell_type": "markdown",
   "metadata": {},
   "source": [
    "## 3.4 comparing stocks 주식 비교하기"
   ]
  },
  {
   "attachments": {},
   "cell_type": "markdown",
   "metadata": {},
   "source": [
    "### 3.4.1 yfinance로 주식 시세 구하기"
   ]
  },
  {
   "cell_type": "code",
   "execution_count": 1,
   "metadata": {},
   "outputs": [
    {
     "name": "stdout",
     "output_type": "stream",
     "text": [
      "[*********************100%***********************]  1 of 1 completed\n",
      "[*********************100%***********************]  1 of 1 completed\n"
     ]
    }
   ],
   "source": [
    "from pandas_datareader import data as pdr\n",
    "import yfinance as yf\n",
    "yf.pdr_override()\n",
    "\n",
    "# for simplicity, set start after sec's equity split(액면 분할)\n",
    "sec = pdr.get_data_yahoo('005930.KS', start='2018-05-04')  # Samsung Elctronics Company/if a company sits in KOSDAQ, use .KQ instead of .KS\n",
    "msft = pdr.get_data_yahoo('MSFT', start='2018-05-04')"
   ]
  },
  {
   "cell_type": "code",
   "execution_count": 2,
   "metadata": {},
   "outputs": [
    {
     "data": {
      "text/html": [
       "<div>\n",
       "<style scoped>\n",
       "    .dataframe tbody tr th:only-of-type {\n",
       "        vertical-align: middle;\n",
       "    }\n",
       "\n",
       "    .dataframe tbody tr th {\n",
       "        vertical-align: top;\n",
       "    }\n",
       "\n",
       "    .dataframe thead th {\n",
       "        text-align: right;\n",
       "    }\n",
       "</style>\n",
       "<table border=\"1\" class=\"dataframe\">\n",
       "  <thead>\n",
       "    <tr style=\"text-align: right;\">\n",
       "      <th></th>\n",
       "      <th>Open</th>\n",
       "      <th>High</th>\n",
       "      <th>Low</th>\n",
       "      <th>Close</th>\n",
       "      <th>Adj Close</th>\n",
       "      <th>Volume</th>\n",
       "    </tr>\n",
       "    <tr>\n",
       "      <th>Date</th>\n",
       "      <th></th>\n",
       "      <th></th>\n",
       "      <th></th>\n",
       "      <th></th>\n",
       "      <th></th>\n",
       "      <th></th>\n",
       "    </tr>\n",
       "  </thead>\n",
       "  <tbody>\n",
       "    <tr>\n",
       "      <th>2018-05-04</th>\n",
       "      <td>53000.0</td>\n",
       "      <td>53900.0</td>\n",
       "      <td>51800.0</td>\n",
       "      <td>51900.0</td>\n",
       "      <td>44821.148438</td>\n",
       "      <td>39565391</td>\n",
       "    </tr>\n",
       "    <tr>\n",
       "      <th>2018-05-08</th>\n",
       "      <td>52600.0</td>\n",
       "      <td>53200.0</td>\n",
       "      <td>51900.0</td>\n",
       "      <td>52600.0</td>\n",
       "      <td>45425.679688</td>\n",
       "      <td>23104720</td>\n",
       "    </tr>\n",
       "    <tr>\n",
       "      <th>2018-05-09</th>\n",
       "      <td>52600.0</td>\n",
       "      <td>52800.0</td>\n",
       "      <td>50900.0</td>\n",
       "      <td>50900.0</td>\n",
       "      <td>43957.550781</td>\n",
       "      <td>16128305</td>\n",
       "    </tr>\n",
       "    <tr>\n",
       "      <th>2018-05-10</th>\n",
       "      <td>51700.0</td>\n",
       "      <td>51700.0</td>\n",
       "      <td>50600.0</td>\n",
       "      <td>51600.0</td>\n",
       "      <td>44562.078125</td>\n",
       "      <td>13905263</td>\n",
       "    </tr>\n",
       "    <tr>\n",
       "      <th>2018-05-11</th>\n",
       "      <td>52000.0</td>\n",
       "      <td>52200.0</td>\n",
       "      <td>51200.0</td>\n",
       "      <td>51300.0</td>\n",
       "      <td>44302.992188</td>\n",
       "      <td>10314997</td>\n",
       "    </tr>\n",
       "    <tr>\n",
       "      <th>2018-05-14</th>\n",
       "      <td>51000.0</td>\n",
       "      <td>51100.0</td>\n",
       "      <td>49900.0</td>\n",
       "      <td>50100.0</td>\n",
       "      <td>43266.660156</td>\n",
       "      <td>14909272</td>\n",
       "    </tr>\n",
       "    <tr>\n",
       "      <th>2018-05-15</th>\n",
       "      <td>50200.0</td>\n",
       "      <td>50400.0</td>\n",
       "      <td>49100.0</td>\n",
       "      <td>49200.0</td>\n",
       "      <td>42489.421875</td>\n",
       "      <td>18709146</td>\n",
       "    </tr>\n",
       "    <tr>\n",
       "      <th>2018-05-16</th>\n",
       "      <td>49200.0</td>\n",
       "      <td>50200.0</td>\n",
       "      <td>49150.0</td>\n",
       "      <td>49850.0</td>\n",
       "      <td>43050.765625</td>\n",
       "      <td>15918683</td>\n",
       "    </tr>\n",
       "    <tr>\n",
       "      <th>2018-05-17</th>\n",
       "      <td>50300.0</td>\n",
       "      <td>50500.0</td>\n",
       "      <td>49400.0</td>\n",
       "      <td>49400.0</td>\n",
       "      <td>42662.132812</td>\n",
       "      <td>10365440</td>\n",
       "    </tr>\n",
       "    <tr>\n",
       "      <th>2018-05-18</th>\n",
       "      <td>49900.0</td>\n",
       "      <td>49900.0</td>\n",
       "      <td>49350.0</td>\n",
       "      <td>49500.0</td>\n",
       "      <td>42748.500000</td>\n",
       "      <td>6706570</td>\n",
       "    </tr>\n",
       "  </tbody>\n",
       "</table>\n",
       "</div>"
      ],
      "text/plain": [
       "               Open     High      Low    Close     Adj Close    Volume\n",
       "Date                                                                  \n",
       "2018-05-04  53000.0  53900.0  51800.0  51900.0  44821.148438  39565391\n",
       "2018-05-08  52600.0  53200.0  51900.0  52600.0  45425.679688  23104720\n",
       "2018-05-09  52600.0  52800.0  50900.0  50900.0  43957.550781  16128305\n",
       "2018-05-10  51700.0  51700.0  50600.0  51600.0  44562.078125  13905263\n",
       "2018-05-11  52000.0  52200.0  51200.0  51300.0  44302.992188  10314997\n",
       "2018-05-14  51000.0  51100.0  49900.0  50100.0  43266.660156  14909272\n",
       "2018-05-15  50200.0  50400.0  49100.0  49200.0  42489.421875  18709146\n",
       "2018-05-16  49200.0  50200.0  49150.0  49850.0  43050.765625  15918683\n",
       "2018-05-17  50300.0  50500.0  49400.0  49400.0  42662.132812  10365440\n",
       "2018-05-18  49900.0  49900.0  49350.0  49500.0  42748.500000   6706570"
      ]
     },
     "execution_count": 2,
     "metadata": {},
     "output_type": "execute_result"
    }
   ],
   "source": [
    "# check the loaded data\n",
    "# OHLC + Ajd Close + Vol.\n",
    "sec.head(10)"
   ]
  },
  {
   "cell_type": "code",
   "execution_count": 3,
   "metadata": {},
   "outputs": [
    {
     "data": {
      "text/html": [
       "<div>\n",
       "<style scoped>\n",
       "    .dataframe tbody tr th:only-of-type {\n",
       "        vertical-align: middle;\n",
       "    }\n",
       "\n",
       "    .dataframe tbody tr th {\n",
       "        vertical-align: top;\n",
       "    }\n",
       "\n",
       "    .dataframe thead th {\n",
       "        text-align: right;\n",
       "    }\n",
       "</style>\n",
       "<table border=\"1\" class=\"dataframe\">\n",
       "  <thead>\n",
       "    <tr style=\"text-align: right;\">\n",
       "      <th></th>\n",
       "      <th>Open</th>\n",
       "      <th>High</th>\n",
       "      <th>Low</th>\n",
       "      <th>Close</th>\n",
       "      <th>Adj Close</th>\n",
       "    </tr>\n",
       "    <tr>\n",
       "      <th>Date</th>\n",
       "      <th></th>\n",
       "      <th></th>\n",
       "      <th></th>\n",
       "      <th></th>\n",
       "      <th></th>\n",
       "    </tr>\n",
       "  </thead>\n",
       "  <tbody>\n",
       "    <tr>\n",
       "      <th>2023-06-05</th>\n",
       "      <td>335.220001</td>\n",
       "      <td>338.559998</td>\n",
       "      <td>334.660004</td>\n",
       "      <td>335.940002</td>\n",
       "      <td>335.940002</td>\n",
       "    </tr>\n",
       "    <tr>\n",
       "      <th>2023-06-06</th>\n",
       "      <td>335.329987</td>\n",
       "      <td>335.369995</td>\n",
       "      <td>332.170013</td>\n",
       "      <td>333.679993</td>\n",
       "      <td>333.679993</td>\n",
       "    </tr>\n",
       "    <tr>\n",
       "      <th>2023-06-07</th>\n",
       "      <td>331.649994</td>\n",
       "      <td>334.489990</td>\n",
       "      <td>322.500000</td>\n",
       "      <td>323.380005</td>\n",
       "      <td>323.380005</td>\n",
       "    </tr>\n",
       "    <tr>\n",
       "      <th>2023-06-08</th>\n",
       "      <td>323.940002</td>\n",
       "      <td>326.640015</td>\n",
       "      <td>323.350006</td>\n",
       "      <td>325.260010</td>\n",
       "      <td>325.260010</td>\n",
       "    </tr>\n",
       "    <tr>\n",
       "      <th>2023-06-09</th>\n",
       "      <td>323.934998</td>\n",
       "      <td>328.079987</td>\n",
       "      <td>324.450012</td>\n",
       "      <td>327.529999</td>\n",
       "      <td>327.529999</td>\n",
       "    </tr>\n",
       "  </tbody>\n",
       "</table>\n",
       "</div>"
      ],
      "text/plain": [
       "                  Open        High         Low       Close   Adj Close\n",
       "Date                                                                  \n",
       "2023-06-05  335.220001  338.559998  334.660004  335.940002  335.940002\n",
       "2023-06-06  335.329987  335.369995  332.170013  333.679993  333.679993\n",
       "2023-06-07  331.649994  334.489990  322.500000  323.380005  323.380005\n",
       "2023-06-08  323.940002  326.640015  323.350006  325.260010  325.260010\n",
       "2023-06-09  323.934998  328.079987  324.450012  327.529999  327.529999"
      ]
     },
     "execution_count": 3,
     "metadata": {},
     "output_type": "execute_result"
    }
   ],
   "source": [
    "tmp_msft = msft.drop(columns='Volume')\n",
    "tmp_msft.tail()"
   ]
  },
  {
   "cell_type": "code",
   "execution_count": 4,
   "metadata": {},
   "outputs": [
    {
     "data": {
      "text/plain": [
       "DatetimeIndex(['2018-05-04', '2018-05-08', '2018-05-09', '2018-05-10',\n",
       "               '2018-05-11', '2018-05-14', '2018-05-15', '2018-05-16',\n",
       "               '2018-05-17', '2018-05-18',\n",
       "               ...\n",
       "               '2023-05-25', '2023-05-26', '2023-05-30', '2023-05-31',\n",
       "               '2023-06-01', '2023-06-02', '2023-06-05', '2023-06-07',\n",
       "               '2023-06-08', '2023-06-09'],\n",
       "              dtype='datetime64[ns]', name='Date', length=1254, freq=None)"
      ]
     },
     "execution_count": 4,
     "metadata": {},
     "output_type": "execute_result"
    }
   ],
   "source": [
    "# index of sec, which is a date\n",
    "sec.index"
   ]
  },
  {
   "cell_type": "code",
   "execution_count": 5,
   "metadata": {},
   "outputs": [
    {
     "data": {
      "text/plain": [
       "Index(['Open', 'High', 'Low', 'Close', 'Adj Close', 'Volume'], dtype='object')"
      ]
     },
     "execution_count": 5,
     "metadata": {},
     "output_type": "execute_result"
    }
   ],
   "source": [
    "sec.columns"
   ]
  },
  {
   "cell_type": "code",
   "execution_count": 6,
   "metadata": {},
   "outputs": [
    {
     "data": {
      "image/png": "[encoded data removed]",
      "text/plain": [
       "<Figure size 640x480 with 1 Axes>"
      ]
     },
     "metadata": {},
     "output_type": "display_data"
    }
   ],
   "source": [
    "# plotting Close prices of sec vs msft\n",
    "import matplotlib.pyplot as plt\n",
    "\n",
    "plt.plot(sec.index, sec.Close, 'b', label='Samsung Electronics')\n",
    "plt.plot(msft.index, msft.Close, 'r--', label='Microsoft')\n",
    "plt.legend(loc='best')\n",
    "plt.show()"
   ]
  },
  {
   "attachments": {},
   "cell_type": "markdown",
   "metadata": {},
   "source": [
    "As sec lies between 40000 and 80000 (KRW) and msft lies between 100 to 330 (USD), msft looks like a straight line; which is misleading.\n",
    "\n",
    "Didn't include currency conversions yet.\n",
    "\n",
    "### 3.4.2 일간 변동률로 주가 비교하기\n",
    "\n",
    "Below we compare sec vs. msft using daily returns. (daily percent change):\n",
    "$$\n",
    "    R_t = \\frac{\\text{Close}_t - \\text{Close}_{t-1}}{\\text{Close}_{t-1}} \\times 100\n",
    "$$"
   ]
  },
  {
   "cell_type": "code",
   "execution_count": 7,
   "metadata": {},
   "outputs": [
    {
     "data": {
      "text/plain": [
       "pandas.core.series.Series"
      ]
     },
     "execution_count": 7,
     "metadata": {},
     "output_type": "execute_result"
    }
   ],
   "source": [
    "type(sec['Close'])"
   ]
  },
  {
   "cell_type": "code",
   "execution_count": 8,
   "metadata": {},
   "outputs": [
    {
     "data": {
      "text/plain": [
       "Date\n",
       "2018-05-04    51900.0\n",
       "2018-05-08    52600.0\n",
       "2018-05-09    50900.0\n",
       "2018-05-10    51600.0\n",
       "2018-05-11    51300.0\n",
       "               ...   \n",
       "2023-06-02    72200.0\n",
       "2023-06-05    71700.0\n",
       "2023-06-07    71000.0\n",
       "2023-06-08    70900.0\n",
       "2023-06-09    72000.0\n",
       "Name: Close, Length: 1254, dtype: float64"
      ]
     },
     "execution_count": 8,
     "metadata": {},
     "output_type": "execute_result"
    }
   ],
   "source": [
    "sec['Close']"
   ]
  },
  {
   "cell_type": "code",
   "execution_count": 9,
   "metadata": {},
   "outputs": [
    {
     "data": {
      "text/plain": [
       "Date\n",
       "2018-05-04        NaN\n",
       "2018-05-08    51900.0\n",
       "2018-05-09    52600.0\n",
       "2018-05-10    50900.0\n",
       "2018-05-11    51600.0\n",
       "               ...   \n",
       "2023-06-02    70900.0\n",
       "2023-06-05    72200.0\n",
       "2023-06-07    71700.0\n",
       "2023-06-08    71000.0\n",
       "2023-06-09    70900.0\n",
       "Name: Close, Length: 1254, dtype: float64"
      ]
     },
     "execution_count": 9,
     "metadata": {},
     "output_type": "execute_result"
    }
   ],
   "source": [
    "sec['Close'].shift(1)"
   ]
  },
  {
   "cell_type": "code",
   "execution_count": 10,
   "metadata": {},
   "outputs": [
    {
     "data": {
      "text/plain": [
       "1.348747591522148"
      ]
     },
     "execution_count": 10,
     "metadata": {},
     "output_type": "execute_result"
    }
   ],
   "source": [
    "# check\n",
    "(52600/51900 - 1) * 100"
   ]
  },
  {
   "cell_type": "code",
   "execution_count": 11,
   "metadata": {},
   "outputs": [
    {
     "data": {
      "text/plain": [
       "Date\n",
       "2018-05-04         NaN\n",
       "2018-05-08    1.348748\n",
       "2018-05-09   -3.231939\n",
       "2018-05-10    1.375246\n",
       "2018-05-11   -0.581395\n",
       "Name: Close, dtype: float64"
      ]
     },
     "execution_count": 11,
     "metadata": {},
     "output_type": "execute_result"
    }
   ],
   "source": [
    "# daily percent change\n",
    "sec_dpc = (sec['Close'] / sec['Close'].shift(1) - 1) * 100\n",
    "sec_dpc.head()"
   ]
  },
  {
   "cell_type": "code",
   "execution_count": 12,
   "metadata": {},
   "outputs": [],
   "source": [
    "# sec_dpc = ((sec['Close']-sec['Close'].shift(1)) / sec['Close'].shift(1) - 1) * 100\n",
    "# sec_dpc.head()"
   ]
  },
  {
   "cell_type": "code",
   "execution_count": 13,
   "metadata": {},
   "outputs": [
    {
     "data": {
      "text/plain": [
       "Date\n",
       "2018-05-04    0.000000\n",
       "2018-05-08    1.348748\n",
       "2018-05-09   -3.231939\n",
       "2018-05-10    1.375246\n",
       "2018-05-11   -0.581395\n",
       "Name: Close, dtype: float64"
      ]
     },
     "execution_count": 13,
     "metadata": {},
     "output_type": "execute_result"
    }
   ],
   "source": [
    "# using integer location indexer to replace NaN by 0\n",
    "sec_dpc.iloc[0] = 0\n",
    "sec_dpc.head()"
   ]
  },
  {
   "attachments": {},
   "cell_type": "markdown",
   "metadata": {},
   "source": [
    "Do the same for MSFT:"
   ]
  },
  {
   "cell_type": "code",
   "execution_count": 14,
   "metadata": {},
   "outputs": [
    {
     "data": {
      "text/plain": [
       "Date\n",
       "2018-05-04         NaN\n",
       "2018-05-07    1.113911\n",
       "2018-05-08   -0.426111\n",
       "2018-05-09    1.179423\n",
       "2018-05-10    1.000620\n",
       "Name: Close, dtype: float64"
      ]
     },
     "execution_count": 14,
     "metadata": {},
     "output_type": "execute_result"
    }
   ],
   "source": [
    "msft_dpc = (msft['Close'] / msft['Close'].shift(1) - 1) * 100\n",
    "msft_dpc.head()"
   ]
  },
  {
   "cell_type": "code",
   "execution_count": 15,
   "metadata": {},
   "outputs": [
    {
     "data": {
      "text/plain": [
       "Date\n",
       "2018-05-04    0.000000\n",
       "2018-05-07    1.113911\n",
       "2018-05-08   -0.426111\n",
       "2018-05-09    1.179423\n",
       "2018-05-10    1.000620\n",
       "Name: Close, dtype: float64"
      ]
     },
     "execution_count": 15,
     "metadata": {},
     "output_type": "execute_result"
    }
   ],
   "source": [
    "msft_dpc.iloc[0] = 0\n",
    "msft_dpc.head()"
   ]
  },
  {
   "attachments": {},
   "cell_type": "markdown",
   "metadata": {},
   "source": [
    "### 3.4.3 daily percent change histogram\n",
    "\n",
    "plot this for sec and msft, respectively."
   ]
  },
  {
   "cell_type": "code",
   "execution_count": 24,
   "metadata": {},
   "outputs": [
    {
     "data": {
      "image/png": "[encoded data removed]",
      "text/plain": [
       "<Figure size 640x480 with 1 Axes>"
      ]
     },
     "metadata": {},
     "output_type": "display_data"
    }
   ],
   "source": [
    "# sec_dpc = (sec['Close'] / sec['Close'].shift(1) - 1) * 100\n",
    "# sec_dpc.iloc[0] = 0\n",
    "\n",
    "plt.hist(sec_dpc, bins=18, label='SEC dpc')\n",
    "plt.grid(True)\n",
    "plt.legend(loc='best')\n",
    "plt.show()"
   ]
  },
  {
   "attachments": {},
   "cell_type": "markdown",
   "metadata": {},
   "source": [
    "Above histogram is approximately a normal distribution, however, it is rather `leptokurtic dist`.(뾰족한 중앙 분포) with `fat tail`.<br>\n",
    "i.e. almost dpc lies within very small range(*leptokurtic*) and the extreme dpc happens more frequent than that of a normal dist.(*fat tail*)."
   ]
  },
  {
   "cell_type": "code",
   "execution_count": 17,
   "metadata": {},
   "outputs": [
    {
     "data": {
      "text/plain": [
       "count    1254.000000\n",
       "mean        0.038925\n",
       "std         1.605469\n",
       "min        -6.387665\n",
       "25%        -0.971862\n",
       "50%         0.000000\n",
       "75%         0.855615\n",
       "max        10.470588\n",
       "Name: Close, dtype: float64"
      ]
     },
     "execution_count": 17,
     "metadata": {},
     "output_type": "execute_result"
    }
   ],
   "source": [
    "# check mean and std of sec_dpc\n",
    "sec_dpc.describe()"
   ]
  },
  {
   "attachments": {},
   "cell_type": "markdown",
   "metadata": {},
   "source": [
    "Do the same for MSFT:"
   ]
  },
  {
   "cell_type": "code",
   "execution_count": 25,
   "metadata": {},
   "outputs": [
    {
     "data": {
      "image/png": "[encoded data removed]",
      "text/plain": [
       "<Figure size 640x480 with 1 Axes>"
      ]
     },
     "metadata": {},
     "output_type": "display_data"
    }
   ],
   "source": [
    "plt.hist(msft_dpc, bins=18, label='msft dpc')\n",
    "plt.grid(True)\n",
    "plt.legend(loc='best')\n",
    "plt.show()"
   ]
  },
  {
   "cell_type": "code",
   "execution_count": 26,
   "metadata": {},
   "outputs": [
    {
     "data": {
      "text/plain": [
       "count    1284.000000\n",
       "mean        0.115253\n",
       "std         1.946796\n",
       "min       -14.739031\n",
       "25%        -0.831350\n",
       "50%         0.098033\n",
       "75%         1.093391\n",
       "max        14.216888\n",
       "Name: Close, dtype: float64"
      ]
     },
     "execution_count": 26,
     "metadata": {},
     "output_type": "execute_result"
    }
   ],
   "source": [
    "msft_dpc.describe()"
   ]
  },
  {
   "attachments": {},
   "cell_type": "markdown",
   "metadata": {},
   "source": [
    "### 3.4.4 일간 변동률 누적합 구하기\n",
    "\n"
   ]
  },
  {
   "cell_type": "code",
   "execution_count": 28,
   "metadata": {},
   "outputs": [
    {
     "data": {
      "text/plain": [
       "Date\n",
       "2018-05-04     0.000000\n",
       "2018-05-08     1.348748\n",
       "2018-05-09    -1.883192\n",
       "2018-05-10    -0.507946\n",
       "2018-05-11    -1.089341\n",
       "                ...    \n",
       "2023-06-02    49.070685\n",
       "2023-06-05    48.378164\n",
       "2023-06-07    47.401874\n",
       "2023-06-08    47.261029\n",
       "2023-06-09    48.812510\n",
       "Name: Close, Length: 1254, dtype: float64"
      ]
     },
     "execution_count": 28,
     "metadata": {},
     "output_type": "execute_result"
    }
   ],
   "source": [
    "sec_dpc_cs = sec_dpc.cumsum()\n",
    "sec_dpc_cs"
   ]
  },
  {
   "cell_type": "code",
   "execution_count": 29,
   "metadata": {},
   "outputs": [
    {
     "data": {
      "text/plain": [
       "Date\n",
       "2018-05-04      0.000000\n",
       "2018-05-07      1.113911\n",
       "2018-05-08      0.687800\n",
       "2018-05-09      1.867223\n",
       "2018-05-10      2.867843\n",
       "                 ...    \n",
       "2023-06-05    150.465670\n",
       "2023-06-06    149.792928\n",
       "2023-06-07    146.706142\n",
       "2023-06-08    147.287503\n",
       "2023-06-09    147.985402\n",
       "Name: Close, Length: 1284, dtype: float64"
      ]
     },
     "execution_count": 29,
     "metadata": {},
     "output_type": "execute_result"
    }
   ],
   "source": [
    "msft_dpc_cs = msft_dpc.cumsum()\n",
    "msft_dpc_cs"
   ]
  },
  {
   "cell_type": "code",
   "execution_count": 32,
   "metadata": {},
   "outputs": [
    {
     "data": {
      "image/png": "[encoded data removed]",
      "text/plain": [
       "<Figure size 640x480 with 1 Axes>"
      ]
     },
     "metadata": {},
     "output_type": "display_data"
    }
   ],
   "source": [
    "# plot this cumsum of dpc\n",
    "# sec vs. msft\n",
    "plt.plot(sec.index, sec_dpc_cs, 'b', label='Samsung Electronics')\n",
    "plt.plot(msft.index, msft_dpc_cs, 'r--', label='Microsoft')\n",
    "plt.ylabel('Change %')\n",
    "plt.grid(True)\n",
    "plt.legend(loc='best')\n",
    "plt.show()"
   ]
  },
  {
   "attachments": {},
   "cell_type": "markdown",
   "metadata": {},
   "source": [
    "### 3.5 최대 손실 낙폭 MDD(Maximum Drawdown)\n",
    "\n",
    "$$\n",
    "    MDD = \\frac{S_{min} - S_{max}}{S_{min}}\n",
    "$$"
   ]
  },
  {
   "cell_type": "code",
   "execution_count": 18,
   "metadata": {},
   "outputs": [
    {
     "name": "stdout",
     "output_type": "stream",
     "text": [
      "[*********************100%***********************]  1 of 1 completed\n"
     ]
    }
   ],
   "source": [
    "kospi = pdr.get_data_yahoo('^KS11', '2004-01-04')\n",
    "\n",
    "window = 252  # 1 year\n",
    "peak = kospi['Adj Close'].rolling(window, min_periods=1).max()\n",
    "drawdown = kospi['Adj Close']/peak - 1.0\n",
    "max_dd = drawdown.rolling(window, min_periods=1).min()"
   ]
  },
  {
   "cell_type": "code",
   "execution_count": 19,
   "metadata": {},
   "outputs": [
    {
     "name": "stdout",
     "output_type": "stream",
     "text": [
      "Date\n",
      "2004-01-05     824.099976\n",
      "2004-01-06     824.099976\n",
      "2004-01-07     827.070007\n",
      "2004-01-08     827.070007\n",
      "2004-01-09     845.270020\n",
      "                 ...     \n",
      "2023-06-02    2685.899902\n",
      "2023-06-05    2685.899902\n",
      "2023-06-07    2685.899902\n",
      "2023-06-08    2670.649902\n",
      "2023-06-09    2670.649902\n",
      "Name: Adj Close, Length: 4801, dtype: float64 Date\n",
      "2004-01-05    0.000000\n",
      "2004-01-06   -0.000813\n",
      "2004-01-07    0.000000\n",
      "2004-01-08   -0.003531\n",
      "2004-01-09    0.000000\n",
      "                ...   \n",
      "2023-06-02   -0.031475\n",
      "2023-06-05   -0.026244\n",
      "2023-06-07   -0.026174\n",
      "2023-06-08   -0.022391\n",
      "2023-06-09   -0.011042\n",
      "Name: Adj Close, Length: 4801, dtype: float64 Date\n",
      "2004-01-05    0.000000\n",
      "2004-01-06   -0.000813\n",
      "2004-01-07   -0.000813\n",
      "2004-01-08   -0.003531\n",
      "2004-01-09   -0.003531\n",
      "                ...   \n",
      "2023-06-02   -0.313650\n",
      "2023-06-05   -0.313650\n",
      "2023-06-07   -0.313650\n",
      "2023-06-08   -0.313650\n",
      "2023-06-09   -0.313650\n",
      "Name: Adj Close, Length: 4801, dtype: float64\n"
     ]
    }
   ],
   "source": [
    "print(peak, drawdown, max_dd)"
   ]
  }
 ],
 "metadata": {
  "kernelspec": {
   "display_name": "Python 3",
   "language": "python",
   "name": "python3"
  },
  "language_info": {
   "codemirror_mode": {
    "name": "ipython",
    "version": 3
   },
   "file_extension": ".py",
   "mimetype": "text/x-python",
   "name": "python",
   "nbconvert_exporter": "python",
   "pygments_lexer": "ipython3",
   "version": "3.11.3"
  },
  "orig_nbformat": 4
 },
 "nbformat": 4,
 "nbformat_minor": 2
}
