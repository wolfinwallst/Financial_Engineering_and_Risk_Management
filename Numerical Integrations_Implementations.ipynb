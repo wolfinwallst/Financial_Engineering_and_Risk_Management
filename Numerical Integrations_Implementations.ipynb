{
 "cells": [
  {
   "attachments": {},
   "cell_type": "markdown",
   "metadata": {},
   "source": [
    "This notebook deals with the series of numerical integrations appearing in Chapter 11 of Y. Hilpisch's book <Python for Finance, 2nd ed.>:\n",
    "\n",
    "### 1. Fixed Gauss Quadrature \n",
    "Fixed Gauss Quadrature is a classical(or one may call this method \"*elementary*\") way to calculate a numerical integration of a given function $f$.\n",
    "One may find an easy way is to employ `SciPy` module and use `sci.fixed_quad(f, a, b)`. Here I just want to understand its underlying algorithm:"
   ]
  },
  {
   "cell_type": "code",
   "execution_count": 14,
   "metadata": {},
   "outputs": [
    {
     "ename": "SyntaxError",
     "evalue": "incomplete input (2129240747.py, line 12)",
     "output_type": "error",
     "traceback": [
      "\u001b[1;36m  Cell \u001b[1;32mIn[14], line 12\u001b[1;36m\u001b[0m\n\u001b[1;33m    \u001b[0m\n\u001b[1;37m    ^\u001b[0m\n\u001b[1;31mSyntaxError\u001b[0m\u001b[1;31m:\u001b[0m incomplete input\n"
     ]
    }
   ],
   "source": [
    "import numpy as np\n",
    "\n",
    "# the function we want to integrate\n",
    "def f(x):\n",
    "    return x ** 2 + 0.5 * x - 0.2\n",
    "\n",
    "# the interval to integrate over\n",
    "x = np.linspace(0, 10, 25)\n",
    "\n",
    "def fixedGaus_quad(f, a, b):\n",
    "    \n",
    "    "
   ]
  },
  {
   "attachments": {},
   "cell_type": "markdown",
   "metadata": {},
   "source": [
    "## 2. Trapezoidal rule\n",
    "This method uses a trapezoid which (almost)-fits below/above the values of $f$, on the graph $y=f(x)$. We indeed use the linear Lagrange polynomial to approximate the integration. Here, we denote $x_0 = a, x_1 = b, h = b - a$.\n",
    "\n",
    "$$\n",
    "    \\int_a ^b f(x) dx = \\frac{h}{2} [f(x_0) + f(x_1)] - \\frac{h^3}{12} f^{(2)}(\\xi)\n",
    "$$\n",
    "where $\\xi \\in (x_0, x_1)$ and $- \\frac{h^3}{12} f^{(2)}(\\xi)$ is an error term.<br><br>\n",
    "\n",
    "To approximate the integration, we only need to calculate the first term on the RHS.\n",
    "\n",
    " i.e.,\n",
    " $$\n",
    "    \\int_a ^b f(x) dx \\thickapprox \\frac{h}{2} [f(x_0) + f(x_1)]\n",
    "$$"
   ]
  },
  {
   "cell_type": "code",
   "execution_count": 6,
   "metadata": {},
   "outputs": [
    {
     "data": {
      "text/plain": [
       "523.0"
      ]
     },
     "execution_count": 6,
     "metadata": {},
     "output_type": "execute_result"
    }
   ],
   "source": [
    "# a simple implementation of trapezoidal rule\n",
    "def trpz(f, a, b):\n",
    "    h = b - a\n",
    "    return (h / 2) * ( f(a) + f(b))\n",
    "\n",
    "a = 0\n",
    "b = 10\n",
    "\n",
    "trpz(f, a, b)"
   ]
  },
  {
   "cell_type": "code",
   "execution_count": 7,
   "metadata": {},
   "outputs": [
    {
     "data": {
      "text/plain": [
       "523.0"
      ]
     },
     "execution_count": 7,
     "metadata": {},
     "output_type": "execute_result"
    }
   ],
   "source": [
    "# same function, but w/ 2nd parameter as an interval\n",
    "def trpz_interval(f, x):\n",
    "    h = x[-1] - x[0]    \n",
    "    return (h / 2) * ( f(x[-1]) + f(x[0]))\n",
    "\n",
    "x = np.linspace(0, 10, 25)\n",
    "\n",
    "trpz_interval(f, x)"
   ]
  },
  {
   "cell_type": "code",
   "execution_count": null,
   "metadata": {},
   "outputs": [],
   "source": [
    "# error estimates"
   ]
  },
  {
   "attachments": {},
   "cell_type": "markdown",
   "metadata": {},
   "source": [
    "Note that the trapezoidal rule is already installed in the `sci.integrate` module w/ the function `sci.trapezoid()`:"
   ]
  },
  {
   "cell_type": "code",
   "execution_count": 11,
   "metadata": {},
   "outputs": [
    {
     "data": {
      "text/plain": [
       "356.62268518518516"
      ]
     },
     "execution_count": 11,
     "metadata": {},
     "output_type": "execute_result"
    }
   ],
   "source": [
    "# comparing w/ sci.trapz()\n",
    "import scipy.integrate as sci\n",
    "\n",
    "sci.trapezoid(f(x), x)"
   ]
  },
  {
   "attachments": {},
   "cell_type": "markdown",
   "metadata": {},
   "source": [
    "## 3. Simpson's rule\n",
    "This is just a trapezoidal rule using the 2nd Lagrange polynomial, instead of the 1st Lag. poly. over equally spaced nodes $x_0 = a, x_2 = b$ and $x_1 = a + h$, where $x_1 = a + h$, with $h = \\frac{b - a}{2}$.<br><br>\n",
    "\n",
    "The formula for Simpson's rule is given by:\n",
    "$$\n",
    "    \\int_a ^b f(x) dx = \\frac{h}{3}[f(x_0) + 4 f(x_1) + f(x_2)] - \\frac{h^5}{90} f^{(4)}(\\xi)\n",
    "$$\n",
    "for some $\\xi \\in (a, b)$.<br><br>\n",
    "\n",
    "As we've seen in the trapezoidal rule, approximation is given as follows:\n",
    "$$\n",
    "    \\int_a ^b f(x) dx \\thickapprox \\frac{h}{3}[f(x_0) + 4 f(x_1) + f(x_2)]\n",
    "$$\n",
    "and the remaining term $\\frac{h^5}{90} f^{(4)}(\\xi)$ is an error term."
   ]
  },
  {
   "cell_type": "code",
   "execution_count": 12,
   "metadata": {},
   "outputs": [
    {
     "data": {
      "text/plain": [
       "534.5"
      ]
     },
     "execution_count": 12,
     "metadata": {},
     "output_type": "execute_result"
    }
   ],
   "source": [
    "# Simpson's rule\n",
    "def Simpson(f, a, b):\n",
    "    h = (b - a) / 2\n",
    "    return (h / 2) * (f(a) + 4 * f(a + h) + f(b))\n",
    "\n",
    "Simpson(f, 0, 10)"
   ]
  },
  {
   "cell_type": "code",
   "execution_count": 13,
   "metadata": {},
   "outputs": [
    {
     "data": {
      "text/plain": [
       "534.5"
      ]
     },
     "execution_count": 13,
     "metadata": {},
     "output_type": "execute_result"
    }
   ],
   "source": [
    "# the same function but w/ parameter as an interval to integrate\n",
    "def Simpson_interval(f, x):\n",
    "    h = (x[-1] - x[0]) / 2\n",
    "    return (h / 2) * (f(x[0]) + 4 * f(x[0] + h) + f(x[-1]))\n",
    "\n",
    "Simpson_interval(f, x)"
   ]
  },
  {
   "attachments": {},
   "cell_type": "markdown",
   "metadata": {},
   "source": [
    "## 4. Adaptive Quadrature"
   ]
  },
  {
   "cell_type": "code",
   "execution_count": null,
   "metadata": {},
   "outputs": [],
   "source": []
  },
  {
   "attachments": {},
   "cell_type": "markdown",
   "metadata": {},
   "source": [
    "## 5. Romberg Integration"
   ]
  },
  {
   "cell_type": "code",
   "execution_count": null,
   "metadata": {},
   "outputs": [],
   "source": []
  }
 ],
 "metadata": {
  "kernelspec": {
   "display_name": "Python 3",
   "language": "python",
   "name": "python3"
  },
  "language_info": {
   "codemirror_mode": {
    "name": "ipython",
    "version": 3
   },
   "file_extension": ".py",
   "mimetype": "text/x-python",
   "name": "python",
   "nbconvert_exporter": "python",
   "pygments_lexer": "ipython3",
   "version": "3.11.3"
  },
  "orig_nbformat": 4
 },
 "nbformat": 4,
 "nbformat_minor": 2
}
