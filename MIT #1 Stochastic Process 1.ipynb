{
 "cells": [
  {
   "attachments": {},
   "cell_type": "markdown",
   "metadata": {},
   "source": [
    "### #3 Stochastic Process\n",
    "Implementation of stochastic process and a simple random walk.\n",
    "This implememtation is based on [MIT OCW lecture #3, 2013, by Chungbum Lee](https://youtu.be/TuTmC8aOQJE).\n",
    "\n",
    "Stochastic process is a collection of random variables indexed by time.\n",
    "\n",
    "- discrete-time stochastic process: $X_0, \\ldots, X_n$ <br><br>\n",
    "- continuous-time stochastic process: $\\{ X_t \\}_{t \\geq 0}$ <br><br>\n",
    "\n",
    "Alternatively one may define the stochastic process as a probabilty distribution over a space of paths.<br><br>\n",
    "\n"
   ]
  },
  {
   "cell_type": "code",
   "execution_count": null,
   "metadata": {},
   "outputs": [],
   "source": [
    "import numpy as np\n",
    "import random as rm\n",
    "import matplotlib.pyplot as plt\n",
    "import matplotlib.patches as mpatches\n",
    "from scipy.stats import norm\n",
    "import itertools"
   ]
  },
  {
   "attachments": {},
   "cell_type": "markdown",
   "metadata": {},
   "source": [
    "## #1 Random Walk\n",
    "Our first example is a `1D-simple random walk`: think of a plane with time $t$ on the x-axis and with height(or steps) at the y-axis. Consider this as an element in a list `steps`.\n",
    "Thus at time $t$, when its step is at $y$, denote this by step[t] = y. Then at time $t + 1$, there are only two choices: either steps[t + 1] = y + 1 or y - 1, where both with probabilites $\\frac{1}{2}$.<br><br>\n",
    "\n",
    "(Formal mathematical) Definition<br>\n",
    "Let $Y_i$ be i.i.d. random variables whose values are either $1$ or $-1$, with equal probabilities $\\frac{1}{2}$. For each $t$, set $X_t = \\sum_{i=1}^t Y_i. \\text{ and } X=0$. We call such $X_1, X_2, \\ldots, X_t, \\ldots$ a ***simple random walk***.<br><br>\n",
    "\n",
    "Then its variance would be $t$.\n",
    "$$\n",
    "    \\frac{1}{\\sqrt{t}}X_t \\approx N(0, 1).\n",
    "$$\n",
    "\n",
    "Proposition.<br>\n",
    "1. $E[X_k] = 0$\n",
    "2. (Independent Increment)<br>\n",
    "If $0=t_0 \\leq t_1 \\leq t_2 \\leq \\ldots \\leq t_k$, then $X_{t_{i + 1} - t_i}$ are mutually independet.\n",
    "3. (Stationary)<br>\n",
    "For all $h \\geq 1, t \\geq 0$, the distribution of $X_{t_{i + 1} - t_i}$ is the same as the distribution of $X_t$.<br>\n",
    "Moreover, from 2. if those intervals do not overlap, then they are independent.<br><Br>\n",
    "\n",
    "Simple random walk is of utmost importance: this is THE stochastic process.\n"
   ]
  },
  {
   "cell_type": "code",
   "execution_count": 6,
   "metadata": {},
   "outputs": [
    {
     "name": "stderr",
     "output_type": "stream",
     "text": [
      "WARNING: Package(s) not found: numpy\n"
     ]
    }
   ],
   "source": [
    "# simple random walk\n",
    "np.random.seed(10000)\n",
    "\n",
    "# initial collection of random walks, step[t] represents y-value of random walk at time t\n",
    "steps = []\n",
    "steps.append(0)\n",
    "\n",
    "# simple random walk until time n, stores each steps(y-values)\n",
    "def random_walk(n):    \n",
    "    for t in range(n):\n",
    "      # toss a fair coin\n",
    "      coin = np.random.randint(0, 2)\n",
    "\n",
    "      if coin == 0:\n",
    "        steps.append(steps[t] - 1)\n",
    "      else:\n",
    "        steps.append(steps[t] + 1)\n",
    "\n",
    "    return steps[n]\n",
    "\n",
    "random_walk(200)\n",
    "\n",
    "plt.plot(steps)\n",
    "plt.show()"
   ]
  },
  {
   "attachments": {},
   "cell_type": "markdown",
   "metadata": {},
   "source": [
    "Let's estimate its mean, variance(and hence, standard deviation):"
   ]
  },
  {
   "cell_type": "code",
   "execution_count": null,
   "metadata": {},
   "outputs": [],
   "source": []
  },
  {
   "attachments": {},
   "cell_type": "markdown",
   "metadata": {},
   "source": [
    "Q) What happens if we toss a biased coin, rather than a fair coin?<br>\n",
    "for example, assume the head appers with probability $\\frac{2}{3}$ and the tail w/ probability $\\frac{1}{3}$.\n"
   ]
  },
  {
   "cell_type": "code",
   "execution_count": null,
   "metadata": {},
   "outputs": [],
   "source": [
    "# simple random walk\n",
    "np.random.seed(10000)\n",
    "\n",
    "# initial collection of random walks, step[t] represents y-value of random walk at time t\n",
    "steps = []\n",
    "steps.append(0)\n",
    "\n",
    "# simple random walk until time n, stores each steps(y-values)\n",
    "def random_walk(n):    \n",
    "    for t in range(n):\n",
    "      # toss a biased coin\n",
    "      coin = np.random.randint(0, 3)\n",
    "\n",
    "      if coin == 0:\n",
    "        steps.append(steps[t] - 1)\n",
    "      else:\n",
    "        steps.append(steps[t] + 1)\n",
    "\n",
    "    return steps[n]\n",
    "\n",
    "random_walk(200)\n",
    "\n",
    "plt.plot(steps)\n",
    "plt.show()"
   ]
  },
  {
   "cell_type": "code",
   "execution_count": null,
   "metadata": {},
   "outputs": [],
   "source": [
    "# Initialization\n",
    "np.random.seed(99)\n",
    "\n",
    "# Initialize all_walks\n",
    "all_walks = []\n",
    "\n",
    "# Simulate random walk 10 times\n",
    "for i in range(10) :\n",
    "\n",
    "    random_walk = [0]\n",
    "    for x in range(100) :\n",
    "        step = random_walk[-1]\n",
    "        dice = np.random.randint(1,7)\n",
    "\n",
    "        if dice <= 2:\n",
    "            step = step - 1\n",
    "        elif dice <= 5:\n",
    "            step = step + 1\n",
    "        else:\n",
    "            step = step + np.random.randint(1,5)\n",
    "        random_walk.append(step)\n",
    "\n",
    "    # Append random_walk to all_walks\n",
    "    all_walks.append(random_walk)\n",
    "\n",
    "\n",
    "#print(all_walks)\n",
    "\n",
    "# Plot random_walk\n",
    "plt.plot(random_walk)\n",
    "\n",
    "# Show the plot\n",
    "plt.show()"
   ]
  }
 ],
 "metadata": {
  "kernelspec": {
   "display_name": "Python 3",
   "language": "python",
   "name": "python3"
  },
  "language_info": {
   "codemirror_mode": {
    "name": "ipython",
    "version": 3
   },
   "file_extension": ".py",
   "mimetype": "text/x-python",
   "name": "python",
   "nbconvert_exporter": "python",
   "pygments_lexer": "ipython3",
   "version": "3.11.3"
  },
  "orig_nbformat": 4
 },
 "nbformat": 4,
 "nbformat_minor": 2
}
