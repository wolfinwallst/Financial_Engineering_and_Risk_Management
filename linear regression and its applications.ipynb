{
 "cells": [
  {
   "attachments": {},
   "cell_type": "markdown",
   "metadata": {},
   "source": [
    "\n",
    "# #0. Regression analysis\n",
    "This is a powerful tool for uncovering the associations between variables observed in data(i.e. is a powerful tool for statistical inference), but cannot easily indicate causation. (This is the reason why we need a broad knowledge and insights on the economy and the market as a whole.)\n",
    "\n",
    "Two basic types of regression are:\n",
    "\n",
    "- *Simple linear regression*: w/ single independent variable & its regression model is given as:\n",
    "\n",
    "$$\n",
    "    y_i = \\beta_0 + \\beta_1 x_i + \\epsilon_i, \\text{ for } i = 1, \\ldots, n\n",
    "$$\n",
    "\n",
    "Let's define a problem: we will find $\\beta_0$ and $\\beta_1$ satisfying the regression model(a linear equation) which minimizes the errors\n",
    "\n",
    "Least squares estimates, i.e. ***regression parameters***, are given as:\n",
    "\\begin{align*}\n",
    "    \\hat{\\beta_1} &= \\frac{\\sum (x_i - \\bar{x}) (y_i - \\bar{y})}{\\sum (x_i - \\bar{x})^2} \\\\\n",
    "    \\hat{\\beta_0} &= \\bar{y} - \\hat{\\beta_1} \\bar{x}\n",
    "\\end{align*}\n",
    "where $\\bar{x}=\\frac{\\sum x_i}{n}$ is the mean of the $x$ values. (& the same for $\\bar{y}$)<br><br>\n",
    "\n",
    "- *Multiple linear regression*: this model uses two or more independent variables:\n",
    "\n",
    "$$\n",
    "    y = \\beta_0 + \\beta_1 x_1 + \\ldots + \\beta_n x_n + \\epsilon_i, \\text{ for } i = 1, \\ldots, n\n",
    "$$\n",
    "\n",
    "Other known estimation techniques are: Bayesian liner regression, Quantile regression, Mixed models, PCR(Principal Component Regression), Least-angle regression, Theil-Sen estimator, $\\alpha$-trimmed mean approach, L-, M-, S-, and R-estimators. will deal w/ this later.\n",
    "\n",
    "Its famous application includes: CAPM is an often-used regression model in finance for pricing assets and discovering costs of capital-"
   ]
  },
  {
   "attachments": {},
   "cell_type": "markdown",
   "metadata": {},
   "source": [
    "# #1. Linear Regresssion in Finance: computing beta and CAPM\n",
    "\n",
    "In this example, we apply (elementary) linear regression to compute the beta $\\beta$ of a single stock price, and then compute its CAPM.\n",
    "\n",
    "Secondly, we extend the same idea to a portfolio of stocks to obtain its beta and then associated CAPM.\n",
    "\n",
    "Recall that Capital Asset Pricing Model(CAPM) describes the relationship between the risk-free expected return of assets(such as *U.S. Treasury Bills*) and the systematic risk of the market(for example that of **S&P 500 index**). In other words, CAPM indicates that the expected return of an asset is equal to the risk-free return plus a risk premium. More explicilty this is given as the equation below.\n",
    "\n",
    "In short, ```CAPM formula``` is given as follows:\n",
    "$$\n",
    "    r_i = r_f + \\beta_i (r_m - r_f)\n",
    "$$\n",
    "where $r_i$ is the expected return of a security(or an asset $i$), $r_f$ is the *risk-free rate*, $\\beta_i$ is the beta of the security $i$ relative to the market, $r_i$ ,the market return, and $r_m - r_f$ is the so-called *risk premium*.\n",
    "\n",
    "For an individual stock, the expected return given by the above ```CAPM formula``` is not a particularly good predictor of the actual return. But, when the asset is a well-diversified portfoio of stocks, it is a much better predictor. As a result, the equation\n",
    "$$\n",
    "    \\text{Return on diversified portfolio } = r_f + \\beta (r_m - r_f)\n",
    "$$\n",
    "can be used as a basis for hedging a diversified portfolio. The $\\beta$ in the equation is the beta of the whole portfoilo and can be calculated as the weighted average of the betas of the stocks in the portfolio.[Hull(11th ed.), p97]\n",
    "\n",
    "- small digression<br>\n",
    "$r_f$ acounts for the time value of money and the remaining terms account for an additional risk. The goal of CAPM formula is to evaluate whether a stock is fairly valued when its risk and the time value of money are compared w/ its expected return. i.e. by knowing the individual parts of CAPM, it is possible to gauge whether the current price of a stock is consistent w/ its likely return.\n",
    "\n",
    "\n",
    "More on beta: Beta is a measure of a stock's volatility in relation to the overall market, e.g. *S&P 500 index*. In other words, Beta represents the slope of the regression line, which is the market return vs. the individual stocks return. Beta is used in the CAPM to describe the relationship between systematic risk, or market risk, and the expected return of an asset. By definition, overall market has beta of 1.0 and individual stocks are ranked by how volatile they are relative to the market. For example,\n",
    "- If $\\beta_i = 1.0$, this means the price of asset *i* is perfectly correlated w/ the market.\n",
    "- If $\\beta_i < 1.0$, then the security is theoretically less volatile than the market. This case is referred as '*defensive*'.\n",
    "- If $\\beta_i > 1.0$, then the asset price is more volatile than the market. Referred as '*aggresive*'<br><br>\n",
    "\n",
    "- Caution<br>\n",
    "When considering CAPM, one assumes there exists a risk-free asset with zero standard deviation. Also investors are assumed to be rational and want to maximize return and reduce risk as much as possible."
   ]
  },
  {
   "attachments": {},
   "cell_type": "markdown",
   "metadata": {},
   "source": [
    "# Ways of implementing *linear regression* in Python\n",
    "\n",
    "1. ```polyfit()``` & ```polyval()```\n",
    "\n",
    "2. "
   ]
  },
  {
   "cell_type": "code",
   "execution_count": 1,
   "metadata": {},
   "outputs": [
    {
     "name": "stderr",
     "output_type": "stream",
     "text": [
      "C:\\Users\\unbes\\AppData\\Local\\Temp\\ipykernel_16868\\268475495.py:5: MatplotlibDeprecationWarning: The seaborn styles shipped by Matplotlib are deprecated since 3.6, as they no longer correspond to the styles shipped by seaborn. However, they will remain available as 'seaborn-v0_8-<style>'. Alternatively, directly use the seaborn API instead.\n",
      "  plt.style.use('seaborn')\n"
     ]
    }
   ],
   "source": [
    "import pandas as pd\n",
    "import numpy as np\n",
    "from pylab import plt, mpl\n",
    "\n",
    "plt.style.use('seaborn')\n",
    "mpl.rcParams['font.family'] = 'serif'\n",
    "%matplotlib inline\n",
    "df = pd.read_csv('C:/Users/unbes/OneDrive/invest/Codes/ipynb/source/tr_eikon_eod_data.csv', \n",
    "                  index_col=0, parse_dates=True)\n",
    "\n",
    "import plotly.express as px # Python data visualization library_can create interactive and high-quality visulizations with minimal code."
   ]
  },
  {
   "cell_type": "code",
   "execution_count": 3,
   "metadata": {},
   "outputs": [
    {
     "name": "stdout",
     "output_type": "stream",
     "text": [
      "Collecting pandas-datareader\n",
      "  Downloading pandas_datareader-0.10.0-py3-none-any.whl (109 kB)\n",
      "     -------------------------------------- 109.5/109.5 kB 6.2 MB/s eta 0:00:00\n",
      "Collecting lxml\n",
      "  Downloading lxml-4.9.2-cp311-cp311-win_amd64.whl (3.8 MB)\n",
      "     ---------------------------------------- 3.8/3.8 MB 10.9 MB/s eta 0:00:00\n",
      "Requirement already satisfied: pandas>=0.23 in c:\\users\\unbes\\appdata\\local\\packages\\pythonsoftwarefoundation.python.3.11_qbz5n2kfra8p0\\localcache\\local-packages\\python311\\site-packages (from pandas-datareader) (2.0.0)\n",
      "Collecting requests>=2.19.0\n",
      "  Downloading requests-2.29.0-py3-none-any.whl (62 kB)\n",
      "     ---------------------------------------- 62.5/62.5 kB 3.3 MB/s eta 0:00:00\n",
      "Requirement already satisfied: python-dateutil>=2.8.2 in c:\\users\\unbes\\appdata\\local\\packages\\pythonsoftwarefoundation.python.3.11_qbz5n2kfra8p0\\localcache\\local-packages\\python311\\site-packages (from pandas>=0.23->pandas-datareader) (2.8.2)\n",
      "Requirement already satisfied: pytz>=2020.1 in c:\\users\\unbes\\appdata\\local\\packages\\pythonsoftwarefoundation.python.3.11_qbz5n2kfra8p0\\localcache\\local-packages\\python311\\site-packages (from pandas>=0.23->pandas-datareader) (2023.3)\n",
      "Requirement already satisfied: tzdata>=2022.1 in c:\\users\\unbes\\appdata\\local\\packages\\pythonsoftwarefoundation.python.3.11_qbz5n2kfra8p0\\localcache\\local-packages\\python311\\site-packages (from pandas>=0.23->pandas-datareader) (2023.3)\n",
      "Requirement already satisfied: numpy>=1.21.0 in c:\\users\\unbes\\appdata\\local\\packages\\pythonsoftwarefoundation.python.3.11_qbz5n2kfra8p0\\localcache\\local-packages\\python311\\site-packages (from pandas>=0.23->pandas-datareader) (1.24.2)\n",
      "Collecting charset-normalizer<4,>=2\n",
      "  Downloading charset_normalizer-3.1.0-cp311-cp311-win_amd64.whl (96 kB)\n",
      "     ---------------------------------------- 96.7/96.7 kB 5.8 MB/s eta 0:00:00\n",
      "Collecting idna<4,>=2.5\n",
      "  Downloading idna-3.4-py3-none-any.whl (61 kB)\n",
      "     ---------------------------------------- 61.5/61.5 kB 3.2 MB/s eta 0:00:00\n",
      "Collecting urllib3<1.27,>=1.21.1\n",
      "  Downloading urllib3-1.26.15-py2.py3-none-any.whl (140 kB)\n",
      "     -------------------------------------- 140.9/140.9 kB 8.2 MB/s eta 0:00:00\n",
      "Collecting certifi>=2017.4.17\n",
      "  Downloading certifi-2022.12.7-py3-none-any.whl (155 kB)\n",
      "     -------------------------------------- 155.3/155.3 kB 9.1 MB/s eta 0:00:00\n",
      "Requirement already satisfied: six>=1.5 in c:\\users\\unbes\\appdata\\local\\packages\\pythonsoftwarefoundation.python.3.11_qbz5n2kfra8p0\\localcache\\local-packages\\python311\\site-packages (from python-dateutil>=2.8.2->pandas>=0.23->pandas-datareader) (1.16.0)\n",
      "Installing collected packages: urllib3, lxml, idna, charset-normalizer, certifi, requests, pandas-datareader\n",
      "Successfully installed certifi-2022.12.7 charset-normalizer-3.1.0 idna-3.4 lxml-4.9.2 pandas-datareader-0.10.0 requests-2.29.0 urllib3-1.26.15\n"
     ]
    },
    {
     "name": "stderr",
     "output_type": "stream",
     "text": [
      "\n",
      "[notice] A new release of pip available: 22.3.1 -> 23.1.2\n",
      "[notice] To update, run: C:\\Users\\unbes\\AppData\\Local\\Microsoft\\WindowsApps\\PythonSoftwareFoundation.Python.3.11_qbz5n2kfra8p0\\python.exe -m pip install --upgrade pip\n"
     ]
    }
   ],
   "source": [
    "# pandas-datareader이 미설치 상태여서 아래 코드로 설치했다.\n",
    "# !pip install \n",
    "\n",
    "\n",
    "# 아래는 그 결과\n",
    "# Collecting pandas-datareader\n",
    "#   Downloading pandas_datareader-0.10.0-py3-none-any.whl (109 kB)\n",
    "#      -------------------------------------- 109.5/109.5 kB 6.2 MB/s eta 0:00:00\n",
    "# Collecting lxml\n",
    "#   Downloading lxml-4.9.2-cp311-cp311-win_amd64.whl (3.8 MB)\n",
    "#      ---------------------------------------- 3.8/3.8 MB 10.9 MB/s eta 0:00:00\n",
    "# Requirement already satisfied: pandas>=0.23 in c:\\users\\unbes\\appdata\\local\\packages\\pythonsoftwarefoundation.python.3.11_qbz5n2kfra8p0\\localcache\\local-packages\\python311\\site-packages (from pandas-datareader) (2.0.0)\n",
    "# Collecting requests>=2.19.0\n",
    "#   Downloading requests-2.29.0-py3-none-any.whl (62 kB)\n",
    "#      ---------------------------------------- 62.5/62.5 kB 3.3 MB/s eta 0:00:00\n",
    "# Requirement already satisfied: python-dateutil>=2.8.2 in c:\\users\\unbes\\appdata\\local\\packages\\pythonsoftwarefoundation.python.3.11_qbz5n2kfra8p0\\localcache\\local-packages\\python311\\site-packages (from pandas>=0.23->pandas-datareader) (2.8.2)\n",
    "# Requirement already satisfied: pytz>=2020.1 in c:\\users\\unbes\\appdata\\local\\packages\\pythonsoftwarefoundation.python.3.11_qbz5n2kfra8p0\\localcache\\local-packages\\python311\\site-packages (from pandas>=0.23->pandas-datareader) (2023.3)\n",
    "# Requirement already satisfied: tzdata>=2022.1 in c:\\users\\unbes\\appdata\\local\\packages\\pythonsoftwarefoundation.python.3.11_qbz5n2kfra8p0\\localcache\\local-packages\\python311\\site-packages (from pandas>=0.23->pandas-datareader) (2023.3)\n",
    "# Requirement already satisfied: numpy>=1.21.0 in c:\\users\\unbes\\appdata\\local\\packages\\pythonsoftwarefoundation.python.3.11_qbz5n2kfra8p0\\localcache\\local-packages\\python311\\site-packages (from pandas>=0.23->pandas-datareader) (1.24.2)\n",
    "# Collecting charset-normalizer<4,>=2\n",
    "#   Downloading charset_normalizer-3.1.0-cp311-cp311-win_amd64.whl (96 kB)\n",
    "#      ---------------------------------------- 96.7/96.7 kB 5.8 MB/s eta 0:00:00\n",
    "# Collecting idna<4,>=2.5\n",
    "#   Downloading idna-3.4-py3-none-any.whl (61 kB)\n",
    "#      ---------------------------------------- 61.5/61.5 kB 3.2 MB/s eta 0:00:00\n",
    "# Collecting urllib3<1.27,>=1.21.1\n",
    "#   Downloading urllib3-1.26.15-py2.py3-none-any.whl (140 kB)\n",
    "#      -------------------------------------- 140.9/140.9 kB 8.2 MB/s eta 0:00:00\n",
    "# Collecting certifi>=2017.4.17\n",
    "#   Downloading certifi-2022.12.7-py3-none-any.whl (155 kB)\n",
    "#      -------------------------------------- 155.3/155.3 kB 9.1 MB/s eta 0:00:00\n",
    "# Requirement already satisfied: six>=1.5 in c:\\users\\unbes\\appdata\\local\\packages\\pythonsoftwarefoundation.python.3.11_qbz5n2kfra8p0\\localcache\\local-packages\\python311\\site-packages (from python-dateutil>=2.8.2->pandas>=0.23->pandas-datareader) (1.16.0)\n",
    "# Installing collected packages: urllib3, lxml, idna, charset-normalizer, certifi, requests, pandas-datareader\n",
    "# Successfully installed certifi-2022.12.7 charset-normalizer-3.1.0 idna-3.4 lxml-4.9.2 pandas-datareader-0.10.0 requests-2.29.0 urllib3-1.26.15\n",
    "\n",
    "# [notice] A new release of pip available: 22.3.1 -> 23.1.2\n",
    "# [notice] To update, run: C:\\Users\\unbes\\AppData\\Local\\Microsoft\\WindowsApps\\PythonSoftwareFoundation.Python.3.11_qbz5n2kfra8p0\\python.exe -m pip install --upgrade pip"
   ]
  },
  {
   "cell_type": "code",
   "execution_count": null,
   "metadata": {},
   "outputs": [],
   "source": [
    "# import pandas_datareader as pdr\n",
    "\n",
    "# prices = pdr.get_data_yahoo(['GOOGL', 'AAPL', 'MSFT', 'FB'], start='2013-01-01', end='2013-12-31')['Adj Close']\n",
    "# prices.head()"
   ]
  },
  {
   "cell_type": "code",
   "execution_count": null,
   "metadata": {},
   "outputs": [],
   "source": []
  },
  {
   "cell_type": "code",
   "execution_count": 6,
   "metadata": {},
   "outputs": [
    {
     "data": {
      "text/html": [
       "<div>\n",
       "<style scoped>\n",
       "    .dataframe tbody tr th:only-of-type {\n",
       "        vertical-align: middle;\n",
       "    }\n",
       "\n",
       "    .dataframe tbody tr th {\n",
       "        vertical-align: top;\n",
       "    }\n",
       "\n",
       "    .dataframe thead th {\n",
       "        text-align: right;\n",
       "    }\n",
       "</style>\n",
       "<table border=\"1\" class=\"dataframe\">\n",
       "  <thead>\n",
       "    <tr style=\"text-align: right;\">\n",
       "      <th></th>\n",
       "      <th>AAPL.O</th>\n",
       "      <th>MSFT.O</th>\n",
       "      <th>INTC.O</th>\n",
       "      <th>AMZN.O</th>\n",
       "      <th>GS.N</th>\n",
       "      <th>SPY</th>\n",
       "      <th>.SPX</th>\n",
       "      <th>.VIX</th>\n",
       "      <th>EUR=</th>\n",
       "      <th>XAU=</th>\n",
       "      <th>GDX</th>\n",
       "      <th>GLD</th>\n",
       "    </tr>\n",
       "    <tr>\n",
       "      <th>Date</th>\n",
       "      <th></th>\n",
       "      <th></th>\n",
       "      <th></th>\n",
       "      <th></th>\n",
       "      <th></th>\n",
       "      <th></th>\n",
       "      <th></th>\n",
       "      <th></th>\n",
       "      <th></th>\n",
       "      <th></th>\n",
       "      <th></th>\n",
       "      <th></th>\n",
       "    </tr>\n",
       "  </thead>\n",
       "  <tbody>\n",
       "    <tr>\n",
       "      <th>2010-01-01</th>\n",
       "      <td>NaN</td>\n",
       "      <td>NaN</td>\n",
       "      <td>NaN</td>\n",
       "      <td>NaN</td>\n",
       "      <td>NaN</td>\n",
       "      <td>NaN</td>\n",
       "      <td>NaN</td>\n",
       "      <td>NaN</td>\n",
       "      <td>1.4323</td>\n",
       "      <td>1096.35</td>\n",
       "      <td>NaN</td>\n",
       "      <td>NaN</td>\n",
       "    </tr>\n",
       "    <tr>\n",
       "      <th>2010-01-04</th>\n",
       "      <td>30.572827</td>\n",
       "      <td>30.950</td>\n",
       "      <td>20.88</td>\n",
       "      <td>133.90</td>\n",
       "      <td>173.08</td>\n",
       "      <td>113.33</td>\n",
       "      <td>1132.99</td>\n",
       "      <td>20.04</td>\n",
       "      <td>1.4411</td>\n",
       "      <td>1120.00</td>\n",
       "      <td>47.71</td>\n",
       "      <td>109.80</td>\n",
       "    </tr>\n",
       "    <tr>\n",
       "      <th>2010-01-05</th>\n",
       "      <td>30.625684</td>\n",
       "      <td>30.960</td>\n",
       "      <td>20.87</td>\n",
       "      <td>134.69</td>\n",
       "      <td>176.14</td>\n",
       "      <td>113.63</td>\n",
       "      <td>1136.52</td>\n",
       "      <td>19.35</td>\n",
       "      <td>1.4368</td>\n",
       "      <td>1118.65</td>\n",
       "      <td>48.17</td>\n",
       "      <td>109.70</td>\n",
       "    </tr>\n",
       "    <tr>\n",
       "      <th>2010-01-06</th>\n",
       "      <td>30.138541</td>\n",
       "      <td>30.770</td>\n",
       "      <td>20.80</td>\n",
       "      <td>132.25</td>\n",
       "      <td>174.26</td>\n",
       "      <td>113.71</td>\n",
       "      <td>1137.14</td>\n",
       "      <td>19.16</td>\n",
       "      <td>1.4412</td>\n",
       "      <td>1138.50</td>\n",
       "      <td>49.34</td>\n",
       "      <td>111.51</td>\n",
       "    </tr>\n",
       "    <tr>\n",
       "      <th>2010-01-07</th>\n",
       "      <td>30.082827</td>\n",
       "      <td>30.452</td>\n",
       "      <td>20.60</td>\n",
       "      <td>130.00</td>\n",
       "      <td>177.67</td>\n",
       "      <td>114.19</td>\n",
       "      <td>1141.69</td>\n",
       "      <td>19.06</td>\n",
       "      <td>1.4318</td>\n",
       "      <td>1131.90</td>\n",
       "      <td>49.10</td>\n",
       "      <td>110.82</td>\n",
       "    </tr>\n",
       "    <tr>\n",
       "      <th>...</th>\n",
       "      <td>...</td>\n",
       "      <td>...</td>\n",
       "      <td>...</td>\n",
       "      <td>...</td>\n",
       "      <td>...</td>\n",
       "      <td>...</td>\n",
       "      <td>...</td>\n",
       "      <td>...</td>\n",
       "      <td>...</td>\n",
       "      <td>...</td>\n",
       "      <td>...</td>\n",
       "      <td>...</td>\n",
       "    </tr>\n",
       "    <tr>\n",
       "      <th>2018-06-25</th>\n",
       "      <td>182.170000</td>\n",
       "      <td>98.390</td>\n",
       "      <td>50.71</td>\n",
       "      <td>1663.15</td>\n",
       "      <td>221.54</td>\n",
       "      <td>271.00</td>\n",
       "      <td>2717.07</td>\n",
       "      <td>17.33</td>\n",
       "      <td>1.1702</td>\n",
       "      <td>1265.00</td>\n",
       "      <td>22.01</td>\n",
       "      <td>119.89</td>\n",
       "    </tr>\n",
       "    <tr>\n",
       "      <th>2018-06-26</th>\n",
       "      <td>184.430000</td>\n",
       "      <td>99.080</td>\n",
       "      <td>49.67</td>\n",
       "      <td>1691.09</td>\n",
       "      <td>221.58</td>\n",
       "      <td>271.60</td>\n",
       "      <td>2723.06</td>\n",
       "      <td>15.92</td>\n",
       "      <td>1.1645</td>\n",
       "      <td>1258.64</td>\n",
       "      <td>21.95</td>\n",
       "      <td>119.26</td>\n",
       "    </tr>\n",
       "    <tr>\n",
       "      <th>2018-06-27</th>\n",
       "      <td>184.160000</td>\n",
       "      <td>97.540</td>\n",
       "      <td>48.76</td>\n",
       "      <td>1660.51</td>\n",
       "      <td>220.18</td>\n",
       "      <td>269.35</td>\n",
       "      <td>2699.63</td>\n",
       "      <td>17.91</td>\n",
       "      <td>1.1552</td>\n",
       "      <td>1251.62</td>\n",
       "      <td>21.81</td>\n",
       "      <td>118.58</td>\n",
       "    </tr>\n",
       "    <tr>\n",
       "      <th>2018-06-28</th>\n",
       "      <td>185.500000</td>\n",
       "      <td>98.630</td>\n",
       "      <td>49.25</td>\n",
       "      <td>1701.45</td>\n",
       "      <td>223.42</td>\n",
       "      <td>270.89</td>\n",
       "      <td>2716.31</td>\n",
       "      <td>16.85</td>\n",
       "      <td>1.1567</td>\n",
       "      <td>1247.88</td>\n",
       "      <td>21.93</td>\n",
       "      <td>118.22</td>\n",
       "    </tr>\n",
       "    <tr>\n",
       "      <th>2018-06-29</th>\n",
       "      <td>185.110000</td>\n",
       "      <td>98.610</td>\n",
       "      <td>49.71</td>\n",
       "      <td>1699.80</td>\n",
       "      <td>220.57</td>\n",
       "      <td>271.28</td>\n",
       "      <td>2718.37</td>\n",
       "      <td>16.09</td>\n",
       "      <td>1.1683</td>\n",
       "      <td>1252.25</td>\n",
       "      <td>22.31</td>\n",
       "      <td>118.65</td>\n",
       "    </tr>\n",
       "  </tbody>\n",
       "</table>\n",
       "<p>2216 rows × 12 columns</p>\n",
       "</div>"
      ],
      "text/plain": [
       "                AAPL.O  MSFT.O  INTC.O   AMZN.O    GS.N     SPY     .SPX   \n",
       "Date                                                                       \n",
       "2010-01-01         NaN     NaN     NaN      NaN     NaN     NaN      NaN  \\\n",
       "2010-01-04   30.572827  30.950   20.88   133.90  173.08  113.33  1132.99   \n",
       "2010-01-05   30.625684  30.960   20.87   134.69  176.14  113.63  1136.52   \n",
       "2010-01-06   30.138541  30.770   20.80   132.25  174.26  113.71  1137.14   \n",
       "2010-01-07   30.082827  30.452   20.60   130.00  177.67  114.19  1141.69   \n",
       "...                ...     ...     ...      ...     ...     ...      ...   \n",
       "2018-06-25  182.170000  98.390   50.71  1663.15  221.54  271.00  2717.07   \n",
       "2018-06-26  184.430000  99.080   49.67  1691.09  221.58  271.60  2723.06   \n",
       "2018-06-27  184.160000  97.540   48.76  1660.51  220.18  269.35  2699.63   \n",
       "2018-06-28  185.500000  98.630   49.25  1701.45  223.42  270.89  2716.31   \n",
       "2018-06-29  185.110000  98.610   49.71  1699.80  220.57  271.28  2718.37   \n",
       "\n",
       "             .VIX    EUR=     XAU=    GDX     GLD  \n",
       "Date                                               \n",
       "2010-01-01    NaN  1.4323  1096.35    NaN     NaN  \n",
       "2010-01-04  20.04  1.4411  1120.00  47.71  109.80  \n",
       "2010-01-05  19.35  1.4368  1118.65  48.17  109.70  \n",
       "2010-01-06  19.16  1.4412  1138.50  49.34  111.51  \n",
       "2010-01-07  19.06  1.4318  1131.90  49.10  110.82  \n",
       "...           ...     ...      ...    ...     ...  \n",
       "2018-06-25  17.33  1.1702  1265.00  22.01  119.89  \n",
       "2018-06-26  15.92  1.1645  1258.64  21.95  119.26  \n",
       "2018-06-27  17.91  1.1552  1251.62  21.81  118.58  \n",
       "2018-06-28  16.85  1.1567  1247.88  21.93  118.22  \n",
       "2018-06-29  16.09  1.1683  1252.25  22.31  118.65  \n",
       "\n",
       "[2216 rows x 12 columns]"
      ]
     },
     "execution_count": 6,
     "metadata": {},
     "output_type": "execute_result"
    }
   ],
   "source": [
    "df"
   ]
  },
  {
   "cell_type": "code",
   "execution_count": null,
   "metadata": {},
   "outputs": [],
   "source": [
    "df."
   ]
  },
  {
   "cell_type": "code",
   "execution_count": 7,
   "metadata": {},
   "outputs": [
    {
     "name": "stdout",
     "output_type": "stream",
     "text": [
      "<class 'pandas.core.frame.DataFrame'>\n",
      "DatetimeIndex: 2216 entries, 2010-01-01 to 2018-06-29\n",
      "Data columns (total 12 columns):\n",
      " #   Column  Non-Null Count  Dtype  \n",
      "---  ------  --------------  -----  \n",
      " 0   AAPL.O  2138 non-null   float64\n",
      " 1   MSFT.O  2138 non-null   float64\n",
      " 2   INTC.O  2138 non-null   float64\n",
      " 3   AMZN.O  2138 non-null   float64\n",
      " 4   GS.N    2138 non-null   float64\n",
      " 5   SPY     2138 non-null   float64\n",
      " 6   .SPX    2138 non-null   float64\n",
      " 7   .VIX    2138 non-null   float64\n",
      " 8   EUR=    2216 non-null   float64\n",
      " 9   XAU=    2211 non-null   float64\n",
      " 10  GDX     2138 non-null   float64\n",
      " 11  GLD     2138 non-null   float64\n",
      "dtypes: float64(12)\n",
      "memory usage: 225.1 KB\n"
     ]
    }
   ],
   "source": [
    "df.info()"
   ]
  },
  {
   "cell_type": "code",
   "execution_count": 8,
   "metadata": {},
   "outputs": [
    {
     "data": {
      "text/plain": [
       "<bound method DataFrame.info of                 AAPL.O  MSFT.O  INTC.O   AMZN.O    GS.N     SPY     .SPX   \n",
       "Date                                                                       \n",
       "2010-01-01         NaN     NaN     NaN      NaN     NaN     NaN      NaN  \\\n",
       "2010-01-04   30.572827  30.950   20.88   133.90  173.08  113.33  1132.99   \n",
       "2010-01-05   30.625684  30.960   20.87   134.69  176.14  113.63  1136.52   \n",
       "2010-01-06   30.138541  30.770   20.80   132.25  174.26  113.71  1137.14   \n",
       "2010-01-07   30.082827  30.452   20.60   130.00  177.67  114.19  1141.69   \n",
       "...                ...     ...     ...      ...     ...     ...      ...   \n",
       "2018-06-25  182.170000  98.390   50.71  1663.15  221.54  271.00  2717.07   \n",
       "2018-06-26  184.430000  99.080   49.67  1691.09  221.58  271.60  2723.06   \n",
       "2018-06-27  184.160000  97.540   48.76  1660.51  220.18  269.35  2699.63   \n",
       "2018-06-28  185.500000  98.630   49.25  1701.45  223.42  270.89  2716.31   \n",
       "2018-06-29  185.110000  98.610   49.71  1699.80  220.57  271.28  2718.37   \n",
       "\n",
       "             .VIX    EUR=     XAU=    GDX     GLD  \n",
       "Date                                               \n",
       "2010-01-01    NaN  1.4323  1096.35    NaN     NaN  \n",
       "2010-01-04  20.04  1.4411  1120.00  47.71  109.80  \n",
       "2010-01-05  19.35  1.4368  1118.65  48.17  109.70  \n",
       "2010-01-06  19.16  1.4412  1138.50  49.34  111.51  \n",
       "2010-01-07  19.06  1.4318  1131.90  49.10  110.82  \n",
       "...           ...     ...      ...    ...     ...  \n",
       "2018-06-25  17.33  1.1702  1265.00  22.01  119.89  \n",
       "2018-06-26  15.92  1.1645  1258.64  21.95  119.26  \n",
       "2018-06-27  17.91  1.1552  1251.62  21.81  118.58  \n",
       "2018-06-28  16.85  1.1567  1247.88  21.93  118.22  \n",
       "2018-06-29  16.09  1.1683  1252.25  22.31  118.65  \n",
       "\n",
       "[2216 rows x 12 columns]>"
      ]
     },
     "execution_count": 8,
     "metadata": {},
     "output_type": "execute_result"
    }
   ],
   "source": [
    "df.info"
   ]
  },
  {
   "cell_type": "code",
   "execution_count": 9,
   "metadata": {},
   "outputs": [
    {
     "data": {
      "text/plain": [
       "<bound method NDFrame.head of                 AAPL.O  MSFT.O  INTC.O   AMZN.O    GS.N     SPY     .SPX   \n",
       "Date                                                                       \n",
       "2010-01-01         NaN     NaN     NaN      NaN     NaN     NaN      NaN  \\\n",
       "2010-01-04   30.572827  30.950   20.88   133.90  173.08  113.33  1132.99   \n",
       "2010-01-05   30.625684  30.960   20.87   134.69  176.14  113.63  1136.52   \n",
       "2010-01-06   30.138541  30.770   20.80   132.25  174.26  113.71  1137.14   \n",
       "2010-01-07   30.082827  30.452   20.60   130.00  177.67  114.19  1141.69   \n",
       "...                ...     ...     ...      ...     ...     ...      ...   \n",
       "2018-06-25  182.170000  98.390   50.71  1663.15  221.54  271.00  2717.07   \n",
       "2018-06-26  184.430000  99.080   49.67  1691.09  221.58  271.60  2723.06   \n",
       "2018-06-27  184.160000  97.540   48.76  1660.51  220.18  269.35  2699.63   \n",
       "2018-06-28  185.500000  98.630   49.25  1701.45  223.42  270.89  2716.31   \n",
       "2018-06-29  185.110000  98.610   49.71  1699.80  220.57  271.28  2718.37   \n",
       "\n",
       "             .VIX    EUR=     XAU=    GDX     GLD  \n",
       "Date                                               \n",
       "2010-01-01    NaN  1.4323  1096.35    NaN     NaN  \n",
       "2010-01-04  20.04  1.4411  1120.00  47.71  109.80  \n",
       "2010-01-05  19.35  1.4368  1118.65  48.17  109.70  \n",
       "2010-01-06  19.16  1.4412  1138.50  49.34  111.51  \n",
       "2010-01-07  19.06  1.4318  1131.90  49.10  110.82  \n",
       "...           ...     ...      ...    ...     ...  \n",
       "2018-06-25  17.33  1.1702  1265.00  22.01  119.89  \n",
       "2018-06-26  15.92  1.1645  1258.64  21.95  119.26  \n",
       "2018-06-27  17.91  1.1552  1251.62  21.81  118.58  \n",
       "2018-06-28  16.85  1.1567  1247.88  21.93  118.22  \n",
       "2018-06-29  16.09  1.1683  1252.25  22.31  118.65  \n",
       "\n",
       "[2216 rows x 12 columns]>"
      ]
     },
     "execution_count": 9,
     "metadata": {},
     "output_type": "execute_result"
    }
   ],
   "source": [
    "df.head"
   ]
  },
  {
   "cell_type": "code",
   "execution_count": 10,
   "metadata": {},
   "outputs": [],
   "source": [
    "df = df.dropna()"
   ]
  },
  {
   "cell_type": "code",
   "execution_count": null,
   "metadata": {},
   "outputs": [],
   "source": [
    "df['Date'] = df.transpose\n",
    "df"
   ]
  },
  {
   "cell_type": "code",
   "execution_count": null,
   "metadata": {},
   "outputs": [],
   "source": [
    "# Take AAPL as our 1st example\n",
    "stocks_df = df['AAPL.O']"
   ]
  },
  {
   "cell_type": "code",
   "execution_count": null,
   "metadata": {},
   "outputs": [],
   "source": [
    "# normalize stock data based on initial price\n",
    "def normalize(df):\n",
    "    x = df.copy()\n",
    "    for i in x.columns[1:]:\n",
    "        x[i] = x[i]/x[i][0]\n",
    "    return x\n",
    "\n",
    "# function to plot interactive plot\n",
    "def interactive_plot(df, title):\n",
    "    fig = px.line(title=title)  # 우선 빈 그래프 객체를 생성\n",
    "    for i in df.columns[1:]:\n",
    "        fig.add_scatter(x=df['Date'], y=df[i], name=i)  # 각 열을 돌며 add_scatter로 선 그래프를 추가\n",
    "    fig.show()\n",
    "\n",
    "interactive_plot(normalize(df), 'Normalized Prices')"
   ]
  },
  {
   "attachments": {},
   "cell_type": "markdown",
   "metadata": {},
   "source": [
    "# Calculating daily returns"
   ]
  },
  {
   "cell_type": "code",
   "execution_count": null,
   "metadata": {},
   "outputs": [],
   "source": [
    "def daily_return(df):\n",
    "    df_daily_return = df.copy()\n",
    "    for i in df.columns[1:]:\n",
    "        for j in range(1, len(df)):\n",
    "            df_daily_return[i][j] = ((df[i][j] - df[i][j - 1]) / df[i][j - 1]) * 100\n",
    "        df_daily_return[i][0] = 0\n",
    "    return df_daily_return\n",
    "\n",
    "stocks_daily_return = daily_return(stocks_df)\n",
    "stocks_daily_return"
   ]
  },
  {
   "attachments": {},
   "cell_type": "markdown",
   "metadata": {},
   "source": [
    "# calculating beta(and alpha) for a single stock price\n",
    "...relative to S&P 500 index.\n",
    "\n",
    "Recall that beta is the slope of the regression line, i.e., the market return vs. stock('AAPL') return. Here we use ```np.polyfit()```:"
   ]
  },
  {
   "cell_type": "code",
   "execution_count": null,
   "metadata": {},
   "outputs": [],
   "source": [
    "beta, alpha = np.polyfit(stocks_daily_return['SPY'], stocks_daily_return['AAPL'], 1)\n",
    "print('Beta for {} stock is = {} and alpha is ={}'.format('AAPL', beta, alpha))"
   ]
  },
  {
   "attachments": {},
   "cell_type": "markdown",
   "metadata": {},
   "source": [
    "# Calculating CAPM for a single stock"
   ]
  },
  {
   "cell_type": "code",
   "execution_count": null,
   "metadata": {},
   "outputs": [],
   "source": [
    "stocks_daily_return['sp500'].mean()"
   ]
  },
  {
   "cell_type": "code",
   "execution_count": null,
   "metadata": {},
   "outputs": [],
   "source": [
    "# annual average market return\n",
    "rm = stocks_daily_return['sp500'].mean() * 252"
   ]
  },
  {
   "cell_type": "code",
   "execution_count": null,
   "metadata": {},
   "outputs": [],
   "source": [
    "# setting Risk-free rate = 0\n",
    "rf = 0\n",
    "\n",
    "# CAPM for AAPL\n",
    "ER_AAPL = rf + beta * (beta - rf)\n",
    "ER_AAPL"
   ]
  },
  {
   "attachments": {},
   "cell_type": "markdown",
   "metadata": {},
   "source": [
    "# Calculating beta for a portfolio of stocks"
   ]
  },
  {
   "cell_type": "code",
   "execution_count": null,
   "metadata": {},
   "outputs": [],
   "source": [
    "beta = {}\n",
    "alpha = {}\n",
    "\n",
    "for i in stocks_daily_return.columns:\n",
    "    if i != 'Date' and i != 'sp500':\n",
    "        stocks_daily_return.plot(kind='scatter', x='sp500', y=i)\n",
    "        b, a = np.polyfit(stocks_daily_return['sp500'], stocks_daily_return[i], 1)\n",
    "        plt.plot(stocks_daily_return['sp500'], b * stocks_daily_return['sp500'] + a, '-', color='r')\n",
    "        beta[i] = b\n",
    "        alpha[i] = a\n",
    "        plt.show()"
   ]
  },
  {
   "cell_type": "code",
   "execution_count": null,
   "metadata": {},
   "outputs": [],
   "source": [
    "beta"
   ]
  },
  {
   "cell_type": "code",
   "execution_count": null,
   "metadata": {},
   "outputs": [],
   "source": [
    "alpha"
   ]
  },
  {
   "attachments": {},
   "cell_type": "markdown",
   "metadata": {},
   "source": [
    "# calculating CAPM for a portfolio of stocks"
   ]
  },
  {
   "cell_type": "code",
   "execution_count": null,
   "metadata": {},
   "outputs": [],
   "source": [
    "keys = list(beta.keys())\n",
    "\n",
    "ER = {}\n",
    "\n",
    "rf = 0\n",
    "rm = stocks_daily_return['sp500'].mean() * 252"
   ]
  },
  {
   "cell_type": "code",
   "execution_count": null,
   "metadata": {},
   "outputs": [],
   "source": [
    "for i in keys:\n",
    "    ER[i] = rf + beta[i] * (rm - rf)\n",
    "\n",
    "for i in keys:\n",
    "    print('Expected Return Based on CAPM for {} is {}%'.format(i, ER[i]))"
   ]
  },
  {
   "cell_type": "code",
   "execution_count": null,
   "metadata": {},
   "outputs": [],
   "source": [
    "portfolio_weights = 1/8 * np.ones(8)\n",
    "ER_portfolio = sum(list(ER.values())) * portfolio_weights\n",
    "\n",
    "print('Expected Return Based on CAPM for the pportfolio is {}%\\n'.format(ER_portfolio))"
   ]
  }
 ],
 "metadata": {
  "kernelspec": {
   "display_name": "Python 3",
   "language": "python",
   "name": "python3"
  },
  "language_info": {
   "codemirror_mode": {
    "name": "ipython",
    "version": 3
   },
   "file_extension": ".py",
   "mimetype": "text/x-python",
   "name": "python",
   "nbconvert_exporter": "python",
   "pygments_lexer": "ipython3",
   "version": "3.11.3"
  },
  "orig_nbformat": 4
 },
 "nbformat": 4,
 "nbformat_minor": 2
}
